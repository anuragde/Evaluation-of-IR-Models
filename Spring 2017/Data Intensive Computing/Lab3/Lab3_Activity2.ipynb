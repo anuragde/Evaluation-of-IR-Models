{
 "cells": [
  {
   "cell_type": "code",
   "execution_count": 486,
   "metadata": {
    "collapsed": true
   },
   "outputs": [],
   "source": [
    "library('magrittr')"
   ]
  },
  {
   "cell_type": "code",
   "execution_count": 487,
   "metadata": {
    "collapsed": false
   },
   "outputs": [],
   "source": [
    "library('dplyr')"
   ]
  },
  {
   "cell_type": "code",
   "execution_count": 488,
   "metadata": {
    "collapsed": true
   },
   "outputs": [],
   "source": [
    "library('class')"
   ]
  },
  {
   "cell_type": "markdown",
   "metadata": {},
   "source": [
    "Reading the input csv file into a data frame"
   ]
  },
  {
   "cell_type": "code",
   "execution_count": 489,
   "metadata": {
    "collapsed": false
   },
   "outputs": [],
   "source": [
    "inputDataFrame <- read.csv(\"german_credit_data1.csv\")"
   ]
  },
  {
   "cell_type": "code",
   "execution_count": 490,
   "metadata": {
    "collapsed": false
   },
   "outputs": [
    {
     "data": {
      "text/html": [
       "<table>\n",
       "<thead><tr><th></th><th scope=col>X.</th><th scope=col>Age</th><th scope=col>Sex</th><th scope=col>Job</th><th scope=col>Housing</th><th scope=col>Saving.accounts</th><th scope=col>Checking.account</th><th scope=col>Credit.amount</th><th scope=col>Duration</th><th scope=col>Purpose</th><th scope=col>Credit.Risks</th></tr></thead>\n",
       "<tbody>\n",
       "\t<tr><th scope=row>1</th><td>0       </td><td>67      </td><td>male    </td><td>2       </td><td>own     </td><td>NA      </td><td>little  </td><td>1169    </td><td>6       </td><td>radio/TV</td><td>1       </td></tr>\n",
       "\t<tr><th scope=row>2</th><td>1       </td><td>22      </td><td>female  </td><td>2       </td><td>own     </td><td>little  </td><td>moderate</td><td>5951    </td><td>48      </td><td>radio/TV</td><td>2       </td></tr>\n",
       "\t<tr><th scope=row>3</th><td>2        </td><td>49       </td><td>male     </td><td>1        </td><td>own      </td><td>little   </td><td>NA       </td><td>2096     </td><td>12       </td><td>education</td><td>1        </td></tr>\n",
       "\t<tr><th scope=row>4</th><td>3                  </td><td>45                 </td><td>male               </td><td>2                  </td><td>free               </td><td>little             </td><td>little             </td><td>7882               </td><td>42                 </td><td>furniture/equipment</td><td>1                  </td></tr>\n",
       "\t<tr><th scope=row>5</th><td>4     </td><td>53    </td><td>male  </td><td>2     </td><td>free  </td><td>little</td><td>little</td><td>4870  </td><td>24    </td><td>car   </td><td>2     </td></tr>\n",
       "\t<tr><th scope=row>6</th><td>5        </td><td>35       </td><td>male     </td><td>1        </td><td>free     </td><td>NA       </td><td>NA       </td><td>9055     </td><td>36       </td><td>education</td><td>1        </td></tr>\n",
       "</tbody>\n",
       "</table>\n"
      ],
      "text/latex": [
       "\\begin{tabular}{r|lllllllllll}\n",
       "  & X. & Age & Sex & Job & Housing & Saving.accounts & Checking.account & Credit.amount & Duration & Purpose & Credit.Risks\\\\\n",
       "\\hline\n",
       "\t1 & 0        & 67       & male     & 2        & own      & NA       & little   & 1169     & 6        & radio/TV & 1       \\\\\n",
       "\t2 & 1        & 22       & female   & 2        & own      & little   & moderate & 5951     & 48       & radio/TV & 2       \\\\\n",
       "\t3 & 2         & 49        & male      & 1         & own       & little    & NA        & 2096      & 12        & education & 1        \\\\\n",
       "\t4 & 3                   & 45                  & male                & 2                   & free                & little              & little              & 7882                & 42                  & furniture/equipment & 1                  \\\\\n",
       "\t5 & 4      & 53     & male   & 2      & free   & little & little & 4870   & 24     & car    & 2     \\\\\n",
       "\t6 & 5         & 35        & male      & 1         & free      & NA        & NA        & 9055      & 36        & education & 1        \\\\\n",
       "\\end{tabular}\n"
      ],
      "text/plain": [
       "  X. Age    Sex Job Housing Saving.accounts Checking.account Credit.amount\n",
       "1  0  67   male   2     own            <NA>           little          1169\n",
       "2  1  22 female   2     own          little         moderate          5951\n",
       "3  2  49   male   1     own          little             <NA>          2096\n",
       "4  3  45   male   2    free          little           little          7882\n",
       "5  4  53   male   2    free          little           little          4870\n",
       "6  5  35   male   1    free            <NA>             <NA>          9055\n",
       "  Duration             Purpose Credit.Risks\n",
       "1        6            radio/TV            1\n",
       "2       48            radio/TV            2\n",
       "3       12           education            1\n",
       "4       42 furniture/equipment            1\n",
       "5       24                 car            2\n",
       "6       36           education            1"
      ]
     },
     "metadata": {},
     "output_type": "display_data"
    }
   ],
   "source": [
    "head(inputDataFrame)"
   ]
  },
  {
   "cell_type": "markdown",
   "metadata": {},
   "source": [
    "Selecting the required columns from the data frame and omitting the null values"
   ]
  },
  {
   "cell_type": "code",
   "execution_count": 491,
   "metadata": {
    "collapsed": false
   },
   "outputs": [],
   "source": [
    "modifiedData <- data.frame(inputDataFrame$Age,inputDataFrame$Credit.amount,inputDataFrame$Credit.Risks) %>% na.omit()"
   ]
  },
  {
   "cell_type": "code",
   "execution_count": 492,
   "metadata": {
    "collapsed": false
   },
   "outputs": [
    {
     "data": {
      "text/html": [
       "<table>\n",
       "<thead><tr><th></th><th scope=col>inputDataFrame.Age</th><th scope=col>inputDataFrame.Credit.amount</th><th scope=col>inputDataFrame.Credit.Risks</th></tr></thead>\n",
       "<tbody>\n",
       "\t<tr><th scope=row>1</th><td>  67</td><td>1169</td><td>   1</td></tr>\n",
       "\t<tr><th scope=row>2</th><td>  22</td><td>5951</td><td>   2</td></tr>\n",
       "\t<tr><th scope=row>3</th><td>  49</td><td>2096</td><td>   1</td></tr>\n",
       "\t<tr><th scope=row>4</th><td>  45</td><td>7882</td><td>   1</td></tr>\n",
       "\t<tr><th scope=row>5</th><td>  53</td><td>4870</td><td>   2</td></tr>\n",
       "\t<tr><th scope=row>6</th><td>  35</td><td>9055</td><td>   1</td></tr>\n",
       "</tbody>\n",
       "</table>\n"
      ],
      "text/latex": [
       "\\begin{tabular}{r|lll}\n",
       "  & inputDataFrame.Age & inputDataFrame.Credit.amount & inputDataFrame.Credit.Risks\\\\\n",
       "\\hline\n",
       "\t1 &   67 & 1169 &    1\\\\\n",
       "\t2 &   22 & 5951 &    2\\\\\n",
       "\t3 &   49 & 2096 &    1\\\\\n",
       "\t4 &   45 & 7882 &    1\\\\\n",
       "\t5 &   53 & 4870 &    2\\\\\n",
       "\t6 &   35 & 9055 &    1\\\\\n",
       "\\end{tabular}\n"
      ],
      "text/plain": [
       "  inputDataFrame.Age inputDataFrame.Credit.amount inputDataFrame.Credit.Risks\n",
       "1                 67                         1169                           1\n",
       "2                 22                         5951                           2\n",
       "3                 49                         2096                           1\n",
       "4                 45                         7882                           1\n",
       "5                 53                         4870                           2\n",
       "6                 35                         9055                           1"
      ]
     },
     "metadata": {},
     "output_type": "display_data"
    }
   ],
   "source": [
    "head(modifiedData)"
   ]
  },
  {
   "cell_type": "code",
   "execution_count": 493,
   "metadata": {
    "collapsed": false
   },
   "outputs": [],
   "source": [
    "n.points <- nrow(modifiedData)"
   ]
  },
  {
   "cell_type": "markdown",
   "metadata": {},
   "source": [
    "# Classification of the data for training = 80%"
   ]
  },
  {
   "cell_type": "markdown",
   "metadata": {},
   "source": [
    "Sampling the training data to 80 %"
   ]
  },
  {
   "cell_type": "code",
   "execution_count": 494,
   "metadata": {
    "collapsed": true
   },
   "outputs": [],
   "source": [
    "training <- sample(1:n.points,800,replace=FALSE)"
   ]
  },
  {
   "cell_type": "code",
   "execution_count": 495,
   "metadata": {
    "collapsed": false
   },
   "outputs": [],
   "source": [
    "train <- subset(modifiedData[training,],select=c(inputDataFrame.Age,inputDataFrame.Credit.amount))"
   ]
  },
  {
   "cell_type": "code",
   "execution_count": 496,
   "metadata": {
    "collapsed": false
   },
   "outputs": [
    {
     "data": {
      "text/html": [
       "800"
      ],
      "text/latex": [
       "800"
      ],
      "text/markdown": [
       "800"
      ],
      "text/plain": [
       "[1] 800"
      ]
     },
     "metadata": {},
     "output_type": "display_data"
    }
   ],
   "source": [
    "nrow(train)"
   ]
  },
  {
   "cell_type": "markdown",
   "metadata": {},
   "source": [
    "Inserting the remaining data to test data"
   ]
  },
  {
   "cell_type": "code",
   "execution_count": 497,
   "metadata": {
    "collapsed": true
   },
   "outputs": [],
   "source": [
    "testing <-setdiff(1:n.points,training)"
   ]
  },
  {
   "cell_type": "code",
   "execution_count": 498,
   "metadata": {
    "collapsed": false
   },
   "outputs": [],
   "source": [
    "test <- subset(modifiedData[testing,],select=c(inputDataFrame.Age,inputDataFrame.Credit.amount))"
   ]
  },
  {
   "cell_type": "code",
   "execution_count": 499,
   "metadata": {
    "collapsed": true
   },
   "outputs": [],
   "source": [
    "cl <- modifiedData$inputDataFrame.Credit.Risks[training]"
   ]
  },
  {
   "cell_type": "code",
   "execution_count": 500,
   "metadata": {
    "collapsed": true
   },
   "outputs": [],
   "source": [
    "num.test.set.labels <- nrow(test)"
   ]
  },
  {
   "cell_type": "code",
   "execution_count": 501,
   "metadata": {
    "collapsed": true
   },
   "outputs": [],
   "source": [
    "k_Value <- c()"
   ]
  },
  {
   "cell_type": "code",
   "execution_count": 502,
   "metadata": {
    "collapsed": true
   },
   "outputs": [],
   "source": [
    "Misclassification_Rate <- c()"
   ]
  },
  {
   "cell_type": "code",
   "execution_count": 503,
   "metadata": {
    "collapsed": true
   },
   "outputs": [],
   "source": [
    "true.labels<-modifiedData$inputDataFrame.Credit.Risks[testing]"
   ]
  },
  {
   "cell_type": "code",
   "execution_count": 504,
   "metadata": {
    "collapsed": false
   },
   "outputs": [],
   "source": [
    "summaryKNN_2080 = data.frame(k_Value, Misclassification_Rate)"
   ]
  },
  {
   "cell_type": "markdown",
   "metadata": {},
   "source": [
    "Calculating the misclassification rate for different k values"
   ]
  },
  {
   "cell_type": "code",
   "execution_count": 505,
   "metadata": {
    "collapsed": false
   },
   "outputs": [],
   "source": [
    "for(k in 1:20) {\n",
    "  predicted.labels <- knn(train,test,cl,k)\n",
    "  num.incorrect.labels<-sum(predicted.labels !=true.labels)\n",
    "  misclassification.rate<-(100 * num.incorrect.labels)/(num.test.set.labels)\n",
    "  tempDF <- c(as.integer(k),misclassification.rate)\n",
    "  summaryKNN_2080 <- rbind(summaryKNN_2080,tempDF)\n",
    "}"
   ]
  },
  {
   "cell_type": "code",
   "execution_count": 506,
   "metadata": {
    "collapsed": false
   },
   "outputs": [],
   "source": [
    "colnames(summaryKNN_2080) <- c(\"K-Value\", \"Misclassification Rate (Percentage) (Train=80)\")"
   ]
  },
  {
   "cell_type": "code",
   "execution_count": 507,
   "metadata": {
    "collapsed": false
   },
   "outputs": [
    {
     "data": {
      "text/html": [
       "<table>\n",
       "<thead><tr><th></th><th scope=col>K-Value</th><th scope=col>Misclassification Rate (Percentage) (Train=80)</th></tr></thead>\n",
       "<tbody>\n",
       "\t<tr><th scope=row>1</th><td> 1</td><td>41</td></tr>\n",
       "\t<tr><th scope=row>2</th><td> 2.0</td><td>39.5</td></tr>\n",
       "\t<tr><th scope=row>3</th><td> 3</td><td>39</td></tr>\n",
       "\t<tr><th scope=row>4</th><td> 4.0</td><td>32.5</td></tr>\n",
       "\t<tr><th scope=row>5</th><td> 5.0</td><td>33.5</td></tr>\n",
       "\t<tr><th scope=row>6</th><td> 6.0</td><td>35.5</td></tr>\n",
       "\t<tr><th scope=row>7</th><td> 7.0</td><td>34.5</td></tr>\n",
       "\t<tr><th scope=row>8</th><td> 8.0</td><td>36.5</td></tr>\n",
       "\t<tr><th scope=row>9</th><td> 9</td><td>32</td></tr>\n",
       "\t<tr><th scope=row>10</th><td>10</td><td>30</td></tr>\n",
       "\t<tr><th scope=row>11</th><td>11</td><td>31</td></tr>\n",
       "\t<tr><th scope=row>12</th><td>12</td><td>30</td></tr>\n",
       "\t<tr><th scope=row>13</th><td>13.0</td><td>29.5</td></tr>\n",
       "\t<tr><th scope=row>14</th><td>14</td><td>31</td></tr>\n",
       "\t<tr><th scope=row>15</th><td>15</td><td>30</td></tr>\n",
       "\t<tr><th scope=row>16</th><td>16</td><td>29</td></tr>\n",
       "\t<tr><th scope=row>17</th><td>17</td><td>29</td></tr>\n",
       "\t<tr><th scope=row>18</th><td>18.0</td><td>30.5</td></tr>\n",
       "\t<tr><th scope=row>19</th><td>19.0</td><td>30.5</td></tr>\n",
       "\t<tr><th scope=row>20</th><td>20.0</td><td>29.5</td></tr>\n",
       "</tbody>\n",
       "</table>\n"
      ],
      "text/latex": [
       "\\begin{tabular}{r|ll}\n",
       "  & K-Value & Misclassification Rate (Percentage) (Train=80)\\\\\n",
       "\\hline\n",
       "\t1 &  1 & 41\\\\\n",
       "\t2 &  2.0 & 39.5\\\\\n",
       "\t3 &  3 & 39\\\\\n",
       "\t4 &  4.0 & 32.5\\\\\n",
       "\t5 &  5.0 & 33.5\\\\\n",
       "\t6 &  6.0 & 35.5\\\\\n",
       "\t7 &  7.0 & 34.5\\\\\n",
       "\t8 &  8.0 & 36.5\\\\\n",
       "\t9 &  9 & 32\\\\\n",
       "\t10 & 10 & 30\\\\\n",
       "\t11 & 11 & 31\\\\\n",
       "\t12 & 12 & 30\\\\\n",
       "\t13 & 13.0 & 29.5\\\\\n",
       "\t14 & 14 & 31\\\\\n",
       "\t15 & 15 & 30\\\\\n",
       "\t16 & 16 & 29\\\\\n",
       "\t17 & 17 & 29\\\\\n",
       "\t18 & 18.0 & 30.5\\\\\n",
       "\t19 & 19.0 & 30.5\\\\\n",
       "\t20 & 20.0 & 29.5\\\\\n",
       "\\end{tabular}\n"
      ],
      "text/plain": [
       "   K-Value Misclassification Rate (Percentage) (Train=80)\n",
       "1        1                                           41.0\n",
       "2        2                                           39.5\n",
       "3        3                                           39.0\n",
       "4        4                                           32.5\n",
       "5        5                                           33.5\n",
       "6        6                                           35.5\n",
       "7        7                                           34.5\n",
       "8        8                                           36.5\n",
       "9        9                                           32.0\n",
       "10      10                                           30.0\n",
       "11      11                                           31.0\n",
       "12      12                                           30.0\n",
       "13      13                                           29.5\n",
       "14      14                                           31.0\n",
       "15      15                                           30.0\n",
       "16      16                                           29.0\n",
       "17      17                                           29.0\n",
       "18      18                                           30.5\n",
       "19      19                                           30.5\n",
       "20      20                                           29.5"
      ]
     },
     "metadata": {},
     "output_type": "display_data"
    }
   ],
   "source": [
    "summaryKNN_2080"
   ]
  },
  {
   "cell_type": "markdown",
   "metadata": {},
   "source": [
    "# Classification of the data for training = 70%"
   ]
  },
  {
   "cell_type": "markdown",
   "metadata": {},
   "source": [
    "Sampling the training data to 70 %"
   ]
  },
  {
   "cell_type": "code",
   "execution_count": 508,
   "metadata": {
    "collapsed": false
   },
   "outputs": [],
   "source": [
    "summaryKNN_3070 = data.frame(k_Value, Misclassification_Rate)"
   ]
  },
  {
   "cell_type": "code",
   "execution_count": 509,
   "metadata": {
    "collapsed": true
   },
   "outputs": [],
   "source": [
    "training1 <- sample(1:n.points,700,replace=FALSE)"
   ]
  },
  {
   "cell_type": "code",
   "execution_count": 510,
   "metadata": {
    "collapsed": false
   },
   "outputs": [],
   "source": [
    "train1 <- subset(modifiedData[training1,],select=c(inputDataFrame.Age,inputDataFrame.Credit.amount))"
   ]
  },
  {
   "cell_type": "code",
   "execution_count": 511,
   "metadata": {
    "collapsed": false
   },
   "outputs": [
    {
     "data": {
      "text/html": [
       "700"
      ],
      "text/latex": [
       "700"
      ],
      "text/markdown": [
       "700"
      ],
      "text/plain": [
       "[1] 700"
      ]
     },
     "metadata": {},
     "output_type": "display_data"
    }
   ],
   "source": [
    "nrow(train1)"
   ]
  },
  {
   "cell_type": "markdown",
   "metadata": {},
   "source": [
    "Inserting the remaining data to test data"
   ]
  },
  {
   "cell_type": "code",
   "execution_count": 512,
   "metadata": {
    "collapsed": true
   },
   "outputs": [],
   "source": [
    "testing1 <-setdiff(1:n.points,training1)"
   ]
  },
  {
   "cell_type": "code",
   "execution_count": 513,
   "metadata": {
    "collapsed": false
   },
   "outputs": [],
   "source": [
    "test1<- subset(modifiedData[testing1,],select=c(inputDataFrame.Age,inputDataFrame.Credit.amount))"
   ]
  },
  {
   "cell_type": "code",
   "execution_count": 514,
   "metadata": {
    "collapsed": true
   },
   "outputs": [],
   "source": [
    "num.test.set.labels <- nrow(test1)"
   ]
  },
  {
   "cell_type": "code",
   "execution_count": 515,
   "metadata": {
    "collapsed": true
   },
   "outputs": [],
   "source": [
    "cl1 <- modifiedData$inputDataFrame.Credit.Risks[training1]"
   ]
  },
  {
   "cell_type": "code",
   "execution_count": 516,
   "metadata": {
    "collapsed": true
   },
   "outputs": [],
   "source": [
    "true.labels<-modifiedData$inputDataFrame.Credit.Risks[testing1]"
   ]
  },
  {
   "cell_type": "markdown",
   "metadata": {},
   "source": [
    "Calculating the misclassification rate for different k values"
   ]
  },
  {
   "cell_type": "code",
   "execution_count": 517,
   "metadata": {
    "collapsed": false
   },
   "outputs": [],
   "source": [
    "count<-0\n",
    "for(k in 1:20) {\n",
    "    count<-count+1L\n",
    "  predicted.labels <- knn(train1,test1,cl1,k)\n",
    "  num.incorrect.labels1<-sum(predicted.labels != true.labels)\n",
    "  misclassification.rate<-(100 * num.incorrect.labels1)/(num.test.set.labels)\n",
    "  tempDF <- c(count,misclassification.rate)\n",
    "  summaryKNN_3070 <- rbind(summaryKNN_3070,tempDF)\n",
    "}"
   ]
  },
  {
   "cell_type": "code",
   "execution_count": 518,
   "metadata": {
    "collapsed": false
   },
   "outputs": [],
   "source": [
    "colnames(summaryKNN_3070) <- c(\"K-Value \", \"Misclassification Rate (Percentage)(Train=70)\")"
   ]
  },
  {
   "cell_type": "code",
   "execution_count": 519,
   "metadata": {
    "collapsed": false
   },
   "outputs": [
    {
     "data": {
      "text/html": [
       "<table>\n",
       "<thead><tr><th></th><th scope=col>K-Value </th><th scope=col>Misclassification Rate (Percentage)(Train=70)</th></tr></thead>\n",
       "<tbody>\n",
       "\t<tr><th scope=row>1</th><td> 1.00000</td><td>36.66667</td></tr>\n",
       "\t<tr><th scope=row>2</th><td> 2.00000</td><td>38.66667</td></tr>\n",
       "\t<tr><th scope=row>3</th><td> 3.00000</td><td>36.33333</td></tr>\n",
       "\t<tr><th scope=row>4</th><td> 4.00000</td><td>36.66667</td></tr>\n",
       "\t<tr><th scope=row>5</th><td> 5.00000</td><td>34.66667</td></tr>\n",
       "\t<tr><th scope=row>6</th><td> 6.00000</td><td>33.33333</td></tr>\n",
       "</tbody>\n",
       "</table>\n"
      ],
      "text/latex": [
       "\\begin{tabular}{r|ll}\n",
       "  & K-Value  & Misclassification Rate (Percentage)(Train=70)\\\\\n",
       "\\hline\n",
       "\t1 &  1.00000 & 36.66667\\\\\n",
       "\t2 &  2.00000 & 38.66667\\\\\n",
       "\t3 &  3.00000 & 36.33333\\\\\n",
       "\t4 &  4.00000 & 36.66667\\\\\n",
       "\t5 &  5.00000 & 34.66667\\\\\n",
       "\t6 &  6.00000 & 33.33333\\\\\n",
       "\\end{tabular}\n"
      ],
      "text/plain": [
       "  K-Value  Misclassification Rate (Percentage)(Train=70)\n",
       "1        1                                      36.66667\n",
       "2        2                                      38.66667\n",
       "3        3                                      36.33333\n",
       "4        4                                      36.66667\n",
       "5        5                                      34.66667\n",
       "6        6                                      33.33333"
      ]
     },
     "metadata": {},
     "output_type": "display_data"
    }
   ],
   "source": [
    "head(summaryKNN_3070)"
   ]
  },
  {
   "cell_type": "markdown",
   "metadata": {},
   "source": [
    "# Classification of the data for training = 60%"
   ]
  },
  {
   "cell_type": "markdown",
   "metadata": {},
   "source": [
    "Sampling the training data to 60 %"
   ]
  },
  {
   "cell_type": "code",
   "execution_count": 520,
   "metadata": {
    "collapsed": false
   },
   "outputs": [],
   "source": [
    "summaryKNN_4060 = data.frame(k_Value, Misclassification_Rate)"
   ]
  },
  {
   "cell_type": "code",
   "execution_count": 521,
   "metadata": {
    "collapsed": true
   },
   "outputs": [],
   "source": [
    "training2 <- sample(1:n.points,600,replace=FALSE)"
   ]
  },
  {
   "cell_type": "code",
   "execution_count": 522,
   "metadata": {
    "collapsed": false
   },
   "outputs": [],
   "source": [
    "train2 <- subset(modifiedData[training2,],select=c(inputDataFrame.Age,inputDataFrame.Credit.amount))"
   ]
  },
  {
   "cell_type": "code",
   "execution_count": 523,
   "metadata": {
    "collapsed": false
   },
   "outputs": [
    {
     "data": {
      "text/html": [
       "600"
      ],
      "text/latex": [
       "600"
      ],
      "text/markdown": [
       "600"
      ],
      "text/plain": [
       "[1] 600"
      ]
     },
     "metadata": {},
     "output_type": "display_data"
    }
   ],
   "source": [
    "nrow(train2)"
   ]
  },
  {
   "cell_type": "markdown",
   "metadata": {},
   "source": [
    "Inserting the remaining data to test data"
   ]
  },
  {
   "cell_type": "code",
   "execution_count": 524,
   "metadata": {
    "collapsed": true
   },
   "outputs": [],
   "source": [
    "testing2 <-setdiff(1:n.points,training2)"
   ]
  },
  {
   "cell_type": "code",
   "execution_count": 525,
   "metadata": {
    "collapsed": false
   },
   "outputs": [],
   "source": [
    "test2<- subset(modifiedData[testing2,],select=c(inputDataFrame.Age,inputDataFrame.Credit.amount))"
   ]
  },
  {
   "cell_type": "code",
   "execution_count": 526,
   "metadata": {
    "collapsed": true
   },
   "outputs": [],
   "source": [
    "num.test.set.labels <- nrow(test2)"
   ]
  },
  {
   "cell_type": "code",
   "execution_count": 527,
   "metadata": {
    "collapsed": true
   },
   "outputs": [],
   "source": [
    "cl2 <- modifiedData$inputDataFrame.Credit.Risks[training2]"
   ]
  },
  {
   "cell_type": "code",
   "execution_count": 528,
   "metadata": {
    "collapsed": true
   },
   "outputs": [],
   "source": [
    "true.labels<-modifiedData$inputDataFrame.Credit.Risks[testing2]"
   ]
  },
  {
   "cell_type": "markdown",
   "metadata": {},
   "source": [
    "Calculating the misclassification rate for different k values"
   ]
  },
  {
   "cell_type": "code",
   "execution_count": 529,
   "metadata": {
    "collapsed": false
   },
   "outputs": [],
   "source": [
    "count<-0\n",
    "for(k in 1:20) {\n",
    "    count<-count+1L\n",
    "  predicted.labels <- knn(train2,test2,cl2,k)\n",
    "  num.incorrect.labels2<-sum(predicted.labels != true.labels)\n",
    "  misclassification.rate<-(100 * num.incorrect.labels2)/(num.test.set.labels)\n",
    "  tempDF <- c(count,misclassification.rate)\n",
    "  summaryKNN_4060 <- rbind(summaryKNN_4060,tempDF)\n",
    "}"
   ]
  },
  {
   "cell_type": "code",
   "execution_count": 530,
   "metadata": {
    "collapsed": false
   },
   "outputs": [],
   "source": [
    "colnames(summaryKNN_4060) <- c(\"K-Value \", \"Misclassification Rate (Percentage)(Train=60)\")"
   ]
  },
  {
   "cell_type": "code",
   "execution_count": 531,
   "metadata": {
    "collapsed": false
   },
   "outputs": [
    {
     "data": {
      "text/html": [
       "<table>\n",
       "<thead><tr><th></th><th scope=col>K-Value </th><th scope=col>Misclassification Rate (Percentage)(Train=60)</th></tr></thead>\n",
       "<tbody>\n",
       "\t<tr><th scope=row>1</th><td> 1</td><td>41</td></tr>\n",
       "\t<tr><th scope=row>2</th><td> 2.00</td><td>39.25</td></tr>\n",
       "\t<tr><th scope=row>3</th><td> 3</td><td>38</td></tr>\n",
       "\t<tr><th scope=row>4</th><td> 4.00</td><td>36.25</td></tr>\n",
       "\t<tr><th scope=row>5</th><td> 5.0</td><td>35.5</td></tr>\n",
       "\t<tr><th scope=row>6</th><td> 6.00</td><td>35.75</td></tr>\n",
       "</tbody>\n",
       "</table>\n"
      ],
      "text/latex": [
       "\\begin{tabular}{r|ll}\n",
       "  & K-Value  & Misclassification Rate (Percentage)(Train=60)\\\\\n",
       "\\hline\n",
       "\t1 &  1 & 41\\\\\n",
       "\t2 &  2.00 & 39.25\\\\\n",
       "\t3 &  3 & 38\\\\\n",
       "\t4 &  4.00 & 36.25\\\\\n",
       "\t5 &  5.0 & 35.5\\\\\n",
       "\t6 &  6.00 & 35.75\\\\\n",
       "\\end{tabular}\n"
      ],
      "text/plain": [
       "  K-Value  Misclassification Rate (Percentage)(Train=60)\n",
       "1        1                                         41.00\n",
       "2        2                                         39.25\n",
       "3        3                                         38.00\n",
       "4        4                                         36.25\n",
       "5        5                                         35.50\n",
       "6        6                                         35.75"
      ]
     },
     "metadata": {},
     "output_type": "display_data"
    }
   ],
   "source": [
    "head(summaryKNN_4060)"
   ]
  },
  {
   "cell_type": "markdown",
   "metadata": {},
   "source": [
    "# Summary of results for different training data"
   ]
  },
  {
   "cell_type": "markdown",
   "metadata": {},
   "source": [
    "Misclassification percentage for traing data = 80%"
   ]
  },
  {
   "cell_type": "code",
   "execution_count": 532,
   "metadata": {
    "collapsed": false
   },
   "outputs": [
    {
     "data": {
      "text/html": [
       "<table>\n",
       "<thead><tr><th></th><th scope=col>K-Value</th><th scope=col>Misclassification Rate (Percentage) (Train=80)</th></tr></thead>\n",
       "<tbody>\n",
       "\t<tr><th scope=row>1</th><td> 1</td><td>41</td></tr>\n",
       "\t<tr><th scope=row>2</th><td> 2.0</td><td>39.5</td></tr>\n",
       "\t<tr><th scope=row>3</th><td> 3</td><td>39</td></tr>\n",
       "\t<tr><th scope=row>4</th><td> 4.0</td><td>32.5</td></tr>\n",
       "\t<tr><th scope=row>5</th><td> 5.0</td><td>33.5</td></tr>\n",
       "\t<tr><th scope=row>6</th><td> 6.0</td><td>35.5</td></tr>\n",
       "\t<tr><th scope=row>7</th><td> 7.0</td><td>34.5</td></tr>\n",
       "\t<tr><th scope=row>8</th><td> 8.0</td><td>36.5</td></tr>\n",
       "\t<tr><th scope=row>9</th><td> 9</td><td>32</td></tr>\n",
       "\t<tr><th scope=row>10</th><td>10</td><td>30</td></tr>\n",
       "\t<tr><th scope=row>11</th><td>11</td><td>31</td></tr>\n",
       "\t<tr><th scope=row>12</th><td>12</td><td>30</td></tr>\n",
       "\t<tr><th scope=row>13</th><td>13.0</td><td>29.5</td></tr>\n",
       "\t<tr><th scope=row>14</th><td>14</td><td>31</td></tr>\n",
       "\t<tr><th scope=row>15</th><td>15</td><td>30</td></tr>\n",
       "\t<tr><th scope=row>16</th><td>16</td><td>29</td></tr>\n",
       "\t<tr><th scope=row>17</th><td>17</td><td>29</td></tr>\n",
       "\t<tr><th scope=row>18</th><td>18.0</td><td>30.5</td></tr>\n",
       "\t<tr><th scope=row>19</th><td>19.0</td><td>30.5</td></tr>\n",
       "\t<tr><th scope=row>20</th><td>20.0</td><td>29.5</td></tr>\n",
       "</tbody>\n",
       "</table>\n"
      ],
      "text/latex": [
       "\\begin{tabular}{r|ll}\n",
       "  & K-Value & Misclassification Rate (Percentage) (Train=80)\\\\\n",
       "\\hline\n",
       "\t1 &  1 & 41\\\\\n",
       "\t2 &  2.0 & 39.5\\\\\n",
       "\t3 &  3 & 39\\\\\n",
       "\t4 &  4.0 & 32.5\\\\\n",
       "\t5 &  5.0 & 33.5\\\\\n",
       "\t6 &  6.0 & 35.5\\\\\n",
       "\t7 &  7.0 & 34.5\\\\\n",
       "\t8 &  8.0 & 36.5\\\\\n",
       "\t9 &  9 & 32\\\\\n",
       "\t10 & 10 & 30\\\\\n",
       "\t11 & 11 & 31\\\\\n",
       "\t12 & 12 & 30\\\\\n",
       "\t13 & 13.0 & 29.5\\\\\n",
       "\t14 & 14 & 31\\\\\n",
       "\t15 & 15 & 30\\\\\n",
       "\t16 & 16 & 29\\\\\n",
       "\t17 & 17 & 29\\\\\n",
       "\t18 & 18.0 & 30.5\\\\\n",
       "\t19 & 19.0 & 30.5\\\\\n",
       "\t20 & 20.0 & 29.5\\\\\n",
       "\\end{tabular}\n"
      ],
      "text/plain": [
       "   K-Value Misclassification Rate (Percentage) (Train=80)\n",
       "1        1                                           41.0\n",
       "2        2                                           39.5\n",
       "3        3                                           39.0\n",
       "4        4                                           32.5\n",
       "5        5                                           33.5\n",
       "6        6                                           35.5\n",
       "7        7                                           34.5\n",
       "8        8                                           36.5\n",
       "9        9                                           32.0\n",
       "10      10                                           30.0\n",
       "11      11                                           31.0\n",
       "12      12                                           30.0\n",
       "13      13                                           29.5\n",
       "14      14                                           31.0\n",
       "15      15                                           30.0\n",
       "16      16                                           29.0\n",
       "17      17                                           29.0\n",
       "18      18                                           30.5\n",
       "19      19                                           30.5\n",
       "20      20                                           29.5"
      ]
     },
     "metadata": {},
     "output_type": "display_data"
    }
   ],
   "source": [
    "summaryKNN_2080 "
   ]
  },
  {
   "cell_type": "markdown",
   "metadata": {},
   "source": [
    "Misclassification percentage for traing data = 70%"
   ]
  },
  {
   "cell_type": "code",
   "execution_count": 533,
   "metadata": {
    "collapsed": false
   },
   "outputs": [
    {
     "data": {
      "text/html": [
       "<table>\n",
       "<thead><tr><th></th><th scope=col>K-Value </th><th scope=col>Misclassification Rate (Percentage)(Train=70)</th></tr></thead>\n",
       "<tbody>\n",
       "\t<tr><th scope=row>1</th><td> 1.00000</td><td>36.66667</td></tr>\n",
       "\t<tr><th scope=row>2</th><td> 2.00000</td><td>38.66667</td></tr>\n",
       "\t<tr><th scope=row>3</th><td> 3.00000</td><td>36.33333</td></tr>\n",
       "\t<tr><th scope=row>4</th><td> 4.00000</td><td>36.66667</td></tr>\n",
       "\t<tr><th scope=row>5</th><td> 5.00000</td><td>34.66667</td></tr>\n",
       "\t<tr><th scope=row>6</th><td> 6.00000</td><td>33.33333</td></tr>\n",
       "\t<tr><th scope=row>7</th><td> 7</td><td>33</td></tr>\n",
       "\t<tr><th scope=row>8</th><td> 8.00000</td><td>29.66667</td></tr>\n",
       "\t<tr><th scope=row>9</th><td> 9.00000</td><td>32.66667</td></tr>\n",
       "\t<tr><th scope=row>10</th><td>10.00000</td><td>30.33333</td></tr>\n",
       "\t<tr><th scope=row>11</th><td>11.00000</td><td>31.33333</td></tr>\n",
       "\t<tr><th scope=row>12</th><td>12.00000</td><td>31.33333</td></tr>\n",
       "\t<tr><th scope=row>13</th><td>13</td><td>30</td></tr>\n",
       "\t<tr><th scope=row>14</th><td>14.00000</td><td>29.33333</td></tr>\n",
       "\t<tr><th scope=row>15</th><td>15.00000</td><td>29.66667</td></tr>\n",
       "\t<tr><th scope=row>16</th><td>16</td><td>29</td></tr>\n",
       "\t<tr><th scope=row>17</th><td>17.00000</td><td>30.33333</td></tr>\n",
       "\t<tr><th scope=row>18</th><td>18</td><td>29</td></tr>\n",
       "\t<tr><th scope=row>19</th><td>19</td><td>30</td></tr>\n",
       "\t<tr><th scope=row>20</th><td>20</td><td>30</td></tr>\n",
       "</tbody>\n",
       "</table>\n"
      ],
      "text/latex": [
       "\\begin{tabular}{r|ll}\n",
       "  & K-Value  & Misclassification Rate (Percentage)(Train=70)\\\\\n",
       "\\hline\n",
       "\t1 &  1.00000 & 36.66667\\\\\n",
       "\t2 &  2.00000 & 38.66667\\\\\n",
       "\t3 &  3.00000 & 36.33333\\\\\n",
       "\t4 &  4.00000 & 36.66667\\\\\n",
       "\t5 &  5.00000 & 34.66667\\\\\n",
       "\t6 &  6.00000 & 33.33333\\\\\n",
       "\t7 &  7 & 33\\\\\n",
       "\t8 &  8.00000 & 29.66667\\\\\n",
       "\t9 &  9.00000 & 32.66667\\\\\n",
       "\t10 & 10.00000 & 30.33333\\\\\n",
       "\t11 & 11.00000 & 31.33333\\\\\n",
       "\t12 & 12.00000 & 31.33333\\\\\n",
       "\t13 & 13 & 30\\\\\n",
       "\t14 & 14.00000 & 29.33333\\\\\n",
       "\t15 & 15.00000 & 29.66667\\\\\n",
       "\t16 & 16 & 29\\\\\n",
       "\t17 & 17.00000 & 30.33333\\\\\n",
       "\t18 & 18 & 29\\\\\n",
       "\t19 & 19 & 30\\\\\n",
       "\t20 & 20 & 30\\\\\n",
       "\\end{tabular}\n"
      ],
      "text/plain": [
       "   K-Value  Misclassification Rate (Percentage)(Train=70)\n",
       "1         1                                      36.66667\n",
       "2         2                                      38.66667\n",
       "3         3                                      36.33333\n",
       "4         4                                      36.66667\n",
       "5         5                                      34.66667\n",
       "6         6                                      33.33333\n",
       "7         7                                      33.00000\n",
       "8         8                                      29.66667\n",
       "9         9                                      32.66667\n",
       "10       10                                      30.33333\n",
       "11       11                                      31.33333\n",
       "12       12                                      31.33333\n",
       "13       13                                      30.00000\n",
       "14       14                                      29.33333\n",
       "15       15                                      29.66667\n",
       "16       16                                      29.00000\n",
       "17       17                                      30.33333\n",
       "18       18                                      29.00000\n",
       "19       19                                      30.00000\n",
       "20       20                                      30.00000"
      ]
     },
     "metadata": {},
     "output_type": "display_data"
    }
   ],
   "source": [
    "summaryKNN_3070"
   ]
  },
  {
   "cell_type": "markdown",
   "metadata": {},
   "source": [
    "Misclassification percentage for traing data = 60%"
   ]
  },
  {
   "cell_type": "code",
   "execution_count": 534,
   "metadata": {
    "collapsed": false
   },
   "outputs": [
    {
     "data": {
      "text/html": [
       "<table>\n",
       "<thead><tr><th></th><th scope=col>K-Value </th><th scope=col>Misclassification Rate (Percentage)(Train=60)</th></tr></thead>\n",
       "<tbody>\n",
       "\t<tr><th scope=row>1</th><td> 1</td><td>41</td></tr>\n",
       "\t<tr><th scope=row>2</th><td> 2.00</td><td>39.25</td></tr>\n",
       "\t<tr><th scope=row>3</th><td> 3</td><td>38</td></tr>\n",
       "\t<tr><th scope=row>4</th><td> 4.00</td><td>36.25</td></tr>\n",
       "\t<tr><th scope=row>5</th><td> 5.0</td><td>35.5</td></tr>\n",
       "\t<tr><th scope=row>6</th><td> 6.00</td><td>35.75</td></tr>\n",
       "\t<tr><th scope=row>7</th><td> 7.00</td><td>34.25</td></tr>\n",
       "\t<tr><th scope=row>8</th><td> 8.0</td><td>34.5</td></tr>\n",
       "\t<tr><th scope=row>9</th><td> 9.0</td><td>31.5</td></tr>\n",
       "\t<tr><th scope=row>10</th><td>10.00</td><td>31.75</td></tr>\n",
       "\t<tr><th scope=row>11</th><td>11.0</td><td>32.5</td></tr>\n",
       "\t<tr><th scope=row>12</th><td>12.00</td><td>32.75</td></tr>\n",
       "\t<tr><th scope=row>13</th><td>13</td><td>32</td></tr>\n",
       "\t<tr><th scope=row>14</th><td>14.00</td><td>31.75</td></tr>\n",
       "\t<tr><th scope=row>15</th><td>15.0</td><td>31.5</td></tr>\n",
       "\t<tr><th scope=row>16</th><td>16.00</td><td>30.25</td></tr>\n",
       "\t<tr><th scope=row>17</th><td>17.00</td><td>29.75</td></tr>\n",
       "\t<tr><th scope=row>18</th><td>18</td><td>30</td></tr>\n",
       "\t<tr><th scope=row>19</th><td>19.00</td><td>29.75</td></tr>\n",
       "\t<tr><th scope=row>20</th><td>20.0</td><td>30.5</td></tr>\n",
       "</tbody>\n",
       "</table>\n"
      ],
      "text/latex": [
       "\\begin{tabular}{r|ll}\n",
       "  & K-Value  & Misclassification Rate (Percentage)(Train=60)\\\\\n",
       "\\hline\n",
       "\t1 &  1 & 41\\\\\n",
       "\t2 &  2.00 & 39.25\\\\\n",
       "\t3 &  3 & 38\\\\\n",
       "\t4 &  4.00 & 36.25\\\\\n",
       "\t5 &  5.0 & 35.5\\\\\n",
       "\t6 &  6.00 & 35.75\\\\\n",
       "\t7 &  7.00 & 34.25\\\\\n",
       "\t8 &  8.0 & 34.5\\\\\n",
       "\t9 &  9.0 & 31.5\\\\\n",
       "\t10 & 10.00 & 31.75\\\\\n",
       "\t11 & 11.0 & 32.5\\\\\n",
       "\t12 & 12.00 & 32.75\\\\\n",
       "\t13 & 13 & 32\\\\\n",
       "\t14 & 14.00 & 31.75\\\\\n",
       "\t15 & 15.0 & 31.5\\\\\n",
       "\t16 & 16.00 & 30.25\\\\\n",
       "\t17 & 17.00 & 29.75\\\\\n",
       "\t18 & 18 & 30\\\\\n",
       "\t19 & 19.00 & 29.75\\\\\n",
       "\t20 & 20.0 & 30.5\\\\\n",
       "\\end{tabular}\n"
      ],
      "text/plain": [
       "   K-Value  Misclassification Rate (Percentage)(Train=60)\n",
       "1         1                                         41.00\n",
       "2         2                                         39.25\n",
       "3         3                                         38.00\n",
       "4         4                                         36.25\n",
       "5         5                                         35.50\n",
       "6         6                                         35.75\n",
       "7         7                                         34.25\n",
       "8         8                                         34.50\n",
       "9         9                                         31.50\n",
       "10       10                                         31.75\n",
       "11       11                                         32.50\n",
       "12       12                                         32.75\n",
       "13       13                                         32.00\n",
       "14       14                                         31.75\n",
       "15       15                                         31.50\n",
       "16       16                                         30.25\n",
       "17       17                                         29.75\n",
       "18       18                                         30.00\n",
       "19       19                                         29.75\n",
       "20       20                                         30.50"
      ]
     },
     "metadata": {},
     "output_type": "display_data"
    }
   ],
   "source": [
    "summaryKNN_4060"
   ]
  },
  {
   "cell_type": "code",
   "execution_count": null,
   "metadata": {
    "collapsed": true
   },
   "outputs": [],
   "source": []
  }
 ],
 "metadata": {
  "kernelspec": {
   "display_name": "R",
   "language": "R",
   "name": "ir"
  },
  "language_info": {
   "codemirror_mode": "r",
   "file_extension": ".r",
   "mimetype": "text/x-r-source",
   "name": "R",
   "pygments_lexer": "r",
   "version": "3.3.1"
  }
 },
 "nbformat": 4,
 "nbformat_minor": 2
}
