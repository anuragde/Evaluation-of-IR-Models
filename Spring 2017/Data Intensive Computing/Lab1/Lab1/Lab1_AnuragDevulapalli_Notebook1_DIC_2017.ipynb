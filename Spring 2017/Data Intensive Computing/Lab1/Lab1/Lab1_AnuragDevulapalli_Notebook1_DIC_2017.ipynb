{
 "cells": [
  {
   "cell_type": "markdown",
   "metadata": {},
   "source": [
    "Importing twitteR library"
   ]
  },
  {
   "cell_type": "code",
   "execution_count": 4,
   "metadata": {
    "collapsed": true
   },
   "outputs": [],
   "source": [
    "library(twitteR)"
   ]
  },
  {
   "cell_type": "markdown",
   "metadata": {},
   "source": [
    "Authentication with OAuth"
   ]
  },
  {
   "cell_type": "code",
   "execution_count": 5,
   "metadata": {
    "collapsed": false
   },
   "outputs": [
    {
     "name": "stdout",
     "output_type": "stream",
     "text": [
      "[1] \"Using direct authentication\"\n"
     ]
    }
   ],
   "source": [
    "setup_twitter_oauth(\"\",\"\",\"\",\"\")"
   ]
  },
  {
   "cell_type": "markdown",
   "metadata": {},
   "source": [
    " Searching Twitter for #Obama tweets"
   ]
  },
  {
   "cell_type": "code",
   "execution_count": 6,
   "metadata": {
    "collapsed": false
   },
   "outputs": [],
   "source": [
    "sampleTweets <- searchTwitter('#Obama', n=50)"
   ]
  },
  {
   "cell_type": "markdown",
   "metadata": {},
   "source": [
    "Displaying the top tweets"
   ]
  },
  {
   "cell_type": "code",
   "execution_count": 7,
   "metadata": {
    "collapsed": false,
    "scrolled": true
   },
   "outputs": [
    {
     "data": {
      "text/plain": [
       "[[1]]\n",
       "[1] \"melodysoxgn: RT @LastGreatStand: Congress Moves to Stop Obama’s Coup Attempt Against Trump - https://t.co/9e5JPapbMf #democrats #obama #sedition #trump\"\n",
       "\n",
       "[[2]]\n",
       "[1] \"IamnotaMarxist: Lol...you're accidentally praising #obama and you don't even know it? https://t.co/JyplztPr6B\"\n",
       "\n",
       "[[3]]\n",
       "[1] \"daniricha1rds: RT @LastGreatStand: U.S. Army Preparing For Urban Warfare...on American Soil...  - https://t.co/tQDN8zoKfN #democrats #obama #sedition #tru…\"\n",
       "\n",
       "[[4]]\n",
       "[1] \"MU3RTA: RT @RanaHarbi: Welcome to the \\\"No, you idiots, Obama wasn't a good president\\\" thread. \\n\\n#Obama #Syria #Libya #Israel #SaudiArabia #Iraq #So…\"\n",
       "\n",
       "[[5]]\n",
       "[1] \"kfitzsterling: RT @DarrenMole: Liberals proclaiming how great #Obama is, forget he was the 1 who dropped the bombs then he opened American boarders &amp; prea…\"\n",
       "\n",
       "[[6]]\n",
       "[1] \"WarriorTrooper1: RT @TrumpIsTheTrue: #CNN ANCHOR’s SLIP OF THE TONGUE SHOWS THEY STILL WORSHIP #OBAMA *VIDEO #o4a #AmericaFirst https://t.co/oa4guIztb2 http…\"\n"
      ]
     },
     "metadata": {},
     "output_type": "display_data"
    }
   ],
   "source": [
    " head(sampleTweets)"
   ]
  },
  {
   "cell_type": "markdown",
   "metadata": {},
   "source": [
    "Stripping the retweets and displaying them"
   ]
  },
  {
   "cell_type": "code",
   "execution_count": 8,
   "metadata": {
    "collapsed": false
   },
   "outputs": [
    {
     "data": {
      "text/plain": [
       "[[1]]\n",
       "[1] \"IamnotaMarxist: Lol...you're accidentally praising #obama and you don't even know it? https://t.co/JyplztPr6B\"\n",
       "\n",
       "[[2]]\n",
       "[1] \"WorldTvlr: What now, @SenJohnMcCain is an #Obama Jr.? https://t.co/WRYg4YRFDk\"\n",
       "\n",
       "[[3]]\n",
       "[1] \"Trump_Commander: #CNN ANCHOR’s SLIP OF THE TONGUE SHOWS THEY STILL WORSHIP #OBAMA *VIDEO #o4a #AmericaFirst https://t.co/mFy6wNklqn https://t.co/dq3ryQrT7j\"\n",
       "\n",
       "[[4]]\n",
       "[1] \"POTUSTRUMP6: #CNN ANCHOR’s SLIP OF THE TONGUE SHOWS THEY STILL WORSHIP #OBAMA *VIDEO #o4a #AmericaFirst https://t.co/4PPEgA7Cy4 https://t.co/Xv71ViIoH5\"\n",
       "\n",
       "[[5]]\n",
       "[1] \"work_trump: #CNN ANCHOR’s SLIP OF THE TONGUE SHOWS THEY STILL WORSHIP #OBAMA *VIDEO #o4a #AmericaFirst https://t.co/HuFBdEbLZk https://t.co/PB841oFda5\"\n",
       "\n",
       "[[6]]\n",
       "[1] \"the_win_today: #CNN ANCHOR’s SLIP OF THE TONGUE SHOWS THEY STILL WORSHIP #OBAMA *VIDEO #o4a #AmericaFirst https://t.co/K7ChV3FWvo https://t.co/UqVTsimILb\"\n"
      ]
     },
     "metadata": {},
     "output_type": "display_data"
    }
   ],
   "source": [
    " head(strip_retweets(sampleTweets, strip_manual=TRUE, strip_mt=TRUE))"
   ]
  },
  {
   "cell_type": "markdown",
   "metadata": {},
   "source": [
    "Getting the user details of any user"
   ]
  },
  {
   "cell_type": "code",
   "execution_count": 9,
   "metadata": {
    "collapsed": false
   },
   "outputs": [],
   "source": [
    "userDetails <- getUser('BarackObama')"
   ]
  },
  {
   "cell_type": "markdown",
   "metadata": {},
   "source": [
    "Get the user description"
   ]
  },
  {
   "cell_type": "code",
   "execution_count": 10,
   "metadata": {
    "collapsed": false
   },
   "outputs": [
    {
     "data": {
      "text/html": [
       "'Dad, husband, President, citizen.'"
      ],
      "text/latex": [
       "'Dad, husband, President, citizen.'"
      ],
      "text/markdown": [
       "'Dad, husband, President, citizen.'"
      ],
      "text/plain": [
       "[1] \"Dad, husband, President, citizen.\""
      ]
     },
     "metadata": {},
     "output_type": "display_data"
    }
   ],
   "source": [
    "userDetails$getDescription()"
   ]
  },
  {
   "cell_type": "markdown",
   "metadata": {},
   "source": [
    "Get the followers count"
   ]
  },
  {
   "cell_type": "code",
   "execution_count": 11,
   "metadata": {
    "collapsed": false
   },
   "outputs": [
    {
     "data": {
      "text/html": [
       "84729567"
      ],
      "text/latex": [
       "84729567"
      ],
      "text/markdown": [
       "84729567"
      ],
      "text/plain": [
       "[1] 84729567"
      ]
     },
     "metadata": {},
     "output_type": "display_data"
    }
   ],
   "source": [
    "userDetails$getFollowersCount()"
   ]
  },
  {
   "cell_type": "markdown",
   "metadata": {},
   "source": [
    "Get the details of top 5 friends of the user"
   ]
  },
  {
   "cell_type": "code",
   "execution_count": 12,
   "metadata": {
    "collapsed": false
   },
   "outputs": [
    {
     "data": {
      "text/plain": [
       "$`13669`\n",
       "[1] \"kk\"\n",
       "\n",
       "$`20121925`\n",
       "[1] \"jfleenor\"\n",
       "\n",
       "$`16313711`\n",
       "[1] \"d00fuss\"\n",
       "\n",
       "$`26135963`\n",
       "[1] \"waterford67\"\n",
       "\n",
       "$`22260770`\n",
       "[1] \"tweetmoi\"\n"
      ]
     },
     "metadata": {},
     "output_type": "display_data"
    }
   ],
   "source": [
    "userDetails$getFriends(n=5)"
   ]
  },
  {
   "cell_type": "markdown",
   "metadata": {},
   "source": [
    "Get the favorite details of users"
   ]
  },
  {
   "cell_type": "code",
   "execution_count": 13,
   "metadata": {
    "collapsed": false
   },
   "outputs": [
    {
     "data": {
      "text/plain": [
       "[[1]]\n",
       "[1] \"HamiltonMusical: One last time.  https://t.co/u9DvWe7RGD\"\n",
       "\n",
       "[[2]]\n",
       "[1] \"pitchfork: .@BarackObama​ is the only American @POTUS you could reliably trust to DJ a party http://t.co/enrqMsVeQB http://t.co/sIG1nmVtsk\"\n",
       "\n",
       "[[3]]\n",
       "[1] \"NancyPelosi: If too much #girlpower can break the Internet, we might be in trouble. #progress4women #womensucceed http://t.co/ekid9fFAsH\"\n",
       "\n",
       "[[4]]\n",
       "[1] \"funnyordie: One girl saves the world from junk food. Starring @ChloeGMoretz @TylerGPosey &amp; @MichelleObama: http://t.co/NvM9rUC0uJ http://t.co/lEM1XTGAaX\"\n",
       "\n",
       "[[5]]\n",
       "[1] \"DeptofDefense: From 1 SecDef to another: Hagel calls @timhowardgk to say thanks for defending USA. We (USA) are proud of @ussoccer! http://t.co/M8nsYdlXFn\"\n"
      ]
     },
     "metadata": {},
     "output_type": "display_data"
    }
   ],
   "source": [
    "userDetails$getFavorites(n=5)"
   ]
  },
  {
   "cell_type": "markdown",
   "metadata": {},
   "source": [
    "Converting lists as an data.frame structure"
   ]
  },
  {
   "cell_type": "code",
   "execution_count": 14,
   "metadata": {
    "collapsed": false
   },
   "outputs": [],
   "source": [
    "tweetsDF <- twListToDF(sampleTweets)"
   ]
  },
  {
   "cell_type": "markdown",
   "metadata": {},
   "source": [
    "Display the top tweets from data frame"
   ]
  },
  {
   "cell_type": "code",
   "execution_count": 15,
   "metadata": {
    "collapsed": false
   },
   "outputs": [
    {
     "data": {
      "text/html": [
       "<table>\n",
       "<thead><tr><th scope=col>text</th><th scope=col>favorited</th><th scope=col>favoriteCount</th><th scope=col>replyToSN</th><th scope=col>created</th><th scope=col>truncated</th><th scope=col>replyToSID</th><th scope=col>id</th><th scope=col>replyToUID</th><th scope=col>statusSource</th><th scope=col>screenName</th><th scope=col>retweetCount</th><th scope=col>isRetweet</th><th scope=col>retweeted</th><th scope=col>longitude</th><th scope=col>latitude</th></tr></thead>\n",
       "<tbody>\n",
       "\t<tr><td><span style=white-space:pre-wrap>RT @LastGreatStand: Congress Moves to Stop Obama’s Coup Attempt Against Trump - https://t.co/9e5JPapbMf #democrats #obama #sedition #trump      </span></td><td>FALSE                                                                                                                                                                                   </td><td>0                                                                                                                                                                                       </td><td>NA                                                                                                                                                                                      </td><td>2017-02-18 00:35:08                                                                                                                                                                     </td><td>FALSE                                                                                                                                                                                   </td><td>NA                                                                                                                                                                                      </td><td>832750261122658304                                                                                                                                                                      </td><td>NA                                                                                                                                                                                      </td><td><span style=white-space:pre-wrap>&lt;a href=\"http://twitter.com\" rel=\"nofollow\"&gt;Twitter Web Client&lt;/a&gt;                </span>                                                  </td><td><span style=white-space:pre-wrap>melodysoxgn    </span>                                                                                                                                 </td><td> 69                                                                                                                                                                                     </td><td> TRUE                                                                                                                                                                                   </td><td>FALSE                                                                                                                                                                                   </td><td>NA                                                                                                                                                                                      </td><td>NA                                                                                                                                                                                      </td></tr>\n",
       "\t<tr><td><span style=white-space:pre-wrap>Lol...you're accidentally praising #obama and you don't even know it? https://t.co/JyplztPr6B                                                   </span></td><td>FALSE                                                                                                                                                                                   </td><td>0                                                                                                                                                                                       </td><td>NA                                                                                                                                                                                      </td><td>2017-02-18 00:35:01                                                                                                                                                                     </td><td>FALSE                                                                                                                                                                                   </td><td>NA                                                                                                                                                                                      </td><td>832750231271772160                                                                                                                                                                      </td><td>NA                                                                                                                                                                                      </td><td><span style=white-space:pre-wrap>&lt;a href=\"http://twitter.com\" rel=\"nofollow\"&gt;Twitter Web Client&lt;/a&gt;                </span>                                                  </td><td>IamnotaMarxist                                                                                                                                                                          </td><td><span style=white-space:pre-wrap>  0</span>                                                                                                                                             </td><td>FALSE                                                                                                                                                                                   </td><td>FALSE                                                                                                                                                                                   </td><td>NA                                                                                                                                                                                      </td><td>NA                                                                                                                                                                                      </td></tr>\n",
       "\t<tr><td><span style=white-space:pre-wrap>RT @LastGreatStand: U.S. Army Preparing For Urban Warfare...on American Soil...  - https://t.co/tQDN8zoKfN #democrats #obama #sedition #tru…    </span></td><td>FALSE                                                                                                                                                                                   </td><td>0                                                                                                                                                                                       </td><td>NA                                                                                                                                                                                      </td><td>2017-02-18 00:34:52                                                                                                                                                                     </td><td>FALSE                                                                                                                                                                                   </td><td>NA                                                                                                                                                                                      </td><td>832750195024633856                                                                                                                                                                      </td><td>NA                                                                                                                                                                                      </td><td><span style=white-space:pre-wrap>&lt;a href=\"http://twitter.com\" rel=\"nofollow\"&gt;Twitter Web Client&lt;/a&gt;                </span>                                                  </td><td><span style=white-space:pre-wrap>daniricha1rds  </span>                                                                                                                                 </td><td> 64                                                                                                                                                                                     </td><td> TRUE                                                                                                                                                                                   </td><td>FALSE                                                                                                                                                                                   </td><td>NA                                                                                                                                                                                      </td><td>NA                                                                                                                                                                                      </td></tr>\n",
       "\t<tr><td><span style=white-space:pre-wrap>RT @RanaHarbi: Welcome to the \"No, you idiots, Obama wasn't a good president\" thread. \n",
       "\n",
       "#Obama #Syria #Libya #Israel #SaudiArabia #Iraq #So…  </span></td><td>FALSE                                                                                                                                                                                   </td><td>0                                                                                                                                                                                       </td><td>NA                                                                                                                                                                                      </td><td>2017-02-18 00:34:46                                                                                                                                                                     </td><td>FALSE                                                                                                                                                                                   </td><td>NA                                                                                                                                                                                      </td><td>832750169988882434                                                                                                                                                                      </td><td>NA                                                                                                                                                                                      </td><td>&lt;a href=\"http://twitter.com/download/iphone\" rel=\"nofollow\"&gt;Twitter for iPhone&lt;/a&gt;                                                                                          </td><td><span style=white-space:pre-wrap>MU3RTA         </span>                                                                                                                                 </td><td>296                                                                                                                                                                                     </td><td> TRUE                                                                                                                                                                                   </td><td>FALSE                                                                                                                                                                                   </td><td>NA                                                                                                                                                                                      </td><td>NA                                                                                                                                                                                      </td></tr>\n",
       "\t<tr><td>RT @DarrenMole: Liberals proclaiming how great #Obama is, forget he was the 1 who dropped the bombs then he opened American boarders &amp;amp; prea…</td><td>FALSE                                                                                                                                               </td><td>0                                                                                                                                                   </td><td>NA                                                                                                                                                  </td><td>2017-02-18 00:34:42                                                                                                                                 </td><td>FALSE                                                                                                                                               </td><td>NA                                                                                                                                                  </td><td>832750151114616836                                                                                                                                  </td><td>NA                                                                                                                                                  </td><td>&lt;a href=\"http://twitter.com/download/iphone\" rel=\"nofollow\"&gt;Twitter for iPhone&lt;/a&gt;                                                      </td><td><span style=white-space:pre-wrap>kfitzsterling  </span>                                                                                             </td><td> 14                                                                                                                                                 </td><td> TRUE                                                                                                                                               </td><td>FALSE                                                                                                                                               </td><td>NA                                                                                                                                                  </td><td>NA                                                                                                                                                  </td></tr>\n",
       "\t<tr><td><span style=white-space:pre-wrap>RT @TrumpIsTheTrue: #CNN ANCHOR’s SLIP OF THE TONGUE SHOWS THEY STILL WORSHIP #OBAMA *VIDEO #o4a #AmericaFirst https://t.co/oa4guIztb2 http…    </span></td><td>FALSE                                                                                                                                                                                   </td><td>0                                                                                                                                                                                       </td><td>NA                                                                                                                                                                                      </td><td>2017-02-18 00:34:40                                                                                                                                                                     </td><td>FALSE                                                                                                                                                                                   </td><td>NA                                                                                                                                                                                      </td><td>832750143384408068                                                                                                                                                                      </td><td>NA                                                                                                                                                                                      </td><td>&lt;a href=\"http://twitter.com/download/iphone\" rel=\"nofollow\"&gt;Twitter for iPhone&lt;/a&gt;                                                                                          </td><td>WarriorTrooper1                                                                                                                                                                         </td><td><span style=white-space:pre-wrap>  1</span>                                                                                                                                             </td><td> TRUE                                                                                                                                                                                   </td><td>FALSE                                                                                                                                                                                   </td><td>NA                                                                                                                                                                                      </td><td>NA                                                                                                                                                                                      </td></tr>\n",
       "</tbody>\n",
       "</table>\n"
      ],
      "text/latex": [
       "\\begin{tabular}{r|llllllllllllllll}\n",
       " text & favorited & favoriteCount & replyToSN & created & truncated & replyToSID & id & replyToUID & statusSource & screenName & retweetCount & isRetweet & retweeted & longitude & latitude\\\\\n",
       "\\hline\n",
       "\t RT @LastGreatStand: Congress Moves to Stop Obama’s Coup Attempt Against Trump - https://t.co/9e5JPapbMf \\#democrats \\#obama \\#sedition \\#trump       & FALSE                                                                                                                                                    & 0                                                                                                                                                        & NA                                                                                                                                                       & 2017-02-18 00:35:08                                                                                                                                      & FALSE                                                                                                                                                    & NA                                                                                                                                                       & 832750261122658304                                                                                                                                       & NA                                                                                                                                                       & <a href=\"http://twitter.com\" rel=\"nofollow\">Twitter Web Client</a>                                                                                       & melodysoxgn                                                                                                                                              &  69                                                                                                                                                      &  TRUE                                                                                                                                                    & FALSE                                                                                                                                                    & NA                                                                                                                                                       & NA                                                                                                                                                      \\\\\n",
       "\t Lol...you're accidentally praising \\#obama and you don't even know it? https://t.co/JyplztPr6B                                                    & FALSE                                                                                                                                              & 0                                                                                                                                                  & NA                                                                                                                                                 & 2017-02-18 00:35:01                                                                                                                                & FALSE                                                                                                                                              & NA                                                                                                                                                 & 832750231271772160                                                                                                                                 & NA                                                                                                                                                 & <a href=\"http://twitter.com\" rel=\"nofollow\">Twitter Web Client</a>                                                                                 & IamnotaMarxist                                                                                                                                     &   0                                                                                                                                                & FALSE                                                                                                                                              & FALSE                                                                                                                                              & NA                                                                                                                                                 & NA                                                                                                                                                \\\\\n",
       "\t RT @LastGreatStand: U.S. Army Preparing For Urban Warfare...on American Soil...  - https://t.co/tQDN8zoKfN \\#democrats \\#obama \\#sedition \\#tru…     & FALSE                                                                                                                                                    & 0                                                                                                                                                        & NA                                                                                                                                                       & 2017-02-18 00:34:52                                                                                                                                      & FALSE                                                                                                                                                    & NA                                                                                                                                                       & 832750195024633856                                                                                                                                       & NA                                                                                                                                                       & <a href=\"http://twitter.com\" rel=\"nofollow\">Twitter Web Client</a>                                                                                       & daniricha1rds                                                                                                                                            &  64                                                                                                                                                      &  TRUE                                                                                                                                                    & FALSE                                                                                                                                                    & NA                                                                                                                                                       & NA                                                                                                                                                      \\\\\n",
       "\t RT @RanaHarbi: Welcome to the \"No, you idiots, Obama wasn't a good president\" thread. \n",
       "\n",
       "\\#Obama \\#Syria \\#Libya \\#Israel \\#SaudiArabia \\#Iraq \\#So…   & FALSE                                                                                                                                                          & 0                                                                                                                                                              & NA                                                                                                                                                             & 2017-02-18 00:34:46                                                                                                                                            & FALSE                                                                                                                                                          & NA                                                                                                                                                             & 832750169988882434                                                                                                                                             & NA                                                                                                                                                             & <a href=\"http://twitter.com/download/iphone\" rel=\"nofollow\">Twitter for iPhone</a>                                                                             & MU3RTA                                                                                                                                                         & 296                                                                                                                                                            &  TRUE                                                                                                                                                          & FALSE                                                                                                                                                          & NA                                                                                                                                                             & NA                                                                                                                                                            \\\\\n",
       "\t RT @DarrenMole: Liberals proclaiming how great \\#Obama is, forget he was the 1 who dropped the bombs then he opened American boarders \\&amp; prea… & FALSE                                                                                                                                                & 0                                                                                                                                                    & NA                                                                                                                                                   & 2017-02-18 00:34:42                                                                                                                                  & FALSE                                                                                                                                                & NA                                                                                                                                                   & 832750151114616836                                                                                                                                   & NA                                                                                                                                                   & <a href=\"http://twitter.com/download/iphone\" rel=\"nofollow\">Twitter for iPhone</a>                                                                   & kfitzsterling                                                                                                                                        &  14                                                                                                                                                  &  TRUE                                                                                                                                                & FALSE                                                                                                                                                & NA                                                                                                                                                   & NA                                                                                                                                                  \\\\\n",
       "\t RT @TrumpIsTheTrue: \\#CNN ANCHOR’s SLIP OF THE TONGUE SHOWS THEY STILL WORSHIP \\#OBAMA *VIDEO \\#o4a \\#AmericaFirst https://t.co/oa4guIztb2 http…     & FALSE                                                                                                                                                    & 0                                                                                                                                                        & NA                                                                                                                                                       & 2017-02-18 00:34:40                                                                                                                                      & FALSE                                                                                                                                                    & NA                                                                                                                                                       & 832750143384408068                                                                                                                                       & NA                                                                                                                                                       & <a href=\"http://twitter.com/download/iphone\" rel=\"nofollow\">Twitter for iPhone</a>                                                                       & WarriorTrooper1                                                                                                                                          &   1                                                                                                                                                      &  TRUE                                                                                                                                                    & FALSE                                                                                                                                                    & NA                                                                                                                                                       & NA                                                                                                                                                      \\\\\n",
       "\\end{tabular}\n"
      ],
      "text/markdown": [
       "\n",
       "text | favorited | favoriteCount | replyToSN | created | truncated | replyToSID | id | replyToUID | statusSource | screenName | retweetCount | isRetweet | retweeted | longitude | latitude | \n",
       "|---|---|---|---|---|---|\n",
       "| RT @LastGreatStand: Congress Moves to Stop Obama’s Coup Attempt Against Trump - https://t.co/9e5JPapbMf #democrats #obama #sedition #trump       | FALSE                                                                                                                                            | 0                                                                                                                                                | NA                                                                                                                                               | 2017-02-18 00:35:08                                                                                                                              | FALSE                                                                                                                                            | NA                                                                                                                                               | 832750261122658304                                                                                                                               | NA                                                                                                                                               | <a href=\"http://twitter.com\" rel=\"nofollow\">Twitter Web Client</a>                                                                               | melodysoxgn                                                                                                                                      |  69                                                                                                                                              |  TRUE                                                                                                                                            | FALSE                                                                                                                                            | NA                                                                                                                                               | NA                                                                                                                                               | \n",
       "| Lol...you're accidentally praising #obama and you don't even know it? https://t.co/JyplztPr6B                                                    | FALSE                                                                                                                                            | 0                                                                                                                                                | NA                                                                                                                                               | 2017-02-18 00:35:01                                                                                                                              | FALSE                                                                                                                                            | NA                                                                                                                                               | 832750231271772160                                                                                                                               | NA                                                                                                                                               | <a href=\"http://twitter.com\" rel=\"nofollow\">Twitter Web Client</a>                                                                               | IamnotaMarxist                                                                                                                                   |   0                                                                                                                                              | FALSE                                                                                                                                            | FALSE                                                                                                                                            | NA                                                                                                                                               | NA                                                                                                                                               | \n",
       "| RT @LastGreatStand: U.S. Army Preparing For Urban Warfare...on American Soil...  - https://t.co/tQDN8zoKfN #democrats #obama #sedition #tru…     | FALSE                                                                                                                                            | 0                                                                                                                                                | NA                                                                                                                                               | 2017-02-18 00:34:52                                                                                                                              | FALSE                                                                                                                                            | NA                                                                                                                                               | 832750195024633856                                                                                                                               | NA                                                                                                                                               | <a href=\"http://twitter.com\" rel=\"nofollow\">Twitter Web Client</a>                                                                               | daniricha1rds                                                                                                                                    |  64                                                                                                                                              |  TRUE                                                                                                                                            | FALSE                                                                                                                                            | NA                                                                                                                                               | NA                                                                                                                                               | \n",
       "| RT @RanaHarbi: Welcome to the \"No, you idiots, Obama wasn't a good president\" thread. \n",
       "\n",
       "#Obama #Syria #Libya #Israel #SaudiArabia #Iraq #So…   | FALSE                                                                                                                                            | 0                                                                                                                                                | NA                                                                                                                                               | 2017-02-18 00:34:46                                                                                                                              | FALSE                                                                                                                                            | NA                                                                                                                                               | 832750169988882434                                                                                                                               | NA                                                                                                                                               | <a href=\"http://twitter.com/download/iphone\" rel=\"nofollow\">Twitter for iPhone</a>                                                               | MU3RTA                                                                                                                                           | 296                                                                                                                                              |  TRUE                                                                                                                                            | FALSE                                                                                                                                            | NA                                                                                                                                               | NA                                                                                                                                               | \n",
       "| RT @DarrenMole: Liberals proclaiming how great #Obama is, forget he was the 1 who dropped the bombs then he opened American boarders &amp; prea… | FALSE                                                                                                                                            | 0                                                                                                                                                | NA                                                                                                                                               | 2017-02-18 00:34:42                                                                                                                              | FALSE                                                                                                                                            | NA                                                                                                                                               | 832750151114616836                                                                                                                               | NA                                                                                                                                               | <a href=\"http://twitter.com/download/iphone\" rel=\"nofollow\">Twitter for iPhone</a>                                                               | kfitzsterling                                                                                                                                    |  14                                                                                                                                              |  TRUE                                                                                                                                            | FALSE                                                                                                                                            | NA                                                                                                                                               | NA                                                                                                                                               | \n",
       "| RT @TrumpIsTheTrue: #CNN ANCHOR’s SLIP OF THE TONGUE SHOWS THEY STILL WORSHIP #OBAMA *VIDEO #o4a #AmericaFirst https://t.co/oa4guIztb2 http…     | FALSE                                                                                                                                            | 0                                                                                                                                                | NA                                                                                                                                               | 2017-02-18 00:34:40                                                                                                                              | FALSE                                                                                                                                            | NA                                                                                                                                               | 832750143384408068                                                                                                                               | NA                                                                                                                                               | <a href=\"http://twitter.com/download/iphone\" rel=\"nofollow\">Twitter for iPhone</a>                                                               | WarriorTrooper1                                                                                                                                  |   1                                                                                                                                              |  TRUE                                                                                                                                            | FALSE                                                                                                                                            | NA                                                                                                                                               | NA                                                                                                                                               | \n",
       "\n",
       "\n"
      ],
      "text/plain": [
       "  text                                                                                                                                            \n",
       "1 RT @LastGreatStand: Congress Moves to Stop Obama’s Coup Attempt Against Trump - https://t.co/9e5JPapbMf #democrats #obama #sedition #trump      \n",
       "2 Lol...you're accidentally praising #obama and you don't even know it? https://t.co/JyplztPr6B                                                   \n",
       "3 RT @LastGreatStand: U.S. Army Preparing For Urban Warfare...on American Soil...  - https://t.co/tQDN8zoKfN #democrats #obama #sedition #tru…    \n",
       "4 RT @RanaHarbi: Welcome to the \"No, you idiots, Obama wasn't a good president\" thread. \\n\\n#Obama #Syria #Libya #Israel #SaudiArabia #Iraq #So…  \n",
       "5 RT @DarrenMole: Liberals proclaiming how great #Obama is, forget he was the 1 who dropped the bombs then he opened American boarders &amp; prea…\n",
       "6 RT @TrumpIsTheTrue: #CNN ANCHOR’s SLIP OF THE TONGUE SHOWS THEY STILL WORSHIP #OBAMA *VIDEO #o4a #AmericaFirst https://t.co/oa4guIztb2 http…    \n",
       "  favorited favoriteCount replyToSN created             truncated replyToSID\n",
       "1 FALSE     0             NA        2017-02-18 00:35:08 FALSE     NA        \n",
       "2 FALSE     0             NA        2017-02-18 00:35:01 FALSE     NA        \n",
       "3 FALSE     0             NA        2017-02-18 00:34:52 FALSE     NA        \n",
       "4 FALSE     0             NA        2017-02-18 00:34:46 FALSE     NA        \n",
       "5 FALSE     0             NA        2017-02-18 00:34:42 FALSE     NA        \n",
       "6 FALSE     0             NA        2017-02-18 00:34:40 FALSE     NA        \n",
       "  id                 replyToUID\n",
       "1 832750261122658304 NA        \n",
       "2 832750231271772160 NA        \n",
       "3 832750195024633856 NA        \n",
       "4 832750169988882434 NA        \n",
       "5 832750151114616836 NA        \n",
       "6 832750143384408068 NA        \n",
       "  statusSource                                                                      \n",
       "1 <a href=\"http://twitter.com\" rel=\"nofollow\">Twitter Web Client</a>                \n",
       "2 <a href=\"http://twitter.com\" rel=\"nofollow\">Twitter Web Client</a>                \n",
       "3 <a href=\"http://twitter.com\" rel=\"nofollow\">Twitter Web Client</a>                \n",
       "4 <a href=\"http://twitter.com/download/iphone\" rel=\"nofollow\">Twitter for iPhone</a>\n",
       "5 <a href=\"http://twitter.com/download/iphone\" rel=\"nofollow\">Twitter for iPhone</a>\n",
       "6 <a href=\"http://twitter.com/download/iphone\" rel=\"nofollow\">Twitter for iPhone</a>\n",
       "  screenName      retweetCount isRetweet retweeted longitude latitude\n",
       "1 melodysoxgn      69           TRUE     FALSE     NA        NA      \n",
       "2 IamnotaMarxist    0          FALSE     FALSE     NA        NA      \n",
       "3 daniricha1rds    64           TRUE     FALSE     NA        NA      \n",
       "4 MU3RTA          296           TRUE     FALSE     NA        NA      \n",
       "5 kfitzsterling    14           TRUE     FALSE     NA        NA      \n",
       "6 WarriorTrooper1   1           TRUE     FALSE     NA        NA      "
      ]
     },
     "metadata": {},
     "output_type": "display_data"
    }
   ],
   "source": [
    "head(tweetsDF)"
   ]
  },
  {
   "cell_type": "markdown",
   "metadata": {},
   "source": [
    "Creating a temporary sql file"
   ]
  },
  {
   "cell_type": "code",
   "execution_count": 16,
   "metadata": {
    "collapsed": true
   },
   "outputs": [],
   "source": [
    "sql_lite_file = tempfile()"
   ]
  },
  {
   "cell_type": "markdown",
   "metadata": {},
   "source": [
    "Registering the sqlite file"
   ]
  },
  {
   "cell_type": "code",
   "execution_count": 17,
   "metadata": {
    "collapsed": false
   },
   "outputs": [
    {
     "name": "stderr",
     "output_type": "stream",
     "text": [
      "Loading required namespace: RSQLite\n"
     ]
    }
   ],
   "source": [
    " register_sqlite_backend(sql_lite_file)"
   ]
  },
  {
   "cell_type": "markdown",
   "metadata": {},
   "source": [
    "Storing the tweets in the created database file"
   ]
  },
  {
   "cell_type": "code",
   "execution_count": 18,
   "metadata": {
    "collapsed": false
   },
   "outputs": [
    {
     "data": {
      "text/html": [
       "TRUE"
      ],
      "text/latex": [
       "TRUE"
      ],
      "text/markdown": [
       "TRUE"
      ],
      "text/plain": [
       "[1] TRUE"
      ]
     },
     "metadata": {},
     "output_type": "display_data"
    }
   ],
   "source": [
    "store_tweets_db(sampleTweets)"
   ]
  },
  {
   "cell_type": "markdown",
   "metadata": {},
   "source": [
    "Load tweets from the database"
   ]
  },
  {
   "cell_type": "code",
   "execution_count": 19,
   "metadata": {
    "collapsed": true
   },
   "outputs": [],
   "source": [
    " from_db = load_tweets_db()"
   ]
  },
  {
   "cell_type": "markdown",
   "metadata": {},
   "source": [
    "Display the top tweets from the database"
   ]
  },
  {
   "cell_type": "code",
   "execution_count": 20,
   "metadata": {
    "collapsed": false
   },
   "outputs": [
    {
     "data": {
      "text/plain": [
       "[[1]]\n",
       "[1] \"melodysoxgn: RT @LastGreatStand: Congress Moves to Stop Obama’s Coup Attempt Against Trump - https://t.co/9e5JPapbMf #democrats #obama #sedition #trump\"\n",
       "\n",
       "[[2]]\n",
       "[1] \"IamnotaMarxist: Lol...you're accidentally praising #obama and you don't even know it? https://t.co/JyplztPr6B\"\n",
       "\n",
       "[[3]]\n",
       "[1] \"daniricha1rds: RT @LastGreatStand: U.S. Army Preparing For Urban Warfare...on American Soil...  - https://t.co/tQDN8zoKfN #democrats #obama #sedition #tru…\"\n",
       "\n",
       "[[4]]\n",
       "[1] \"MU3RTA: RT @RanaHarbi: Welcome to the \\\"No, you idiots, Obama wasn't a good president\\\" thread. \\n\\n#Obama #Syria #Libya #Israel #SaudiArabia #Iraq #So…\"\n",
       "\n",
       "[[5]]\n",
       "[1] \"kfitzsterling: RT @DarrenMole: Liberals proclaiming how great #Obama is, forget he was the 1 who dropped the bombs then he opened American boarders &amp; prea…\"\n",
       "\n",
       "[[6]]\n",
       "[1] \"WarriorTrooper1: RT @TrumpIsTheTrue: #CNN ANCHOR’s SLIP OF THE TONGUE SHOWS THEY STILL WORSHIP #OBAMA *VIDEO #o4a #AmericaFirst https://t.co/oa4guIztb2 http…\"\n"
      ]
     },
     "metadata": {},
     "output_type": "display_data"
    }
   ],
   "source": [
    "head(from_db)"
   ]
  },
  {
   "cell_type": "markdown",
   "metadata": {},
   "source": [
    "Retrieving the tweets by the user "
   ]
  },
  {
   "cell_type": "code",
   "execution_count": 21,
   "metadata": {
    "collapsed": true
   },
   "outputs": [],
   "source": [
    "obamaTweets <- userTimeline('BarackObama')"
   ]
  },
  {
   "cell_type": "markdown",
   "metadata": {},
   "source": [
    "Displaying the top 5 tweets"
   ]
  },
  {
   "cell_type": "code",
   "execution_count": 22,
   "metadata": {
    "collapsed": false
   },
   "outputs": [
    {
     "data": {
      "text/plain": [
       "[[1]]\n",
       "[1] \"BarackObama: We asked. You answered. https://t.co/mAJvko6VqR\"\n",
       "\n",
       "[[2]]\n",
       "[1] \"BarackObama: Happy Valentine’s Day, @michelleobama! Almost 28 years with you, but it always feels new. https://t.co/O0UhJWoqGN\"\n",
       "\n",
       "[[3]]\n",
       "[1] \"BarackObama: I read letters like these every single day. It was one of the best parts of the job – hearing from you. https://t.co/so1luBcszV\"\n",
       "\n",
       "[[4]]\n",
       "[1] \"BarackObama: In the meantime, I want to hear what you're thinking about the road ahead. So share your ideas with me here: https://t.co/GYkEOK8EuT\"\n",
       "\n",
       "[[5]]\n",
       "[1] \"BarackObama: Hi everybody! Back to the original handle. Is this thing still on? Michelle and I are off on a quick vacation, then we’ll get back to work.\"\n"
      ]
     },
     "metadata": {},
     "output_type": "display_data"
    }
   ],
   "source": [
    "obamaTweets[1:5]"
   ]
  },
  {
   "cell_type": "markdown",
   "metadata": {},
   "source": [
    "Retrieving the top 100 tweets by the user"
   ]
  },
  {
   "cell_type": "code",
   "execution_count": 24,
   "metadata": {
    "collapsed": true
   },
   "outputs": [],
   "source": [
    "obamaTweetsLarge <- userTimeline('BarackObama',n=100)"
   ]
  },
  {
   "cell_type": "markdown",
   "metadata": {},
   "source": [
    "Getting the length of retreived tweets"
   ]
  },
  {
   "cell_type": "code",
   "execution_count": 25,
   "metadata": {
    "collapsed": false
   },
   "outputs": [
    {
     "data": {
      "text/html": [
       "85"
      ],
      "text/latex": [
       "85"
      ],
      "text/markdown": [
       "85"
      ],
      "text/plain": [
       "[1] 85"
      ]
     },
     "metadata": {},
     "output_type": "display_data"
    }
   ],
   "source": [
    "length(obamaTweetsLarge)"
   ]
  },
  {
   "cell_type": "markdown",
   "metadata": {},
   "source": [
    "Retreiving and storing the available trending locations"
   ]
  },
  {
   "cell_type": "code",
   "execution_count": 26,
   "metadata": {
    "collapsed": true
   },
   "outputs": [],
   "source": [
    " avail_trends = availableTrendLocations()"
   ]
  },
  {
   "cell_type": "markdown",
   "metadata": {},
   "source": [
    "Displaying the available trending locations"
   ]
  },
  {
   "cell_type": "code",
   "execution_count": 27,
   "metadata": {
    "collapsed": false
   },
   "outputs": [
    {
     "data": {
      "text/html": [
       "<table>\n",
       "<thead><tr><th scope=col>name</th><th scope=col>country</th><th scope=col>woeid</th></tr></thead>\n",
       "<tbody>\n",
       "\t<tr><td>Worldwide</td><td>         </td><td>1        </td></tr>\n",
       "\t<tr><td>Winnipeg </td><td>Canada   </td><td>2972     </td></tr>\n",
       "\t<tr><td>Ottawa   </td><td>Canada   </td><td>3369     </td></tr>\n",
       "\t<tr><td>Quebec   </td><td>Canada   </td><td>3444     </td></tr>\n",
       "\t<tr><td>Montreal </td><td>Canada   </td><td>3534     </td></tr>\n",
       "\t<tr><td>Toronto  </td><td>Canada   </td><td>4118     </td></tr>\n",
       "</tbody>\n",
       "</table>\n"
      ],
      "text/latex": [
       "\\begin{tabular}{r|lll}\n",
       " name & country & woeid\\\\\n",
       "\\hline\n",
       "\t Worldwide &           & 1        \\\\\n",
       "\t Winnipeg  & Canada    & 2972     \\\\\n",
       "\t Ottawa    & Canada    & 3369     \\\\\n",
       "\t Quebec    & Canada    & 3444     \\\\\n",
       "\t Montreal  & Canada    & 3534     \\\\\n",
       "\t Toronto   & Canada    & 4118     \\\\\n",
       "\\end{tabular}\n"
      ],
      "text/markdown": [
       "\n",
       "name | country | woeid | \n",
       "|---|---|---|---|---|---|\n",
       "| Worldwide |           | 1         | \n",
       "| Winnipeg  | Canada    | 2972      | \n",
       "| Ottawa    | Canada    | 3369      | \n",
       "| Quebec    | Canada    | 3444      | \n",
       "| Montreal  | Canada    | 3534      | \n",
       "| Toronto   | Canada    | 4118      | \n",
       "\n",
       "\n"
      ],
      "text/plain": [
       "  name      country woeid\n",
       "1 Worldwide         1    \n",
       "2 Winnipeg  Canada  2972 \n",
       "3 Ottawa    Canada  3369 \n",
       "4 Quebec    Canada  3444 \n",
       "5 Montreal  Canada  3534 \n",
       "6 Toronto   Canada  4118 "
      ]
     },
     "metadata": {},
     "output_type": "display_data"
    }
   ],
   "source": [
    "head(avail_trends)"
   ]
  },
  {
   "cell_type": "markdown",
   "metadata": {},
   "source": [
    "Display the closest trend locations for the given coordinates"
   ]
  },
  {
   "cell_type": "code",
   "execution_count": 28,
   "metadata": {
    "collapsed": true
   },
   "outputs": [],
   "source": [
    "close_trends = closestTrendLocations(-42.8, -71.1)"
   ]
  },
  {
   "cell_type": "markdown",
   "metadata": {},
   "source": [
    "Display the closest trending locations"
   ]
  },
  {
   "cell_type": "code",
   "execution_count": 29,
   "metadata": {
    "collapsed": false
   },
   "outputs": [
    {
     "data": {
      "text/html": [
       "<table>\n",
       "<thead><tr><th scope=col>name</th><th scope=col>country</th><th scope=col>woeid</th></tr></thead>\n",
       "<tbody>\n",
       "\t<tr><td>Concepcion</td><td>Chile     </td><td>349860    </td></tr>\n",
       "</tbody>\n",
       "</table>\n"
      ],
      "text/latex": [
       "\\begin{tabular}{r|lll}\n",
       " name & country & woeid\\\\\n",
       "\\hline\n",
       "\t Concepcion & Chile      & 349860    \\\\\n",
       "\\end{tabular}\n"
      ],
      "text/markdown": [
       "\n",
       "name | country | woeid | \n",
       "|---|\n",
       "| Concepcion | Chile      | 349860     | \n",
       "\n",
       "\n"
      ],
      "text/plain": [
       "  name       country woeid \n",
       "1 Concepcion Chile   349860"
      ]
     },
     "metadata": {},
     "output_type": "display_data"
    }
   ],
   "source": [
    "head(close_trends)"
   ]
  },
  {
   "cell_type": "markdown",
   "metadata": {},
   "source": [
    "Get the trends of received woeid"
   ]
  },
  {
   "cell_type": "code",
   "execution_count": 30,
   "metadata": {
    "collapsed": true
   },
   "outputs": [],
   "source": [
    " trends = getTrends(349860)"
   ]
  },
  {
   "cell_type": "markdown",
   "metadata": {},
   "source": [
    "Display the trends for the searched woeid"
   ]
  },
  {
   "cell_type": "code",
   "execution_count": 31,
   "metadata": {
    "collapsed": false
   },
   "outputs": [
    {
     "data": {
      "text/html": [
       "<table>\n",
       "<thead><tr><th scope=col>name</th><th scope=col>url</th><th scope=col>query</th><th scope=col>woeid</th></tr></thead>\n",
       "<tbody>\n",
       "\t<tr><td>#VamosLaU                                       </td><td>http://twitter.com/search?q=%23VamosLaU         </td><td>%23VamosLaU                                     </td><td>349860                                          </td></tr>\n",
       "\t<tr><td>#LaGala                                         </td><td>http://twitter.com/search?q=%23LaGala           </td><td>%23LaGala                                       </td><td>349860                                          </td></tr>\n",
       "\t<tr><td>Lampe                                           </td><td>http://twitter.com/search?q=Lampe               </td><td>Lampe                                           </td><td>349860                                          </td></tr>\n",
       "\t<tr><td>#LosFloresALaCalle                              </td><td>http://twitter.com/search?q=%23LosFloresALaCalle</td><td>%23LosFloresALaCalle                            </td><td>349860                                          </td></tr>\n",
       "\t<tr><td>#jugadorexperto                                 </td><td>http://twitter.com/search?q=%23jugadorexperto   </td><td>%23jugadorexperto                               </td><td>349860                                          </td></tr>\n",
       "\t<tr><td>#TeenWolfChile2017                              </td><td>http://twitter.com/search?q=%23TeenWolfChile2017</td><td>%23TeenWolfChile2017                            </td><td>349860                                          </td></tr>\n",
       "</tbody>\n",
       "</table>\n"
      ],
      "text/latex": [
       "\\begin{tabular}{r|llll}\n",
       " name & url & query & woeid\\\\\n",
       "\\hline\n",
       "\t \\#VamosLaU                                        & http://twitter.com/search?q=\\%23VamosLaU          & \\%23VamosLaU                                      & 349860                                            \\\\\n",
       "\t \\#LaGala                                          & http://twitter.com/search?q=\\%23LaGala            & \\%23LaGala                                        & 349860                                            \\\\\n",
       "\t Lampe                                            & http://twitter.com/search?q=Lampe                & Lampe                                            & 349860                                          \\\\\n",
       "\t \\#LosFloresALaCalle                               & http://twitter.com/search?q=\\%23LosFloresALaCalle & \\%23LosFloresALaCalle                             & 349860                                            \\\\\n",
       "\t \\#jugadorexperto                                  & http://twitter.com/search?q=\\%23jugadorexperto    & \\%23jugadorexperto                                & 349860                                            \\\\\n",
       "\t \\#TeenWolfChile2017                               & http://twitter.com/search?q=\\%23TeenWolfChile2017 & \\%23TeenWolfChile2017                             & 349860                                            \\\\\n",
       "\\end{tabular}\n"
      ],
      "text/markdown": [
       "\n",
       "name | url | query | woeid | \n",
       "|---|---|---|---|---|---|\n",
       "| #VamosLaU                                        | http://twitter.com/search?q=%23VamosLaU          | %23VamosLaU                                      | 349860                                           | \n",
       "| #LaGala                                          | http://twitter.com/search?q=%23LaGala            | %23LaGala                                        | 349860                                           | \n",
       "| Lampe                                            | http://twitter.com/search?q=Lampe                | Lampe                                            | 349860                                           | \n",
       "| #LosFloresALaCalle                               | http://twitter.com/search?q=%23LosFloresALaCalle | %23LosFloresALaCalle                             | 349860                                           | \n",
       "| #jugadorexperto                                  | http://twitter.com/search?q=%23jugadorexperto    | %23jugadorexperto                                | 349860                                           | \n",
       "| #TeenWolfChile2017                               | http://twitter.com/search?q=%23TeenWolfChile2017 | %23TeenWolfChile2017                             | 349860                                           | \n",
       "\n",
       "\n"
      ],
      "text/plain": [
       "  name               url                                             \n",
       "1 #VamosLaU          http://twitter.com/search?q=%23VamosLaU         \n",
       "2 #LaGala            http://twitter.com/search?q=%23LaGala           \n",
       "3 Lampe              http://twitter.com/search?q=Lampe               \n",
       "4 #LosFloresALaCalle http://twitter.com/search?q=%23LosFloresALaCalle\n",
       "5 #jugadorexperto    http://twitter.com/search?q=%23jugadorexperto   \n",
       "6 #TeenWolfChile2017 http://twitter.com/search?q=%23TeenWolfChile2017\n",
       "  query                woeid \n",
       "1 %23VamosLaU          349860\n",
       "2 %23LaGala            349860\n",
       "3 Lampe                349860\n",
       "4 %23LosFloresALaCalle 349860\n",
       "5 %23jugadorexperto    349860\n",
       "6 %23TeenWolfChile2017 349860"
      ]
     },
     "metadata": {},
     "output_type": "display_data"
    }
   ],
   "source": [
    "head(trends)"
   ]
  },
  {
   "cell_type": "markdown",
   "metadata": {},
   "source": [
    "Search for #obama tweets"
   ]
  },
  {
   "cell_type": "code",
   "execution_count": 32,
   "metadata": {
    "collapsed": true
   },
   "outputs": [],
   "source": [
    "r_tweets <- searchTwitter(\"#obama\", n=300)"
   ]
  },
  {
   "cell_type": "markdown",
   "metadata": {},
   "source": [
    "Search for sources in the tweets"
   ]
  },
  {
   "cell_type": "code",
   "execution_count": 33,
   "metadata": {
    "collapsed": true
   },
   "outputs": [],
   "source": [
    "sources <- sapply(r_tweets, function(x) x$getStatusSource())"
   ]
  },
  {
   "cell_type": "markdown",
   "metadata": {},
   "source": [
    "Remove the anchor tags from the sources"
   ]
  },
  {
   "cell_type": "code",
   "execution_count": 34,
   "metadata": {
    "collapsed": true
   },
   "outputs": [],
   "source": [
    " sources <- gsub(\"</a>\", \"\", sources)"
   ]
  },
  {
   "cell_type": "markdown",
   "metadata": {},
   "source": [
    "Split the string by >"
   ]
  },
  {
   "cell_type": "code",
   "execution_count": 35,
   "metadata": {
    "collapsed": true
   },
   "outputs": [],
   "source": [
    "sources <- strsplit(sources, \">\")"
   ]
  },
  {
   "cell_type": "markdown",
   "metadata": {},
   "source": [
    "Traversing over a set of data like a list or vector, and calling the specified function for each item"
   ]
  },
  {
   "cell_type": "code",
   "execution_count": 36,
   "metadata": {
    "collapsed": true
   },
   "outputs": [],
   "source": [
    " sources <- sapply(sources, function(x) ifelse(length(x) > 1, x[2], x[1]))"
   ]
  },
  {
   "cell_type": "markdown",
   "metadata": {},
   "source": [
    "To get the tabular results of the sources"
   ]
  },
  {
   "cell_type": "code",
   "execution_count": 37,
   "metadata": {
    "collapsed": true
   },
   "outputs": [],
   "source": [
    "source_table = table(sources)"
   ]
  },
  {
   "cell_type": "markdown",
   "metadata": {},
   "source": [
    "Draw the pie chart of the source_table"
   ]
  },
  {
   "cell_type": "code",
   "execution_count": 38,
   "metadata": {
    "collapsed": false
   },
   "outputs": [
    {
     "data": {
      "image/png": "[encoded data removed]",
      "text/plain": [
       "plot without title"
      ]
     },
     "metadata": {},
     "output_type": "display_data"
    }
   ],
   "source": [
    "pie(source_table[source_table > 10])"
   ]
  },
  {
   "cell_type": "code",
   "execution_count": null,
   "metadata": {
    "collapsed": true
   },
   "outputs": [],
   "source": []
  }
 ],
 "metadata": {
  "anaconda-cloud": {},
  "kernelspec": {
   "display_name": "R",
   "language": "R",
   "name": "ir"
  },
  "language_info": {
   "codemirror_mode": "r",
   "file_extension": ".r",
   "mimetype": "text/x-r-source",
   "name": "R",
   "pygments_lexer": "r",
   "version": "3.3.2"
  }
 },
 "nbformat": 4,
 "nbformat_minor": 1
}
