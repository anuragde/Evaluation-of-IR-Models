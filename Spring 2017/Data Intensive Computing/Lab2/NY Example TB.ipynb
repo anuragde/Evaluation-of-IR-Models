{
 "cells": [
  {
   "cell_type": "code",
   "execution_count": 1,
   "metadata": {
    "collapsed": false
   },
   "outputs": [
    {
     "name": "stderr",
     "output_type": "stream",
     "text": [
      "Updating HTML index of packages in '.Library'\n",
      "Making 'packages.html' ... done\n"
     ]
    }
   ],
   "source": [
    "install.packages(\"doBy\")"
   ]
  },
  {
   "cell_type": "code",
   "execution_count": 2,
   "metadata": {
    "collapsed": true
   },
   "outputs": [],
   "source": [
    "library(\"doBy\")"
   ]
  },
  {
   "cell_type": "code",
   "execution_count": 3,
   "metadata": {
    "collapsed": true
   },
   "outputs": [],
   "source": [
    "data1 <- read.csv(url(\"http://stat.columbia.edu/~rachel/datasets/nyt1.csv\"))"
   ]
  },
  {
   "cell_type": "code",
   "execution_count": 4,
   "metadata": {
    "collapsed": false
   },
   "outputs": [
    {
     "data": {
      "text/html": [
       "<table>\n",
       "<thead><tr><th scope=col>Age</th><th scope=col>Gender</th><th scope=col>Impressions</th><th scope=col>Clicks</th><th scope=col>Signed_In</th></tr></thead>\n",
       "<tbody>\n",
       "\t<tr><td>36</td><td>0 </td><td> 3</td><td>0 </td><td>1 </td></tr>\n",
       "\t<tr><td>73</td><td>1 </td><td> 3</td><td>0 </td><td>1 </td></tr>\n",
       "\t<tr><td>30</td><td>0 </td><td> 3</td><td>0 </td><td>1 </td></tr>\n",
       "\t<tr><td>49</td><td>1 </td><td> 3</td><td>0 </td><td>1 </td></tr>\n",
       "\t<tr><td>47</td><td>1 </td><td>11</td><td>0 </td><td>1 </td></tr>\n",
       "\t<tr><td>47</td><td>0 </td><td>11</td><td>1 </td><td>1 </td></tr>\n",
       "</tbody>\n",
       "</table>\n"
      ],
      "text/latex": [
       "\\begin{tabular}{r|lllll}\n",
       " Age & Gender & Impressions & Clicks & Signed\\_In\\\\\n",
       "\\hline\n",
       "\t 36 & 0  &  3 & 0  & 1 \\\\\n",
       "\t 73 & 1  &  3 & 0  & 1 \\\\\n",
       "\t 30 & 0  &  3 & 0  & 1 \\\\\n",
       "\t 49 & 1  &  3 & 0  & 1 \\\\\n",
       "\t 47 & 1  & 11 & 0  & 1 \\\\\n",
       "\t 47 & 0  & 11 & 1  & 1 \\\\\n",
       "\\end{tabular}\n"
      ],
      "text/markdown": [
       "\n",
       "Age | Gender | Impressions | Clicks | Signed_In | \n",
       "|---|---|---|---|---|---|\n",
       "| 36 | 0  |  3 | 0  | 1  | \n",
       "| 73 | 1  |  3 | 0  | 1  | \n",
       "| 30 | 0  |  3 | 0  | 1  | \n",
       "| 49 | 1  |  3 | 0  | 1  | \n",
       "| 47 | 1  | 11 | 0  | 1  | \n",
       "| 47 | 0  | 11 | 1  | 1  | \n",
       "\n",
       "\n"
      ],
      "text/plain": [
       "  Age Gender Impressions Clicks Signed_In\n",
       "1 36  0       3          0      1        \n",
       "2 73  1       3          0      1        \n",
       "3 30  0       3          0      1        \n",
       "4 49  1       3          0      1        \n",
       "5 47  1      11          0      1        \n",
       "6 47  0      11          1      1        "
      ]
     },
     "metadata": {},
     "output_type": "display_data"
    }
   ],
   "source": [
    "head(data1)"
   ]
  },
  {
   "cell_type": "code",
   "execution_count": 5,
   "metadata": {
    "collapsed": true
   },
   "outputs": [],
   "source": [
    "data1$agecat<-cut(data1$Age,c(-Inf,0,18,24,34,44,54,64,Inf))"
   ]
  },
  {
   "cell_type": "code",
   "execution_count": 6,
   "metadata": {
    "collapsed": false
   },
   "outputs": [
    {
     "data": {
      "text/html": [
       "<table>\n",
       "<thead><tr><th scope=col>Age</th><th scope=col>Gender</th><th scope=col>Impressions</th><th scope=col>Clicks</th><th scope=col>Signed_In</th><th scope=col>agecat</th></tr></thead>\n",
       "<tbody>\n",
       "\t<tr><td>36       </td><td>0        </td><td> 3       </td><td>0        </td><td>1        </td><td>(34,44]  </td></tr>\n",
       "\t<tr><td>73       </td><td>1        </td><td> 3       </td><td>0        </td><td>1        </td><td>(64, Inf]</td></tr>\n",
       "\t<tr><td>30       </td><td>0        </td><td> 3       </td><td>0        </td><td>1        </td><td>(24,34]  </td></tr>\n",
       "\t<tr><td>49       </td><td>1        </td><td> 3       </td><td>0        </td><td>1        </td><td>(44,54]  </td></tr>\n",
       "\t<tr><td>47       </td><td>1        </td><td>11       </td><td>0        </td><td>1        </td><td>(44,54]  </td></tr>\n",
       "\t<tr><td>47       </td><td>0        </td><td>11       </td><td>1        </td><td>1        </td><td>(44,54]  </td></tr>\n",
       "</tbody>\n",
       "</table>\n"
      ],
      "text/latex": [
       "\\begin{tabular}{r|llllll}\n",
       " Age & Gender & Impressions & Clicks & Signed\\_In & agecat\\\\\n",
       "\\hline\n",
       "\t 36          & 0           &  3          & 0           & 1           & (34,44{]}  \\\\\n",
       "\t 73          & 1           &  3          & 0           & 1           & (64, Inf{]}\\\\\n",
       "\t 30          & 0           &  3          & 0           & 1           & (24,34{]}  \\\\\n",
       "\t 49          & 1           &  3          & 0           & 1           & (44,54{]}  \\\\\n",
       "\t 47          & 1           & 11          & 0           & 1           & (44,54{]}  \\\\\n",
       "\t 47          & 0           & 11          & 1           & 1           & (44,54{]}  \\\\\n",
       "\\end{tabular}\n"
      ],
      "text/markdown": [
       "\n",
       "Age | Gender | Impressions | Clicks | Signed_In | agecat | \n",
       "|---|---|---|---|---|---|\n",
       "| 36        | 0         |  3        | 0         | 1         | (34,44]   | \n",
       "| 73        | 1         |  3        | 0         | 1         | (64, Inf] | \n",
       "| 30        | 0         |  3        | 0         | 1         | (24,34]   | \n",
       "| 49        | 1         |  3        | 0         | 1         | (44,54]   | \n",
       "| 47        | 1         | 11        | 0         | 1         | (44,54]   | \n",
       "| 47        | 0         | 11        | 1         | 1         | (44,54]   | \n",
       "\n",
       "\n"
      ],
      "text/plain": [
       "  Age Gender Impressions Clicks Signed_In agecat   \n",
       "1 36  0       3          0      1         (34,44]  \n",
       "2 73  1       3          0      1         (64, Inf]\n",
       "3 30  0       3          0      1         (24,34]  \n",
       "4 49  1       3          0      1         (44,54]  \n",
       "5 47  1      11          0      1         (44,54]  \n",
       "6 47  0      11          1      1         (44,54]  "
      ]
     },
     "metadata": {},
     "output_type": "display_data"
    }
   ],
   "source": [
    "head(data1)"
   ]
  },
  {
   "cell_type": "code",
   "execution_count": 7,
   "metadata": {
    "collapsed": false
   },
   "outputs": [
    {
     "data": {
      "text/plain": [
       "      Age             Gender       Impressions         Clicks       \n",
       " Min.   :  0.00   Min.   :0.000   Min.   : 0.000   Min.   :0.00000  \n",
       " 1st Qu.:  0.00   1st Qu.:0.000   1st Qu.: 3.000   1st Qu.:0.00000  \n",
       " Median : 31.00   Median :0.000   Median : 5.000   Median :0.00000  \n",
       " Mean   : 29.48   Mean   :0.367   Mean   : 5.007   Mean   :0.09259  \n",
       " 3rd Qu.: 48.00   3rd Qu.:1.000   3rd Qu.: 6.000   3rd Qu.:0.00000  \n",
       " Max.   :108.00   Max.   :1.000   Max.   :20.000   Max.   :4.00000  \n",
       "                                                                    \n",
       "   Signed_In           agecat      \n",
       " Min.   :0.0000   (-Inf,0]:137106  \n",
       " 1st Qu.:0.0000   (34,44] : 70860  \n",
       " Median :1.0000   (44,54] : 64288  \n",
       " Mean   :0.7009   (24,34] : 58174  \n",
       " 3rd Qu.:1.0000   (54,64] : 44738  \n",
       " Max.   :1.0000   (18,24] : 35270  \n",
       "                  (Other) : 48005  "
      ]
     },
     "metadata": {},
     "output_type": "display_data"
    }
   ],
   "source": [
    "summary(data1)"
   ]
  },
  {
   "cell_type": "code",
   "execution_count": 8,
   "metadata": {
    "collapsed": true
   },
   "outputs": [],
   "source": [
    "siterange <- function(x){c(length(x),min(x),max(x),mean(x))}"
   ]
  },
  {
   "cell_type": "code",
   "execution_count": 9,
   "metadata": {
    "collapsed": false
   },
   "outputs": [
    {
     "data": {
      "text/html": [
       "<pre class=language-r><code>function (x) \n",
       "{\n",
       "<span style=white-space:pre-wrap>    c(length(x), min(x), max(x), mean(x))</span>\n",
       "}</code></pre>"
      ],
      "text/latex": [
       "\\begin{minted}{r}\n",
       "function (x) \n",
       "\\{\n",
       "    c(length(x), min(x), max(x), mean(x))\n",
       "\\}\n",
       "\\end{minted}"
      ],
      "text/markdown": [
       "```r\n",
       "function (x) \n",
       "{\n",
       "    c(length(x), min(x), max(x), mean(x))\n",
       "}\n",
       "```"
      ],
      "text/plain": [
       "function(x){c(length(x),min(x),max(x),mean(x))}"
      ]
     },
     "metadata": {},
     "output_type": "display_data"
    }
   ],
   "source": [
    "siterange"
   ]
  },
  {
   "cell_type": "code",
   "execution_count": 14,
   "metadata": {
    "collapsed": false
   },
   "outputs": [
    {
     "data": {
      "text/html": [
       "<table>\n",
       "<thead><tr><th scope=col>agecat</th><th scope=col>Age.FUN1</th><th scope=col>Age.FUN2</th><th scope=col>Age.FUN3</th><th scope=col>Age.FUN4</th></tr></thead>\n",
       "<tbody>\n",
       "\t<tr><td>(-Inf,0] </td><td>137106   </td><td> 0       </td><td>  0      </td><td> 0.00000 </td></tr>\n",
       "\t<tr><td>(0,18]   </td><td> 19252   </td><td> 7       </td><td> 18      </td><td>16.03350 </td></tr>\n",
       "\t<tr><td>(18,24]  </td><td> 35270   </td><td>19       </td><td> 24      </td><td>21.26904 </td></tr>\n",
       "\t<tr><td>(24,34]  </td><td> 58174   </td><td>25       </td><td> 34      </td><td>29.50335 </td></tr>\n",
       "\t<tr><td>(34,44]  </td><td> 70860   </td><td>35       </td><td> 44      </td><td>39.49468 </td></tr>\n",
       "\t<tr><td>(44,54]  </td><td> 64288   </td><td>45       </td><td> 54      </td><td>49.49258 </td></tr>\n",
       "\t<tr><td>(54,64]  </td><td> 44738   </td><td>55       </td><td> 64      </td><td>59.49819 </td></tr>\n",
       "\t<tr><td>(64, Inf]</td><td> 28753   </td><td>65       </td><td>108      </td><td>72.98870 </td></tr>\n",
       "</tbody>\n",
       "</table>\n"
      ],
      "text/latex": [
       "\\begin{tabular}{r|lllll}\n",
       " agecat & Age.FUN1 & Age.FUN2 & Age.FUN3 & Age.FUN4\\\\\n",
       "\\hline\n",
       "\t (-Inf,0{]}  & 137106      &  0          &   0         &  0.00000   \\\\\n",
       "\t (0,18{]}    &  19252      &  7          &  18         & 16.03350   \\\\\n",
       "\t (18,24{]}   &  35270      & 19          &  24         & 21.26904   \\\\\n",
       "\t (24,34{]}   &  58174      & 25          &  34         & 29.50335   \\\\\n",
       "\t (34,44{]}   &  70860      & 35          &  44         & 39.49468   \\\\\n",
       "\t (44,54{]}   &  64288      & 45          &  54         & 49.49258   \\\\\n",
       "\t (54,64{]}   &  44738      & 55          &  64         & 59.49819   \\\\\n",
       "\t (64, Inf{]} &  28753      & 65          & 108         & 72.98870   \\\\\n",
       "\\end{tabular}\n"
      ],
      "text/markdown": [
       "\n",
       "agecat | Age.FUN1 | Age.FUN2 | Age.FUN3 | Age.FUN4 | \n",
       "|---|---|---|---|---|---|---|---|\n",
       "| (-Inf,0]  | 137106    |  0        |   0       |  0.00000  | \n",
       "| (0,18]    |  19252    |  7        |  18       | 16.03350  | \n",
       "| (18,24]   |  35270    | 19        |  24       | 21.26904  | \n",
       "| (24,34]   |  58174    | 25        |  34       | 29.50335  | \n",
       "| (34,44]   |  70860    | 35        |  44       | 39.49468  | \n",
       "| (44,54]   |  64288    | 45        |  54       | 49.49258  | \n",
       "| (54,64]   |  44738    | 55        |  64       | 59.49819  | \n",
       "| (64, Inf] |  28753    | 65        | 108       | 72.98870  | \n",
       "\n",
       "\n"
      ],
      "text/plain": [
       "  agecat    Age.FUN1 Age.FUN2 Age.FUN3 Age.FUN4\n",
       "1 (-Inf,0]  137106    0         0       0.00000\n",
       "2 (0,18]     19252    7        18      16.03350\n",
       "3 (18,24]    35270   19        24      21.26904\n",
       "4 (24,34]    58174   25        34      29.50335\n",
       "5 (34,44]    70860   35        44      39.49468\n",
       "6 (44,54]    64288   45        54      49.49258\n",
       "7 (54,64]    44738   55        64      59.49819\n",
       "8 (64, Inf]  28753   65       108      72.98870"
      ]
     },
     "metadata": {},
     "output_type": "display_data"
    }
   ],
   "source": [
    "summaryBy(Age~agecat,data=data1,FUN = siterange)"
   ]
  },
  {
   "cell_type": "code",
   "execution_count": 15,
   "metadata": {
    "collapsed": false
   },
   "outputs": [
    {
     "data": {
      "text/html": [
       "<table>\n",
       "<thead><tr><th scope=col>agecat</th><th scope=col>Gender.mean</th><th scope=col>Impressions.mean</th><th scope=col>Clicks.mean</th></tr></thead>\n",
       "<tbody>\n",
       "\t<tr><td>(-Inf,0]  </td><td>0.0000000 </td><td>4.999657  </td><td>0.14207985</td></tr>\n",
       "\t<tr><td>(0,18]    </td><td>0.6421151 </td><td>4.998961  </td><td>0.13105132</td></tr>\n",
       "\t<tr><td>(18,24]   </td><td>0.5338531 </td><td>5.006635  </td><td>0.04845478</td></tr>\n",
       "\t<tr><td>(24,34]   </td><td>0.5321621 </td><td>4.993829  </td><td>0.05048647</td></tr>\n",
       "\t<tr><td>(34,44]   </td><td>0.5316963 </td><td>5.021507  </td><td>0.05167937</td></tr>\n",
       "\t<tr><td>(44,54]   </td><td>0.5289790 </td><td>5.010406  </td><td>0.05027377</td></tr>\n",
       "\t<tr><td>(54,64]   </td><td>0.5361885 </td><td>5.022308  </td><td>0.10183736</td></tr>\n",
       "\t<tr><td>(64, Inf] </td><td>0.3632664 </td><td>5.012347  </td><td>0.15128856</td></tr>\n",
       "</tbody>\n",
       "</table>\n"
      ],
      "text/latex": [
       "\\begin{tabular}{r|llll}\n",
       " agecat & Gender.mean & Impressions.mean & Clicks.mean\\\\\n",
       "\\hline\n",
       "\t (-Inf,0{]}  & 0.0000000   & 4.999657    & 0.14207985 \\\\\n",
       "\t (0,18{]}    & 0.6421151   & 4.998961    & 0.13105132 \\\\\n",
       "\t (18,24{]}   & 0.5338531   & 5.006635    & 0.04845478 \\\\\n",
       "\t (24,34{]}   & 0.5321621   & 4.993829    & 0.05048647 \\\\\n",
       "\t (34,44{]}   & 0.5316963   & 5.021507    & 0.05167937 \\\\\n",
       "\t (44,54{]}   & 0.5289790   & 5.010406    & 0.05027377 \\\\\n",
       "\t (54,64{]}   & 0.5361885   & 5.022308    & 0.10183736 \\\\\n",
       "\t (64, Inf{]} & 0.3632664   & 5.012347    & 0.15128856 \\\\\n",
       "\\end{tabular}\n"
      ],
      "text/markdown": [
       "\n",
       "agecat | Gender.mean | Impressions.mean | Clicks.mean | \n",
       "|---|---|---|---|---|---|---|---|\n",
       "| (-Inf,0]   | 0.0000000  | 4.999657   | 0.14207985 | \n",
       "| (0,18]     | 0.6421151  | 4.998961   | 0.13105132 | \n",
       "| (18,24]    | 0.5338531  | 5.006635   | 0.04845478 | \n",
       "| (24,34]    | 0.5321621  | 4.993829   | 0.05048647 | \n",
       "| (34,44]    | 0.5316963  | 5.021507   | 0.05167937 | \n",
       "| (44,54]    | 0.5289790  | 5.010406   | 0.05027377 | \n",
       "| (54,64]    | 0.5361885  | 5.022308   | 0.10183736 | \n",
       "| (64, Inf]  | 0.3632664  | 5.012347   | 0.15128856 | \n",
       "\n",
       "\n"
      ],
      "text/plain": [
       "  agecat    Gender.mean Impressions.mean Clicks.mean\n",
       "1 (-Inf,0]  0.0000000   4.999657         0.14207985 \n",
       "2 (0,18]    0.6421151   4.998961         0.13105132 \n",
       "3 (18,24]   0.5338531   5.006635         0.04845478 \n",
       "4 (24,34]   0.5321621   4.993829         0.05048647 \n",
       "5 (34,44]   0.5316963   5.021507         0.05167937 \n",
       "6 (44,54]   0.5289790   5.010406         0.05027377 \n",
       "7 (54,64]   0.5361885   5.022308         0.10183736 \n",
       "8 (64, Inf] 0.3632664   5.012347         0.15128856 "
      ]
     },
     "metadata": {},
     "output_type": "display_data"
    }
   ],
   "source": [
    "summaryBy(Gender+Signed_In+Impressions+Clicks~agecat,data =data1)"
   ]
  },
  {
   "cell_type": "code",
   "execution_count": 20,
   "metadata": {
    "collapsed": false
   },
   "outputs": [],
   "source": [
    "library(\"ggplot2\")"
   ]
  },
  {
   "cell_type": "code",
   "execution_count": 22,
   "metadata": {
    "collapsed": false
   },
   "outputs": [],
   "source": [
    "data1$hasimps <-cut(data1$Impressions,c(-Inf,0,Inf))"
   ]
  },
  {
   "cell_type": "code",
   "execution_count": 24,
   "metadata": {
    "collapsed": false
   },
   "outputs": [
    {
     "data": {
      "text/html": [
       "<table>\n",
       "<thead><tr><th scope=col>hasimps</th><th scope=col>Clicks.FUN1</th><th scope=col>Clicks.FUN2</th><th scope=col>Clicks.FUN3</th><th scope=col>Clicks.FUN4</th></tr></thead>\n",
       "<tbody>\n",
       "\t<tr><td>(-Inf,0]  </td><td>  3066    </td><td>0         </td><td>0         </td><td>0.00000000</td></tr>\n",
       "\t<tr><td>(0, Inf]  </td><td>455375    </td><td>0         </td><td>4         </td><td>0.09321768</td></tr>\n",
       "</tbody>\n",
       "</table>\n"
      ],
      "text/latex": [
       "\\begin{tabular}{r|lllll}\n",
       " hasimps & Clicks.FUN1 & Clicks.FUN2 & Clicks.FUN3 & Clicks.FUN4\\\\\n",
       "\\hline\n",
       "\t (-Inf,0{]} &   3066     & 0          & 0          & 0.00000000\\\\\n",
       "\t (0, Inf{]} & 455375     & 0          & 4          & 0.09321768\\\\\n",
       "\\end{tabular}\n"
      ],
      "text/markdown": [
       "\n",
       "hasimps | Clicks.FUN1 | Clicks.FUN2 | Clicks.FUN3 | Clicks.FUN4 | \n",
       "|---|---|\n",
       "| (-Inf,0]   |   3066     | 0          | 0          | 0.00000000 | \n",
       "| (0, Inf]   | 455375     | 0          | 4          | 0.09321768 | \n",
       "\n",
       "\n"
      ],
      "text/plain": [
       "  hasimps  Clicks.FUN1 Clicks.FUN2 Clicks.FUN3 Clicks.FUN4\n",
       "1 (-Inf,0]   3066      0           0           0.00000000 \n",
       "2 (0, Inf] 455375      0           4           0.09321768 "
      ]
     },
     "metadata": {},
     "output_type": "display_data"
    }
   ],
   "source": [
    "summaryBy(Clicks~hasimps, data =data1, FUN=siterange)"
   ]
  },
  {
   "cell_type": "code",
   "execution_count": 25,
   "metadata": {
    "collapsed": true
   },
   "outputs": [],
   "source": [
    "data1$scode[data1$Impressions==0] <- \"NoImps\"\n",
    "data1$scode[data1$Impressions >0] <- \"Imps\"\n",
    "data1$scode[data1$Clicks >0] <- \"Clicks\""
   ]
  },
  {
   "cell_type": "code",
   "execution_count": 27,
   "metadata": {
    "collapsed": false
   },
   "outputs": [
    {
     "data": {
      "text/html": [
       "<table>\n",
       "<thead><tr><th scope=col>Age</th><th scope=col>Gender</th><th scope=col>Impressions</th><th scope=col>Clicks</th><th scope=col>Signed_In</th><th scope=col>agecat</th><th scope=col>hasimps</th><th scope=col>scode</th></tr></thead>\n",
       "<tbody>\n",
       "\t<tr><td>36       </td><td>0        </td><td> 3       </td><td>0        </td><td>1        </td><td>(34,44]  </td><td>(0, Inf] </td><td>Imps     </td></tr>\n",
       "\t<tr><td>73       </td><td>1        </td><td> 3       </td><td>0        </td><td>1        </td><td>(64, Inf]</td><td>(0, Inf] </td><td>Imps     </td></tr>\n",
       "\t<tr><td>30       </td><td>0        </td><td> 3       </td><td>0        </td><td>1        </td><td>(24,34]  </td><td>(0, Inf] </td><td>Imps     </td></tr>\n",
       "\t<tr><td>49       </td><td>1        </td><td> 3       </td><td>0        </td><td>1        </td><td>(44,54]  </td><td>(0, Inf] </td><td>Imps     </td></tr>\n",
       "\t<tr><td>47       </td><td>1        </td><td>11       </td><td>0        </td><td>1        </td><td>(44,54]  </td><td>(0, Inf] </td><td>Imps     </td></tr>\n",
       "\t<tr><td>47       </td><td>0        </td><td>11       </td><td>1        </td><td>1        </td><td>(44,54]  </td><td>(0, Inf] </td><td>Clicks   </td></tr>\n",
       "</tbody>\n",
       "</table>\n"
      ],
      "text/latex": [
       "\\begin{tabular}{r|llllllll}\n",
       " Age & Gender & Impressions & Clicks & Signed\\_In & agecat & hasimps & scode\\\\\n",
       "\\hline\n",
       "\t 36          & 0           &  3          & 0           & 1           & (34,44{]}   & (0, Inf{]}  & Imps       \\\\\n",
       "\t 73          & 1           &  3          & 0           & 1           & (64, Inf{]} & (0, Inf{]}  & Imps       \\\\\n",
       "\t 30          & 0           &  3          & 0           & 1           & (24,34{]}   & (0, Inf{]}  & Imps       \\\\\n",
       "\t 49          & 1           &  3          & 0           & 1           & (44,54{]}   & (0, Inf{]}  & Imps       \\\\\n",
       "\t 47          & 1           & 11          & 0           & 1           & (44,54{]}   & (0, Inf{]}  & Imps       \\\\\n",
       "\t 47          & 0           & 11          & 1           & 1           & (44,54{]}   & (0, Inf{]}  & Clicks     \\\\\n",
       "\\end{tabular}\n"
      ],
      "text/markdown": [
       "\n",
       "Age | Gender | Impressions | Clicks | Signed_In | agecat | hasimps | scode | \n",
       "|---|---|---|---|---|---|\n",
       "| 36        | 0         |  3        | 0         | 1         | (34,44]   | (0, Inf]  | Imps      | \n",
       "| 73        | 1         |  3        | 0         | 1         | (64, Inf] | (0, Inf]  | Imps      | \n",
       "| 30        | 0         |  3        | 0         | 1         | (24,34]   | (0, Inf]  | Imps      | \n",
       "| 49        | 1         |  3        | 0         | 1         | (44,54]   | (0, Inf]  | Imps      | \n",
       "| 47        | 1         | 11        | 0         | 1         | (44,54]   | (0, Inf]  | Imps      | \n",
       "| 47        | 0         | 11        | 1         | 1         | (44,54]   | (0, Inf]  | Clicks    | \n",
       "\n",
       "\n"
      ],
      "text/plain": [
       "  Age Gender Impressions Clicks Signed_In agecat    hasimps  scode \n",
       "1 36  0       3          0      1         (34,44]   (0, Inf] Imps  \n",
       "2 73  1       3          0      1         (64, Inf] (0, Inf] Imps  \n",
       "3 30  0       3          0      1         (24,34]   (0, Inf] Imps  \n",
       "4 49  1       3          0      1         (44,54]   (0, Inf] Imps  \n",
       "5 47  1      11          0      1         (44,54]   (0, Inf] Imps  \n",
       "6 47  0      11          1      1         (44,54]   (0, Inf] Clicks"
      ]
     },
     "metadata": {},
     "output_type": "display_data"
    }
   ],
   "source": [
    "head(data1)"
   ]
  },
  {
   "cell_type": "code",
   "execution_count": 31,
   "metadata": {
    "collapsed": true
   },
   "outputs": [],
   "source": [
    "data1$scode <- factor(data1$scode)"
   ]
  },
  {
   "cell_type": "code",
   "execution_count": 33,
   "metadata": {
    "collapsed": false
   },
   "outputs": [
    {
     "data": {
      "text/html": [
       "<table>\n",
       "<thead><tr><th scope=col>scode</th><th scope=col>Gender</th><th scope=col>agecat</th><th scope=col>Impressions.clen</th></tr></thead>\n",
       "<tbody>\n",
       "\t<tr><td>Clicks   </td><td>0        </td><td>(-Inf,0] </td><td> 17776   </td></tr>\n",
       "\t<tr><td>Clicks   </td><td>0        </td><td>(0,18]   </td><td>   846   </td></tr>\n",
       "\t<tr><td>Clicks   </td><td>0        </td><td>(18,24]  </td><td>   779   </td></tr>\n",
       "\t<tr><td>Clicks   </td><td>0        </td><td>(24,34]  </td><td>  1361   </td></tr>\n",
       "\t<tr><td>Clicks   </td><td>0        </td><td>(34,44]  </td><td>  1675   </td></tr>\n",
       "\t<tr><td>Clicks   </td><td>0        </td><td>(44,54]  </td><td>  1494   </td></tr>\n",
       "\t<tr><td>Clicks   </td><td>0        </td><td>(54,64]  </td><td>  2006   </td></tr>\n",
       "\t<tr><td>Clicks   </td><td>0        </td><td>(64, Inf]</td><td>  2598   </td></tr>\n",
       "\t<tr><td>Clicks   </td><td>1        </td><td>(0,18]   </td><td>  1525   </td></tr>\n",
       "\t<tr><td>Clicks   </td><td>1        </td><td>(18,24]  </td><td>   890   </td></tr>\n",
       "\t<tr><td>Clicks   </td><td>1        </td><td>(24,34]  </td><td>  1509   </td></tr>\n",
       "\t<tr><td>Clicks   </td><td>1        </td><td>(34,44]  </td><td>  1917   </td></tr>\n",
       "\t<tr><td>Clicks   </td><td>1        </td><td>(44,54]  </td><td>  1645   </td></tr>\n",
       "\t<tr><td>Clicks   </td><td>1        </td><td>(54,64]  </td><td>  2331   </td></tr>\n",
       "\t<tr><td>Clicks   </td><td>1        </td><td>(64, Inf]</td><td>  1486   </td></tr>\n",
       "\t<tr><td>Imps     </td><td>0        </td><td>(-Inf,0] </td><td>118401   </td></tr>\n",
       "\t<tr><td>Imps     </td><td>0        </td><td>(0,18]   </td><td>  6001   </td></tr>\n",
       "\t<tr><td>Imps     </td><td>0        </td><td>(18,24]  </td><td> 15538   </td></tr>\n",
       "\t<tr><td>Imps     </td><td>0        </td><td>(24,34]  </td><td> 25690   </td></tr>\n",
       "\t<tr><td>Imps     </td><td>0        </td><td>(34,44]  </td><td> 31290   </td></tr>\n",
       "\t<tr><td>Imps     </td><td>0        </td><td>(44,54]  </td><td> 28563   </td></tr>\n",
       "\t<tr><td>Imps     </td><td>0        </td><td>(54,64]  </td><td> 18626   </td></tr>\n",
       "\t<tr><td>Imps     </td><td>0        </td><td>(64, Inf]</td><td> 15585   </td></tr>\n",
       "\t<tr><td>Imps     </td><td>1        </td><td>(0,18]   </td><td> 10754   </td></tr>\n",
       "\t<tr><td>Imps     </td><td>1        </td><td>(18,24]  </td><td> 17807   </td></tr>\n",
       "\t<tr><td>Imps     </td><td>1        </td><td>(24,34]  </td><td> 29241   </td></tr>\n",
       "\t<tr><td>Imps     </td><td>1        </td><td>(34,44]  </td><td> 35512   </td></tr>\n",
       "\t<tr><td>Imps     </td><td>1        </td><td>(44,54]  </td><td> 32143   </td></tr>\n",
       "\t<tr><td>Imps     </td><td>1        </td><td>(54,64]  </td><td> 21499   </td></tr>\n",
       "\t<tr><td>Imps     </td><td>1        </td><td>(64, Inf]</td><td>  8887   </td></tr>\n",
       "\t<tr><td>NoImps   </td><td>0        </td><td>(-Inf,0] </td><td>   929   </td></tr>\n",
       "\t<tr><td>NoImps   </td><td>0        </td><td>(0,18]   </td><td>    43   </td></tr>\n",
       "\t<tr><td>NoImps   </td><td>0        </td><td>(18,24]  </td><td>   124   </td></tr>\n",
       "\t<tr><td>NoImps   </td><td>0        </td><td>(24,34]  </td><td>   165   </td></tr>\n",
       "\t<tr><td>NoImps   </td><td>0        </td><td>(34,44]  </td><td>   219   </td></tr>\n",
       "\t<tr><td>NoImps   </td><td>0        </td><td>(44,54]  </td><td>   224   </td></tr>\n",
       "\t<tr><td>NoImps   </td><td>0        </td><td>(54,64]  </td><td>   118   </td></tr>\n",
       "\t<tr><td>NoImps   </td><td>0        </td><td>(64, Inf]</td><td>   125   </td></tr>\n",
       "\t<tr><td>NoImps   </td><td>1        </td><td>(0,18]   </td><td>    83   </td></tr>\n",
       "\t<tr><td>NoImps   </td><td>1        </td><td>(18,24]  </td><td>   132   </td></tr>\n",
       "\t<tr><td>NoImps   </td><td>1        </td><td>(24,34]  </td><td>   208   </td></tr>\n",
       "\t<tr><td>NoImps   </td><td>1        </td><td>(34,44]  </td><td>   247   </td></tr>\n",
       "\t<tr><td>NoImps   </td><td>1        </td><td>(44,54]  </td><td>   219   </td></tr>\n",
       "\t<tr><td>NoImps   </td><td>1        </td><td>(54,64]  </td><td>   158   </td></tr>\n",
       "\t<tr><td>NoImps   </td><td>1        </td><td>(64, Inf]</td><td>    72   </td></tr>\n",
       "</tbody>\n",
       "</table>\n"
      ],
      "text/latex": [
       "\\begin{tabular}{r|llll}\n",
       " scode & Gender & agecat & Impressions.clen\\\\\n",
       "\\hline\n",
       "\t Clicks      & 0           & (-Inf,0{]}  &  17776     \\\\\n",
       "\t Clicks      & 0           & (0,18{]}    &    846     \\\\\n",
       "\t Clicks      & 0           & (18,24{]}   &    779     \\\\\n",
       "\t Clicks      & 0           & (24,34{]}   &   1361     \\\\\n",
       "\t Clicks      & 0           & (34,44{]}   &   1675     \\\\\n",
       "\t Clicks      & 0           & (44,54{]}   &   1494     \\\\\n",
       "\t Clicks      & 0           & (54,64{]}   &   2006     \\\\\n",
       "\t Clicks      & 0           & (64, Inf{]} &   2598     \\\\\n",
       "\t Clicks      & 1           & (0,18{]}    &   1525     \\\\\n",
       "\t Clicks      & 1           & (18,24{]}   &    890     \\\\\n",
       "\t Clicks      & 1           & (24,34{]}   &   1509     \\\\\n",
       "\t Clicks      & 1           & (34,44{]}   &   1917     \\\\\n",
       "\t Clicks      & 1           & (44,54{]}   &   1645     \\\\\n",
       "\t Clicks      & 1           & (54,64{]}   &   2331     \\\\\n",
       "\t Clicks      & 1           & (64, Inf{]} &   1486     \\\\\n",
       "\t Imps        & 0           & (-Inf,0{]}  & 118401     \\\\\n",
       "\t Imps        & 0           & (0,18{]}    &   6001     \\\\\n",
       "\t Imps        & 0           & (18,24{]}   &  15538     \\\\\n",
       "\t Imps        & 0           & (24,34{]}   &  25690     \\\\\n",
       "\t Imps        & 0           & (34,44{]}   &  31290     \\\\\n",
       "\t Imps        & 0           & (44,54{]}   &  28563     \\\\\n",
       "\t Imps        & 0           & (54,64{]}   &  18626     \\\\\n",
       "\t Imps        & 0           & (64, Inf{]} &  15585     \\\\\n",
       "\t Imps        & 1           & (0,18{]}    &  10754     \\\\\n",
       "\t Imps        & 1           & (18,24{]}   &  17807     \\\\\n",
       "\t Imps        & 1           & (24,34{]}   &  29241     \\\\\n",
       "\t Imps        & 1           & (34,44{]}   &  35512     \\\\\n",
       "\t Imps        & 1           & (44,54{]}   &  32143     \\\\\n",
       "\t Imps        & 1           & (54,64{]}   &  21499     \\\\\n",
       "\t Imps        & 1           & (64, Inf{]} &   8887     \\\\\n",
       "\t NoImps      & 0           & (-Inf,0{]}  &    929     \\\\\n",
       "\t NoImps      & 0           & (0,18{]}    &     43     \\\\\n",
       "\t NoImps      & 0           & (18,24{]}   &    124     \\\\\n",
       "\t NoImps      & 0           & (24,34{]}   &    165     \\\\\n",
       "\t NoImps      & 0           & (34,44{]}   &    219     \\\\\n",
       "\t NoImps      & 0           & (44,54{]}   &    224     \\\\\n",
       "\t NoImps      & 0           & (54,64{]}   &    118     \\\\\n",
       "\t NoImps      & 0           & (64, Inf{]} &    125     \\\\\n",
       "\t NoImps      & 1           & (0,18{]}    &     83     \\\\\n",
       "\t NoImps      & 1           & (18,24{]}   &    132     \\\\\n",
       "\t NoImps      & 1           & (24,34{]}   &    208     \\\\\n",
       "\t NoImps      & 1           & (34,44{]}   &    247     \\\\\n",
       "\t NoImps      & 1           & (44,54{]}   &    219     \\\\\n",
       "\t NoImps      & 1           & (54,64{]}   &    158     \\\\\n",
       "\t NoImps      & 1           & (64, Inf{]} &     72     \\\\\n",
       "\\end{tabular}\n"
      ],
      "text/markdown": [
       "\n",
       "scode | Gender | agecat | Impressions.clen | \n",
       "|---|---|---|---|---|---|---|---|---|---|---|---|---|---|---|---|---|---|---|---|---|---|---|---|---|---|---|---|---|---|---|---|---|---|---|---|---|---|---|---|---|---|---|---|---|\n",
       "| Clicks    | 0         | (-Inf,0]  |  17776    | \n",
       "| Clicks    | 0         | (0,18]    |    846    | \n",
       "| Clicks    | 0         | (18,24]   |    779    | \n",
       "| Clicks    | 0         | (24,34]   |   1361    | \n",
       "| Clicks    | 0         | (34,44]   |   1675    | \n",
       "| Clicks    | 0         | (44,54]   |   1494    | \n",
       "| Clicks    | 0         | (54,64]   |   2006    | \n",
       "| Clicks    | 0         | (64, Inf] |   2598    | \n",
       "| Clicks    | 1         | (0,18]    |   1525    | \n",
       "| Clicks    | 1         | (18,24]   |    890    | \n",
       "| Clicks    | 1         | (24,34]   |   1509    | \n",
       "| Clicks    | 1         | (34,44]   |   1917    | \n",
       "| Clicks    | 1         | (44,54]   |   1645    | \n",
       "| Clicks    | 1         | (54,64]   |   2331    | \n",
       "| Clicks    | 1         | (64, Inf] |   1486    | \n",
       "| Imps      | 0         | (-Inf,0]  | 118401    | \n",
       "| Imps      | 0         | (0,18]    |   6001    | \n",
       "| Imps      | 0         | (18,24]   |  15538    | \n",
       "| Imps      | 0         | (24,34]   |  25690    | \n",
       "| Imps      | 0         | (34,44]   |  31290    | \n",
       "| Imps      | 0         | (44,54]   |  28563    | \n",
       "| Imps      | 0         | (54,64]   |  18626    | \n",
       "| Imps      | 0         | (64, Inf] |  15585    | \n",
       "| Imps      | 1         | (0,18]    |  10754    | \n",
       "| Imps      | 1         | (18,24]   |  17807    | \n",
       "| Imps      | 1         | (24,34]   |  29241    | \n",
       "| Imps      | 1         | (34,44]   |  35512    | \n",
       "| Imps      | 1         | (44,54]   |  32143    | \n",
       "| Imps      | 1         | (54,64]   |  21499    | \n",
       "| Imps      | 1         | (64, Inf] |   8887    | \n",
       "| NoImps    | 0         | (-Inf,0]  |    929    | \n",
       "| NoImps    | 0         | (0,18]    |     43    | \n",
       "| NoImps    | 0         | (18,24]   |    124    | \n",
       "| NoImps    | 0         | (24,34]   |    165    | \n",
       "| NoImps    | 0         | (34,44]   |    219    | \n",
       "| NoImps    | 0         | (44,54]   |    224    | \n",
       "| NoImps    | 0         | (54,64]   |    118    | \n",
       "| NoImps    | 0         | (64, Inf] |    125    | \n",
       "| NoImps    | 1         | (0,18]    |     83    | \n",
       "| NoImps    | 1         | (18,24]   |    132    | \n",
       "| NoImps    | 1         | (24,34]   |    208    | \n",
       "| NoImps    | 1         | (34,44]   |    247    | \n",
       "| NoImps    | 1         | (44,54]   |    219    | \n",
       "| NoImps    | 1         | (54,64]   |    158    | \n",
       "| NoImps    | 1         | (64, Inf] |     72    | \n",
       "\n",
       "\n"
      ],
      "text/plain": [
       "   scode  Gender agecat    Impressions.clen\n",
       "1  Clicks 0      (-Inf,0]   17776          \n",
       "2  Clicks 0      (0,18]       846          \n",
       "3  Clicks 0      (18,24]      779          \n",
       "4  Clicks 0      (24,34]     1361          \n",
       "5  Clicks 0      (34,44]     1675          \n",
       "6  Clicks 0      (44,54]     1494          \n",
       "7  Clicks 0      (54,64]     2006          \n",
       "8  Clicks 0      (64, Inf]   2598          \n",
       "9  Clicks 1      (0,18]      1525          \n",
       "10 Clicks 1      (18,24]      890          \n",
       "11 Clicks 1      (24,34]     1509          \n",
       "12 Clicks 1      (34,44]     1917          \n",
       "13 Clicks 1      (44,54]     1645          \n",
       "14 Clicks 1      (54,64]     2331          \n",
       "15 Clicks 1      (64, Inf]   1486          \n",
       "16 Imps   0      (-Inf,0]  118401          \n",
       "17 Imps   0      (0,18]      6001          \n",
       "18 Imps   0      (18,24]    15538          \n",
       "19 Imps   0      (24,34]    25690          \n",
       "20 Imps   0      (34,44]    31290          \n",
       "21 Imps   0      (44,54]    28563          \n",
       "22 Imps   0      (54,64]    18626          \n",
       "23 Imps   0      (64, Inf]  15585          \n",
       "24 Imps   1      (0,18]     10754          \n",
       "25 Imps   1      (18,24]    17807          \n",
       "26 Imps   1      (24,34]    29241          \n",
       "27 Imps   1      (34,44]    35512          \n",
       "28 Imps   1      (44,54]    32143          \n",
       "29 Imps   1      (54,64]    21499          \n",
       "30 Imps   1      (64, Inf]   8887          \n",
       "31 NoImps 0      (-Inf,0]     929          \n",
       "32 NoImps 0      (0,18]        43          \n",
       "33 NoImps 0      (18,24]      124          \n",
       "34 NoImps 0      (24,34]      165          \n",
       "35 NoImps 0      (34,44]      219          \n",
       "36 NoImps 0      (44,54]      224          \n",
       "37 NoImps 0      (54,64]      118          \n",
       "38 NoImps 0      (64, Inf]    125          \n",
       "39 NoImps 1      (0,18]        83          \n",
       "40 NoImps 1      (18,24]      132          \n",
       "41 NoImps 1      (24,34]      208          \n",
       "42 NoImps 1      (34,44]      247          \n",
       "43 NoImps 1      (44,54]      219          \n",
       "44 NoImps 1      (54,64]      158          \n",
       "45 NoImps 1      (64, Inf]     72          "
      ]
     },
     "metadata": {},
     "output_type": "display_data"
    }
   ],
   "source": [
    "clen <- function(x){c(length(x))}\n",
    "etable<-summaryBy(Impressions~scode+Gender+agecat,data = data1, FUN=clen)\n",
    "etable"
   ]
  }
 ],
 "metadata": {
  "kernelspec": {
   "display_name": "R",
   "language": "R",
   "name": "ir"
  },
  "language_info": {
   "codemirror_mode": "r",
   "file_extension": ".r",
   "mimetype": "text/x-r-source",
   "name": "R",
   "pygments_lexer": "r",
   "version": "3.3.2"
  }
 },
 "nbformat": 4,
 "nbformat_minor": 2
}
