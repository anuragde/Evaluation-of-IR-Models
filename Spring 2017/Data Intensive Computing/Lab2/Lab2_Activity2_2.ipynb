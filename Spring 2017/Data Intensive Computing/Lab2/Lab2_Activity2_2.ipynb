{
 "cells": [
  {
   "cell_type": "markdown",
   "metadata": {},
   "source": [
    "# Answers to the questions (Data is filtered by latest values)"
   ]
  },
  {
   "cell_type": "code",
   "execution_count": 5,
   "metadata": {
    "collapsed": false
   },
   "outputs": [
    {
     "name": "stderr",
     "output_type": "stream",
     "text": [
      "\n",
      "Attaching package: ‘dplyr’\n",
      "\n",
      "The following objects are masked from ‘package:stats’:\n",
      "\n",
      "    filter, lag\n",
      "\n",
      "The following objects are masked from ‘package:base’:\n",
      "\n",
      "    intersect, setdiff, setequal, union\n",
      "\n"
     ]
    }
   ],
   "source": [
    "library(dplyr)"
   ]
  },
  {
   "cell_type": "code",
   "execution_count": 16,
   "metadata": {
    "collapsed": true
   },
   "outputs": [],
   "source": [
    "teamDF <- read.csv(file=\"team.csv\", header=TRUE, sep=\",\")"
   ]
  },
  {
   "cell_type": "code",
   "execution_count": 3,
   "metadata": {
    "collapsed": true
   },
   "outputs": [],
   "source": [
    "playerDF <- read.csv(file=\"player.csv\", header=TRUE, sep=\",\")"
   ]
  },
  {
   "cell_type": "code",
   "execution_count": 8,
   "metadata": {
    "collapsed": false
   },
   "outputs": [
    {
     "data": {
      "text/html": [
       "<table>\n",
       "<thead><tr><th scope=col>player_name</th><th scope=col>overall_rating</th><th scope=col>gk_rating</th><th scope=col>No_of_Presences</th><th scope=col>No_of_leagues</th></tr></thead>\n",
       "<tbody>\n",
       "\t<tr><td>Patryk Rachwal,18</td><td>61               </td><td> 45              </td><td> 4               </td><td>1                </td></tr>\n",
       "\t<tr><td>Diego Mainz      </td><td>72               </td><td> 53              </td><td>79               </td><td>1                </td></tr>\n",
       "\t<tr><td>Jose Dorado      </td><td>74               </td><td> 64              </td><td>69               </td><td>1                </td></tr>\n",
       "\t<tr><td>Ignacio Gonzalez </td><td>69               </td><td> 60              </td><td>14               </td><td>2                </td></tr>\n",
       "\t<tr><td>Alberto Rey      </td><td>67               </td><td> 55              </td><td>40               </td><td>1                </td></tr>\n",
       "\t<tr><td>Javier Jimenez   </td><td>69               </td><td>340              </td><td> 1               </td><td>1                </td></tr>\n",
       "</tbody>\n",
       "</table>\n"
      ],
      "text/latex": [
       "\\begin{tabular}{r|lllll}\n",
       " player\\_name & overall\\_rating & gk\\_rating & No\\_of\\_Presences & No\\_of\\_leagues\\\\\n",
       "\\hline\n",
       "\t Patryk Rachwal,18 & 61                &  45               &  4                & 1                \\\\\n",
       "\t Diego Mainz       & 72                &  53               & 79                & 1                \\\\\n",
       "\t Jose Dorado       & 74                &  64               & 69                & 1                \\\\\n",
       "\t Ignacio Gonzalez  & 69                &  60               & 14                & 2                \\\\\n",
       "\t Alberto Rey       & 67                &  55               & 40                & 1                \\\\\n",
       "\t Javier Jimenez    & 69                & 340               &  1                & 1                \\\\\n",
       "\\end{tabular}\n"
      ],
      "text/markdown": [
       "\n",
       "player_name | overall_rating | gk_rating | No_of_Presences | No_of_leagues | \n",
       "|---|---|---|---|---|---|\n",
       "| Patryk Rachwal,18 | 61                |  45               |  4                | 1                 | \n",
       "| Diego Mainz       | 72                |  53               | 79                | 1                 | \n",
       "| Jose Dorado       | 74                |  64               | 69                | 1                 | \n",
       "| Ignacio Gonzalez  | 69                |  60               | 14                | 2                 | \n",
       "| Alberto Rey       | 67                |  55               | 40                | 1                 | \n",
       "| Javier Jimenez    | 69                | 340               |  1                | 1                 | \n",
       "\n",
       "\n"
      ],
      "text/plain": [
       "  player_name       overall_rating gk_rating No_of_Presences No_of_leagues\n",
       "1 Patryk Rachwal,18 61              45        4              1            \n",
       "2 Diego Mainz       72              53       79              1            \n",
       "3 Jose Dorado       74              64       69              1            \n",
       "4 Ignacio Gonzalez  69              60       14              2            \n",
       "5 Alberto Rey       67              55       40              1            \n",
       "6 Javier Jimenez    69             340        1              1            "
      ]
     },
     "metadata": {},
     "output_type": "display_data"
    },
    {
     "data": {
      "text/html": [
       "<table>\n",
       "<thead><tr><th scope=col>team_long_name</th><th scope=col>buildup_play</th><th scope=col>chance_creation</th><th scope=col>defense</th><th scope=col>No_of_scored_goals</th></tr></thead>\n",
       "<tbody>\n",
       "\t<tr><td>FC Aarau            </td><td>142                 </td><td>181                 </td><td>145                 </td><td>153                 </td></tr>\n",
       "\t<tr><td>Aberdeen            </td><td>176                 </td><td>186                 </td><td>157                 </td><td>365                 </td></tr>\n",
       "\t<tr><td>AC Ajaccio          </td><td>168                 </td><td>138                 </td><td>138                 </td><td>116                 </td></tr>\n",
       "\t<tr><td>Milan               </td><td>170                 </td><td>171                 </td><td>164                 </td><td>496                 </td></tr>\n",
       "\t<tr><td>Académica de Coimbra</td><td>150                 </td><td>166                 </td><td>138                 </td><td>240                 </td></tr>\n",
       "\t<tr><td>ADO Den Haag        </td><td>162                 </td><td>145                 </td><td>142                 </td><td>366                 </td></tr>\n",
       "</tbody>\n",
       "</table>\n"
      ],
      "text/latex": [
       "\\begin{tabular}{r|lllll}\n",
       " team\\_long\\_name & buildup\\_play & chance\\_creation & defense & No\\_of\\_scored\\_goals\\\\\n",
       "\\hline\n",
       "\t FC Aarau             & 142                  & 181                  & 145                  & 153                 \\\\\n",
       "\t Aberdeen             & 176                  & 186                  & 157                  & 365                 \\\\\n",
       "\t AC Ajaccio           & 168                  & 138                  & 138                  & 116                 \\\\\n",
       "\t Milan                & 170                  & 171                  & 164                  & 496                 \\\\\n",
       "\t Académica de Coimbra & 150                  & 166                  & 138                  & 240                 \\\\\n",
       "\t ADO Den Haag         & 162                  & 145                  & 142                  & 366                 \\\\\n",
       "\\end{tabular}\n"
      ],
      "text/markdown": [
       "\n",
       "team_long_name | buildup_play | chance_creation | defense | No_of_scored_goals | \n",
       "|---|---|---|---|---|---|\n",
       "| FC Aarau             | 142                  | 181                  | 145                  | 153                  | \n",
       "| Aberdeen             | 176                  | 186                  | 157                  | 365                  | \n",
       "| AC Ajaccio           | 168                  | 138                  | 138                  | 116                  | \n",
       "| Milan                | 170                  | 171                  | 164                  | 496                  | \n",
       "| Académica de Coimbra | 150                  | 166                  | 138                  | 240                  | \n",
       "| ADO Den Haag         | 162                  | 145                  | 142                  | 366                  | \n",
       "\n",
       "\n"
      ],
      "text/plain": [
       "  team_long_name       buildup_play chance_creation defense No_of_scored_goals\n",
       "1 FC Aarau             142          181             145     153               \n",
       "2 Aberdeen             176          186             157     365               \n",
       "3 AC Ajaccio           168          138             138     116               \n",
       "4 Milan                170          171             164     496               \n",
       "5 Académica de Coimbra 150          166             138     240               \n",
       "6 ADO Den Haag         162          145             142     366               "
      ]
     },
     "metadata": {},
     "output_type": "display_data"
    }
   ],
   "source": [
    "head(playerDF)\n",
    "head(teamDF)"
   ]
  },
  {
   "cell_type": "markdown",
   "metadata": {},
   "source": [
    "Which are the top 10 players by overall rating?"
   ]
  },
  {
   "cell_type": "code",
   "execution_count": 6,
   "metadata": {
    "collapsed": false
   },
   "outputs": [],
   "source": [
    "top10OR <- playerDF %>% arrange(desc(overall_rating)) %>% select(player_name,overall_rating) %>% slice(1:10)"
   ]
  },
  {
   "cell_type": "code",
   "execution_count": 7,
   "metadata": {
    "collapsed": false
   },
   "outputs": [
    {
     "data": {
      "text/html": [
       "<table>\n",
       "<thead><tr><th scope=col>player_name</th><th scope=col>overall_rating</th></tr></thead>\n",
       "<tbody>\n",
       "\t<tr><td>Lionel Messi      </td><td>94                </td></tr>\n",
       "\t<tr><td>Cristiano Ronaldo </td><td>93                </td></tr>\n",
       "\t<tr><td>Neymar            </td><td>90                </td></tr>\n",
       "\t<tr><td>Manuel Neuer      </td><td>90                </td></tr>\n",
       "\t<tr><td>Luis Suarez       </td><td>90                </td></tr>\n",
       "\t<tr><td>Arjen Robben      </td><td>89                </td></tr>\n",
       "\t<tr><td>Zlatan Ibrahimovic</td><td>89                </td></tr>\n",
       "\t<tr><td>Andres Iniesta    </td><td>88                </td></tr>\n",
       "\t<tr><td>Mesut Oezil       </td><td>88                </td></tr>\n",
       "\t<tr><td>Sergio Aguero     </td><td>88                </td></tr>\n",
       "</tbody>\n",
       "</table>\n"
      ],
      "text/latex": [
       "\\begin{tabular}{r|ll}\n",
       " player\\_name & overall\\_rating\\\\\n",
       "\\hline\n",
       "\t Lionel Messi       & 94                \\\\\n",
       "\t Cristiano Ronaldo  & 93                \\\\\n",
       "\t Neymar             & 90                \\\\\n",
       "\t Manuel Neuer       & 90                \\\\\n",
       "\t Luis Suarez        & 90                \\\\\n",
       "\t Arjen Robben       & 89                \\\\\n",
       "\t Zlatan Ibrahimovic & 89                \\\\\n",
       "\t Andres Iniesta     & 88                \\\\\n",
       "\t Mesut Oezil        & 88                \\\\\n",
       "\t Sergio Aguero      & 88                \\\\\n",
       "\\end{tabular}\n"
      ],
      "text/markdown": [
       "\n",
       "player_name | overall_rating | \n",
       "|---|---|---|---|---|---|---|---|---|---|\n",
       "| Lionel Messi       | 94                 | \n",
       "| Cristiano Ronaldo  | 93                 | \n",
       "| Neymar             | 90                 | \n",
       "| Manuel Neuer       | 90                 | \n",
       "| Luis Suarez        | 90                 | \n",
       "| Arjen Robben       | 89                 | \n",
       "| Zlatan Ibrahimovic | 89                 | \n",
       "| Andres Iniesta     | 88                 | \n",
       "| Mesut Oezil        | 88                 | \n",
       "| Sergio Aguero      | 88                 | \n",
       "\n",
       "\n"
      ],
      "text/plain": [
       "   player_name        overall_rating\n",
       "1  Lionel Messi       94            \n",
       "2  Cristiano Ronaldo  93            \n",
       "3  Neymar             90            \n",
       "4  Manuel Neuer       90            \n",
       "5  Luis Suarez        90            \n",
       "6  Arjen Robben       89            \n",
       "7  Zlatan Ibrahimovic 89            \n",
       "8  Andres Iniesta     88            \n",
       "9  Mesut Oezil        88            \n",
       "10 Sergio Aguero      88            "
      ]
     },
     "metadata": {},
     "output_type": "display_data"
    }
   ],
   "source": [
    "top10OR"
   ]
  },
  {
   "cell_type": "markdown",
   "metadata": {},
   "source": [
    "Which are the top 10 goalkeepers by sum of gk attributes?"
   ]
  },
  {
   "cell_type": "code",
   "execution_count": 10,
   "metadata": {
    "collapsed": true
   },
   "outputs": [],
   "source": [
    "top10GK <- playerDF %>% arrange(desc(gk_rating)) %>% select(player_name,gk_rating) %>% slice(1:10)"
   ]
  },
  {
   "cell_type": "code",
   "execution_count": 11,
   "metadata": {
    "collapsed": false
   },
   "outputs": [
    {
     "data": {
      "text/html": [
       "<table>\n",
       "<thead><tr><th scope=col>player_name</th><th scope=col>gk_rating</th></tr></thead>\n",
       "<tbody>\n",
       "\t<tr><td>Manuel Neuer     </td><td>440              </td></tr>\n",
       "\t<tr><td>David De Gea     </td><td>429              </td></tr>\n",
       "\t<tr><td>Edwin van der Sar</td><td>422              </td></tr>\n",
       "\t<tr><td>Robert Enke,30   </td><td>421              </td></tr>\n",
       "\t<tr><td>Claudio Bravo    </td><td>416              </td></tr>\n",
       "\t<tr><td>Bernd Leno       </td><td>415              </td></tr>\n",
       "\t<tr><td>Petr Cech        </td><td>414              </td></tr>\n",
       "\t<tr><td>Thibaut Courtois </td><td>414              </td></tr>\n",
       "\t<tr><td>Joe Hart         </td><td>412              </td></tr>\n",
       "\t<tr><td>Yann Sommer      </td><td>411              </td></tr>\n",
       "</tbody>\n",
       "</table>\n"
      ],
      "text/latex": [
       "\\begin{tabular}{r|ll}\n",
       " player\\_name & gk\\_rating\\\\\n",
       "\\hline\n",
       "\t Manuel Neuer      & 440              \\\\\n",
       "\t David De Gea      & 429              \\\\\n",
       "\t Edwin van der Sar & 422              \\\\\n",
       "\t Robert Enke,30    & 421              \\\\\n",
       "\t Claudio Bravo     & 416              \\\\\n",
       "\t Bernd Leno        & 415              \\\\\n",
       "\t Petr Cech         & 414              \\\\\n",
       "\t Thibaut Courtois  & 414              \\\\\n",
       "\t Joe Hart          & 412              \\\\\n",
       "\t Yann Sommer       & 411              \\\\\n",
       "\\end{tabular}\n"
      ],
      "text/markdown": [
       "\n",
       "player_name | gk_rating | \n",
       "|---|---|---|---|---|---|---|---|---|---|\n",
       "| Manuel Neuer      | 440               | \n",
       "| David De Gea      | 429               | \n",
       "| Edwin van der Sar | 422               | \n",
       "| Robert Enke,30    | 421               | \n",
       "| Claudio Bravo     | 416               | \n",
       "| Bernd Leno        | 415               | \n",
       "| Petr Cech         | 414               | \n",
       "| Thibaut Courtois  | 414               | \n",
       "| Joe Hart          | 412               | \n",
       "| Yann Sommer       | 411               | \n",
       "\n",
       "\n"
      ],
      "text/plain": [
       "   player_name       gk_rating\n",
       "1  Manuel Neuer      440      \n",
       "2  David De Gea      429      \n",
       "3  Edwin van der Sar 422      \n",
       "4  Robert Enke,30    421      \n",
       "5  Claudio Bravo     416      \n",
       "6  Bernd Leno        415      \n",
       "7  Petr Cech         414      \n",
       "8  Thibaut Courtois  414      \n",
       "9  Joe Hart          412      \n",
       "10 Yann Sommer       411      "
      ]
     },
     "metadata": {},
     "output_type": "display_data"
    }
   ],
   "source": [
    "top10GK"
   ]
  },
  {
   "cell_type": "markdown",
   "metadata": {},
   "source": [
    "Which are the top 10 players by number of appearances (with any team they played with)?"
   ]
  },
  {
   "cell_type": "code",
   "execution_count": 12,
   "metadata": {
    "collapsed": false
   },
   "outputs": [
    {
     "data": {
      "text/html": [
       "<table>\n",
       "<thead><tr><th scope=col>player_name</th><th scope=col>No_of_Presences</th></tr></thead>\n",
       "<tbody>\n",
       "\t<tr><td>Steve Mandanda      </td><td>289                 </td></tr>\n",
       "\t<tr><td>Tim Howard          </td><td>277                 </td></tr>\n",
       "\t<tr><td>Hugo Lloris         </td><td>274                 </td></tr>\n",
       "\t<tr><td>Stephane Ruffier    </td><td>270                 </td></tr>\n",
       "\t<tr><td>Joe Hart            </td><td>269                 </td></tr>\n",
       "\t<tr><td>Samir Handanovic    </td><td>264                 </td></tr>\n",
       "\t<tr><td>Gorka Iraizoz Moreno</td><td>260                 </td></tr>\n",
       "\t<tr><td>Cedric Carrasso     </td><td>253                 </td></tr>\n",
       "\t<tr><td>Manuel Neuer        </td><td>251                 </td></tr>\n",
       "\t<tr><td>Ryan Shawcross      </td><td>250                 </td></tr>\n",
       "</tbody>\n",
       "</table>\n"
      ],
      "text/latex": [
       "\\begin{tabular}{r|ll}\n",
       " player\\_name & No\\_of\\_Presences\\\\\n",
       "\\hline\n",
       "\t Steve Mandanda       & 289                 \\\\\n",
       "\t Tim Howard           & 277                 \\\\\n",
       "\t Hugo Lloris          & 274                 \\\\\n",
       "\t Stephane Ruffier     & 270                 \\\\\n",
       "\t Joe Hart             & 269                 \\\\\n",
       "\t Samir Handanovic     & 264                 \\\\\n",
       "\t Gorka Iraizoz Moreno & 260                 \\\\\n",
       "\t Cedric Carrasso      & 253                 \\\\\n",
       "\t Manuel Neuer         & 251                 \\\\\n",
       "\t Ryan Shawcross       & 250                 \\\\\n",
       "\\end{tabular}\n"
      ],
      "text/markdown": [
       "\n",
       "player_name | No_of_Presences | \n",
       "|---|---|---|---|---|---|---|---|---|---|\n",
       "| Steve Mandanda       | 289                  | \n",
       "| Tim Howard           | 277                  | \n",
       "| Hugo Lloris          | 274                  | \n",
       "| Stephane Ruffier     | 270                  | \n",
       "| Joe Hart             | 269                  | \n",
       "| Samir Handanovic     | 264                  | \n",
       "| Gorka Iraizoz Moreno | 260                  | \n",
       "| Cedric Carrasso      | 253                  | \n",
       "| Manuel Neuer         | 251                  | \n",
       "| Ryan Shawcross       | 250                  | \n",
       "\n",
       "\n"
      ],
      "text/plain": [
       "   player_name          No_of_Presences\n",
       "1  Steve Mandanda       289            \n",
       "2  Tim Howard           277            \n",
       "3  Hugo Lloris          274            \n",
       "4  Stephane Ruffier     270            \n",
       "5  Joe Hart             269            \n",
       "6  Samir Handanovic     264            \n",
       "7  Gorka Iraizoz Moreno 260            \n",
       "8  Cedric Carrasso      253            \n",
       "9  Manuel Neuer         251            \n",
       "10 Ryan Shawcross       250            "
      ]
     },
     "metadata": {},
     "output_type": "display_data"
    }
   ],
   "source": [
    "top10NA <- playerDF %>% arrange(desc(No_of_Presences)) %>% select(player_name,No_of_Presences) %>% slice(1:10)\n",
    "top10NA"
   ]
  },
  {
   "cell_type": "markdown",
   "metadata": {},
   "source": [
    "Which are the top 10 players by number of leagues they played in?"
   ]
  },
  {
   "cell_type": "code",
   "execution_count": 14,
   "metadata": {
    "collapsed": false
   },
   "outputs": [
    {
     "data": {
      "text/html": [
       "<table>\n",
       "<thead><tr><th scope=col>player_name</th><th scope=col>No_of_leagues</th></tr></thead>\n",
       "<tbody>\n",
       "\t<tr><td>Gelson Fernandes     </td><td>6                    </td></tr>\n",
       "\t<tr><td>Ricky van Wolfswinkel</td><td>5                    </td></tr>\n",
       "\t<tr><td>Filip Djuricic       </td><td>5                    </td></tr>\n",
       "\t<tr><td>Radamel Falcao       </td><td>4                    </td></tr>\n",
       "\t<tr><td>Jonathan De Guzman   </td><td>4                    </td></tr>\n",
       "\t<tr><td>Almen Abdi           </td><td>4                    </td></tr>\n",
       "\t<tr><td>Ibrahim Afellay      </td><td>4                    </td></tr>\n",
       "\t<tr><td>Edson Braafheid      </td><td>4                    </td></tr>\n",
       "\t<tr><td>Eljero Elia          </td><td>4                    </td></tr>\n",
       "\t<tr><td>Danijel Pranjic      </td><td>4                    </td></tr>\n",
       "</tbody>\n",
       "</table>\n"
      ],
      "text/latex": [
       "\\begin{tabular}{r|ll}\n",
       " player\\_name & No\\_of\\_leagues\\\\\n",
       "\\hline\n",
       "\t Gelson Fernandes      & 6                    \\\\\n",
       "\t Ricky van Wolfswinkel & 5                    \\\\\n",
       "\t Filip Djuricic        & 5                    \\\\\n",
       "\t Radamel Falcao        & 4                    \\\\\n",
       "\t Jonathan De Guzman    & 4                    \\\\\n",
       "\t Almen Abdi            & 4                    \\\\\n",
       "\t Ibrahim Afellay       & 4                    \\\\\n",
       "\t Edson Braafheid       & 4                    \\\\\n",
       "\t Eljero Elia           & 4                    \\\\\n",
       "\t Danijel Pranjic       & 4                    \\\\\n",
       "\\end{tabular}\n"
      ],
      "text/markdown": [
       "\n",
       "player_name | No_of_leagues | \n",
       "|---|---|---|---|---|---|---|---|---|---|\n",
       "| Gelson Fernandes      | 6                     | \n",
       "| Ricky van Wolfswinkel | 5                     | \n",
       "| Filip Djuricic        | 5                     | \n",
       "| Radamel Falcao        | 4                     | \n",
       "| Jonathan De Guzman    | 4                     | \n",
       "| Almen Abdi            | 4                     | \n",
       "| Ibrahim Afellay       | 4                     | \n",
       "| Edson Braafheid       | 4                     | \n",
       "| Eljero Elia           | 4                     | \n",
       "| Danijel Pranjic       | 4                     | \n",
       "\n",
       "\n"
      ],
      "text/plain": [
       "   player_name           No_of_leagues\n",
       "1  Gelson Fernandes      6            \n",
       "2  Ricky van Wolfswinkel 5            \n",
       "3  Filip Djuricic        5            \n",
       "4  Radamel Falcao        4            \n",
       "5  Jonathan De Guzman    4            \n",
       "6  Almen Abdi            4            \n",
       "7  Ibrahim Afellay       4            \n",
       "8  Edson Braafheid       4            \n",
       "9  Eljero Elia           4            \n",
       "10 Danijel Pranjic       4            "
      ]
     },
     "metadata": {},
     "output_type": "display_data"
    }
   ],
   "source": [
    "top10NL <- playerDF %>% arrange(desc(No_of_leagues)) %>% select(player_name,No_of_leagues) %>% slice(1:10)\n",
    "top10NL"
   ]
  },
  {
   "cell_type": "markdown",
   "metadata": {},
   "source": [
    "Which are the top 10 teams by sum of build up play attributes?"
   ]
  },
  {
   "cell_type": "code",
   "execution_count": 17,
   "metadata": {
    "collapsed": false
   },
   "outputs": [
    {
     "data": {
      "text/html": [
       "<table>\n",
       "<thead><tr><th scope=col>team_long_name</th><th scope=col>buildup_play</th></tr></thead>\n",
       "<tbody>\n",
       "\t<tr><td>Carpi                     </td><td>190                       </td></tr>\n",
       "\t<tr><td>Widzew Łódź               </td><td>190                       </td></tr>\n",
       "\t<tr><td>Widzew Łódź               </td><td>190                       </td></tr>\n",
       "\t<tr><td>FC Nantes                 </td><td>189                       </td></tr>\n",
       "\t<tr><td>Podbeskidzie Bielsko-Biała</td><td>189                       </td></tr>\n",
       "\t<tr><td>Lazio                     </td><td>188                       </td></tr>\n",
       "\t<tr><td>Chievo Verona             </td><td>187                       </td></tr>\n",
       "\t<tr><td>Blackburn Rovers          </td><td>185                       </td></tr>\n",
       "\t<tr><td>Udinese                   </td><td>185                       </td></tr>\n",
       "\t<tr><td>Genoa                     </td><td>184                       </td></tr>\n",
       "</tbody>\n",
       "</table>\n"
      ],
      "text/latex": [
       "\\begin{tabular}{r|ll}\n",
       " team\\_long\\_name & buildup\\_play\\\\\n",
       "\\hline\n",
       "\t Carpi                      & 190                       \\\\\n",
       "\t Widzew Łódź                & 190                       \\\\\n",
       "\t Widzew Łódź                & 190                       \\\\\n",
       "\t FC Nantes                  & 189                       \\\\\n",
       "\t Podbeskidzie Bielsko-Biała & 189                       \\\\\n",
       "\t Lazio                      & 188                       \\\\\n",
       "\t Chievo Verona              & 187                       \\\\\n",
       "\t Blackburn Rovers           & 185                       \\\\\n",
       "\t Udinese                    & 185                       \\\\\n",
       "\t Genoa                      & 184                       \\\\\n",
       "\\end{tabular}\n"
      ],
      "text/markdown": [
       "\n",
       "team_long_name | buildup_play | \n",
       "|---|---|---|---|---|---|---|---|---|---|\n",
       "| Carpi                      | 190                        | \n",
       "| Widzew Łódź                | 190                        | \n",
       "| Widzew Łódź                | 190                        | \n",
       "| FC Nantes                  | 189                        | \n",
       "| Podbeskidzie Bielsko-Biała | 189                        | \n",
       "| Lazio                      | 188                        | \n",
       "| Chievo Verona              | 187                        | \n",
       "| Blackburn Rovers           | 185                        | \n",
       "| Udinese                    | 185                        | \n",
       "| Genoa                      | 184                        | \n",
       "\n",
       "\n"
      ],
      "text/plain": [
       "   team_long_name             buildup_play\n",
       "1  Carpi                      190         \n",
       "2  Widzew Łódź                190         \n",
       "3  Widzew Łódź                190         \n",
       "4  FC Nantes                  189         \n",
       "5  Podbeskidzie Bielsko-Biała 189         \n",
       "6  Lazio                      188         \n",
       "7  Chievo Verona              187         \n",
       "8  Blackburn Rovers           185         \n",
       "9  Udinese                    185         \n",
       "10 Genoa                      184         "
      ]
     },
     "metadata": {},
     "output_type": "display_data"
    }
   ],
   "source": [
    "top10BP <- teamDF %>% arrange(desc(buildup_play)) %>% select(team_long_name,buildup_play) %>% slice(1:10)\n",
    "top10BP"
   ]
  },
  {
   "cell_type": "markdown",
   "metadata": {},
   "source": [
    "Which are the top 10 teams by sum of chance creation attributes?"
   ]
  },
  {
   "cell_type": "code",
   "execution_count": 20,
   "metadata": {
    "collapsed": false
   },
   "outputs": [
    {
     "data": {
      "text/html": [
       "<table>\n",
       "<thead><tr><th scope=col>team_long_name</th><th scope=col>chance_creation</th></tr></thead>\n",
       "<tbody>\n",
       "\t<tr><td>Lazio                 </td><td>220                   </td></tr>\n",
       "\t<tr><td>Birmingham City       </td><td>203                   </td></tr>\n",
       "\t<tr><td>Falkirk               </td><td>200                   </td></tr>\n",
       "\t<tr><td>Hamilton Academical FC</td><td>197                   </td></tr>\n",
       "\t<tr><td>Cagliari              </td><td>196                   </td></tr>\n",
       "\t<tr><td>Lech Poznań           </td><td>196                   </td></tr>\n",
       "\t<tr><td>Juventus              </td><td>195                   </td></tr>\n",
       "\t<tr><td>Bayer 04 Leverkusen   </td><td>192                   </td></tr>\n",
       "\t<tr><td>SV Werder Bremen      </td><td>192                   </td></tr>\n",
       "\t<tr><td>Roma                  </td><td>191                   </td></tr>\n",
       "</tbody>\n",
       "</table>\n"
      ],
      "text/latex": [
       "\\begin{tabular}{r|ll}\n",
       " team\\_long\\_name & chance\\_creation\\\\\n",
       "\\hline\n",
       "\t Lazio                  & 220                   \\\\\n",
       "\t Birmingham City        & 203                   \\\\\n",
       "\t Falkirk                & 200                   \\\\\n",
       "\t Hamilton Academical FC & 197                   \\\\\n",
       "\t Cagliari               & 196                   \\\\\n",
       "\t Lech Poznań            & 196                   \\\\\n",
       "\t Juventus               & 195                   \\\\\n",
       "\t Bayer 04 Leverkusen    & 192                   \\\\\n",
       "\t SV Werder Bremen       & 192                   \\\\\n",
       "\t Roma                   & 191                   \\\\\n",
       "\\end{tabular}\n"
      ],
      "text/markdown": [
       "\n",
       "team_long_name | chance_creation | \n",
       "|---|---|---|---|---|---|---|---|---|---|\n",
       "| Lazio                  | 220                    | \n",
       "| Birmingham City        | 203                    | \n",
       "| Falkirk                | 200                    | \n",
       "| Hamilton Academical FC | 197                    | \n",
       "| Cagliari               | 196                    | \n",
       "| Lech Poznań            | 196                    | \n",
       "| Juventus               | 195                    | \n",
       "| Bayer 04 Leverkusen    | 192                    | \n",
       "| SV Werder Bremen       | 192                    | \n",
       "| Roma                   | 191                    | \n",
       "\n",
       "\n"
      ],
      "text/plain": [
       "   team_long_name         chance_creation\n",
       "1  Lazio                  220            \n",
       "2  Birmingham City        203            \n",
       "3  Falkirk                200            \n",
       "4  Hamilton Academical FC 197            \n",
       "5  Cagliari               196            \n",
       "6  Lech Poznań            196            \n",
       "7  Juventus               195            \n",
       "8  Bayer 04 Leverkusen    192            \n",
       "9  SV Werder Bremen       192            \n",
       "10 Roma                   191            "
      ]
     },
     "metadata": {},
     "output_type": "display_data"
    }
   ],
   "source": [
    "top10CC <- teamDF %>% arrange(desc(chance_creation)) %>% select(team_long_name,chance_creation) %>% slice(1:10)\n",
    "top10CC"
   ]
  },
  {
   "cell_type": "markdown",
   "metadata": {},
   "source": [
    "Which are the top 10 teams by sum of defense attributes?"
   ]
  },
  {
   "cell_type": "code",
   "execution_count": 22,
   "metadata": {
    "collapsed": false
   },
   "outputs": [
    {
     "data": {
      "text/html": [
       "<table>\n",
       "<thead><tr><th scope=col>team_long_name</th><th scope=col>defense</th></tr></thead>\n",
       "<tbody>\n",
       "\t<tr><td>Odra Wodzisław     </td><td>205                </td></tr>\n",
       "\t<tr><td>KSV Roeselare      </td><td>205                </td></tr>\n",
       "\t<tr><td>Falkirk            </td><td>200                </td></tr>\n",
       "\t<tr><td>FC Barcelona       </td><td>191                </td></tr>\n",
       "\t<tr><td>Lazio              </td><td>190                </td></tr>\n",
       "\t<tr><td>Cagliari           </td><td>187                </td></tr>\n",
       "\t<tr><td>FC Bayern Munich   </td><td>184                </td></tr>\n",
       "\t<tr><td>Bayer 04 Leverkusen</td><td>183                </td></tr>\n",
       "\t<tr><td>Burnley            </td><td>183                </td></tr>\n",
       "\t<tr><td>SV Werder Bremen   </td><td>183                </td></tr>\n",
       "</tbody>\n",
       "</table>\n"
      ],
      "text/latex": [
       "\\begin{tabular}{r|ll}\n",
       " team\\_long\\_name & defense\\\\\n",
       "\\hline\n",
       "\t Odra Wodzisław      & 205                \\\\\n",
       "\t KSV Roeselare       & 205                \\\\\n",
       "\t Falkirk             & 200                \\\\\n",
       "\t FC Barcelona        & 191                \\\\\n",
       "\t Lazio               & 190                \\\\\n",
       "\t Cagliari            & 187                \\\\\n",
       "\t FC Bayern Munich    & 184                \\\\\n",
       "\t Bayer 04 Leverkusen & 183                \\\\\n",
       "\t Burnley             & 183                \\\\\n",
       "\t SV Werder Bremen    & 183                \\\\\n",
       "\\end{tabular}\n"
      ],
      "text/markdown": [
       "\n",
       "team_long_name | defense | \n",
       "|---|---|---|---|---|---|---|---|---|---|\n",
       "| Odra Wodzisław      | 205                 | \n",
       "| KSV Roeselare       | 205                 | \n",
       "| Falkirk             | 200                 | \n",
       "| FC Barcelona        | 191                 | \n",
       "| Lazio               | 190                 | \n",
       "| Cagliari            | 187                 | \n",
       "| FC Bayern Munich    | 184                 | \n",
       "| Bayer 04 Leverkusen | 183                 | \n",
       "| Burnley             | 183                 | \n",
       "| SV Werder Bremen    | 183                 | \n",
       "\n",
       "\n"
      ],
      "text/plain": [
       "   team_long_name      defense\n",
       "1  Odra Wodzisław      205    \n",
       "2  KSV Roeselare       205    \n",
       "3  Falkirk             200    \n",
       "4  FC Barcelona        191    \n",
       "5  Lazio               190    \n",
       "6  Cagliari            187    \n",
       "7  FC Bayern Munich    184    \n",
       "8  Bayer 04 Leverkusen 183    \n",
       "9  Burnley             183    \n",
       "10 SV Werder Bremen    183    "
      ]
     },
     "metadata": {},
     "output_type": "display_data"
    }
   ],
   "source": [
    "top10DA <- teamDF %>% arrange(desc(defense)) %>% select(team_long_name,defense) %>% slice(1:10)\n",
    "top10DA"
   ]
  },
  {
   "cell_type": "markdown",
   "metadata": {},
   "source": [
    "Which are the top 10 teams by number of scored goals?"
   ]
  },
  {
   "cell_type": "code",
   "execution_count": 18,
   "metadata": {
    "collapsed": false
   },
   "outputs": [
    {
     "data": {
      "text/html": [
       "<table>\n",
       "<thead><tr><th scope=col>team_long_name</th><th scope=col>No_of_scored_goals</th></tr></thead>\n",
       "<tbody>\n",
       "\t<tr><td>FC Barcelona     </td><td>849              </td></tr>\n",
       "\t<tr><td>Real Madrid CF   </td><td>843              </td></tr>\n",
       "\t<tr><td>Celtic           </td><td>695              </td></tr>\n",
       "\t<tr><td>FC Bayern Munich </td><td>653              </td></tr>\n",
       "\t<tr><td>PSV              </td><td>652              </td></tr>\n",
       "\t<tr><td>Ajax             </td><td>647              </td></tr>\n",
       "\t<tr><td>FC Basel         </td><td>619              </td></tr>\n",
       "\t<tr><td>Manchester City  </td><td>606              </td></tr>\n",
       "\t<tr><td>Chelsea          </td><td>583              </td></tr>\n",
       "\t<tr><td>Manchester United</td><td>582              </td></tr>\n",
       "</tbody>\n",
       "</table>\n"
      ],
      "text/latex": [
       "\\begin{tabular}{r|ll}\n",
       " team\\_long\\_name & No\\_of\\_scored\\_goals\\\\\n",
       "\\hline\n",
       "\t FC Barcelona      & 849              \\\\\n",
       "\t Real Madrid CF    & 843              \\\\\n",
       "\t Celtic            & 695              \\\\\n",
       "\t FC Bayern Munich  & 653              \\\\\n",
       "\t PSV               & 652              \\\\\n",
       "\t Ajax              & 647              \\\\\n",
       "\t FC Basel          & 619              \\\\\n",
       "\t Manchester City   & 606              \\\\\n",
       "\t Chelsea           & 583              \\\\\n",
       "\t Manchester United & 582              \\\\\n",
       "\\end{tabular}\n"
      ],
      "text/markdown": [
       "\n",
       "team_long_name | No_of_scored_goals | \n",
       "|---|---|---|---|---|---|---|---|---|---|\n",
       "| FC Barcelona      | 849               | \n",
       "| Real Madrid CF    | 843               | \n",
       "| Celtic            | 695               | \n",
       "| FC Bayern Munich  | 653               | \n",
       "| PSV               | 652               | \n",
       "| Ajax              | 647               | \n",
       "| FC Basel          | 619               | \n",
       "| Manchester City   | 606               | \n",
       "| Chelsea           | 583               | \n",
       "| Manchester United | 582               | \n",
       "\n",
       "\n"
      ],
      "text/plain": [
       "   team_long_name    No_of_scored_goals\n",
       "1  FC Barcelona      849               \n",
       "2  Real Madrid CF    843               \n",
       "3  Celtic            695               \n",
       "4  FC Bayern Munich  653               \n",
       "5  PSV               652               \n",
       "6  Ajax              647               \n",
       "7  FC Basel          619               \n",
       "8  Manchester City   606               \n",
       "9  Chelsea           583               \n",
       "10 Manchester United 582               "
      ]
     },
     "metadata": {},
     "output_type": "display_data"
    }
   ],
   "source": [
    "top10SG <- teamDF %>% arrange(desc(No_of_scored_goals)) %>% select(team_long_name,No_of_scored_goals) %>% slice(1:10)\n",
    "top10SG"
   ]
  }
 ],
 "metadata": {
  "kernelspec": {
   "display_name": "R",
   "language": "R",
   "name": "ir"
  },
  "language_info": {
   "codemirror_mode": "r",
   "file_extension": ".r",
   "mimetype": "text/x-r-source",
   "name": "R",
   "pygments_lexer": "r",
   "version": "3.3.2"
  }
 },
 "nbformat": 4,
 "nbformat_minor": 2
}
