{
 "cells": [
  {
   "cell_type": "code",
   "execution_count": 113,
   "metadata": {
    "collapsed": false
   },
   "outputs": [],
   "source": [
    "library(dplyr)"
   ]
  },
  {
   "cell_type": "code",
   "execution_count": 114,
   "metadata": {
    "collapsed": false
   },
   "outputs": [],
   "source": [
    "mydb <- src_sqlite(\"database.sqlite\",create=FALSE)"
   ]
  },
  {
   "cell_type": "code",
   "execution_count": 115,
   "metadata": {
    "collapsed": false
   },
   "outputs": [
    {
     "data": {
      "text/html": [
       "<ol class=list-inline>\n",
       "\t<li>'Country'</li>\n",
       "\t<li>'League'</li>\n",
       "\t<li>'Match'</li>\n",
       "\t<li>'Player'</li>\n",
       "\t<li>'Player_Attributes'</li>\n",
       "\t<li>'Team'</li>\n",
       "\t<li>'Team_Attributes'</li>\n",
       "\t<li>'sqlite_sequence'</li>\n",
       "</ol>\n"
      ],
      "text/latex": [
       "\\begin{enumerate*}\n",
       "\\item 'Country'\n",
       "\\item 'League'\n",
       "\\item 'Match'\n",
       "\\item 'Player'\n",
       "\\item 'Player\\_Attributes'\n",
       "\\item 'Team'\n",
       "\\item 'Team\\_Attributes'\n",
       "\\item 'sqlite\\_sequence'\n",
       "\\end{enumerate*}\n"
      ],
      "text/markdown": [
       "1. 'Country'\n",
       "2. 'League'\n",
       "3. 'Match'\n",
       "4. 'Player'\n",
       "5. 'Player_Attributes'\n",
       "6. 'Team'\n",
       "7. 'Team_Attributes'\n",
       "8. 'sqlite_sequence'\n",
       "\n",
       "\n"
      ],
      "text/plain": [
       "[1] \"Country\"           \"League\"            \"Match\"            \n",
       "[4] \"Player\"            \"Player_Attributes\" \"Team\"             \n",
       "[7] \"Team_Attributes\"   \"sqlite_sequence\"  "
      ]
     },
     "metadata": {},
     "output_type": "display_data"
    }
   ],
   "source": [
    "src_tbls(mydb)"
   ]
  },
  {
   "cell_type": "code",
   "execution_count": 116,
   "metadata": {
    "collapsed": false
   },
   "outputs": [],
   "source": [
    "playerInfoTable <- tbl(mydb, 'Player')"
   ]
  },
  {
   "cell_type": "code",
   "execution_count": 118,
   "metadata": {
    "collapsed": true
   },
   "outputs": [],
   "source": [
    "playerAttributesInfoTable <- tbl(mydb, 'Player_Attributes')"
   ]
  },
  {
   "cell_type": "code",
   "execution_count": 176,
   "metadata": {
    "collapsed": false
   },
   "outputs": [],
   "source": [
    "player1 <- select(playerInfoTable,player_name,player_api_id)"
   ]
  },
  {
   "cell_type": "code",
   "execution_count": null,
   "metadata": {
    "collapsed": true
   },
   "outputs": [],
   "source": [
    "playerAttribute1 <- select(playerAttributesInfoTable,player_api_id,overall_rating,gk_diving,gk_handling,gk_kicking,gk_positioning,gk_reflexes)"
   ]
  },
  {
   "cell_type": "code",
   "execution_count": 491,
   "metadata": {
    "collapsed": true
   },
   "outputs": [],
   "source": [
    "matchTable <- tbl(mydb, 'Match')"
   ]
  },
  {
   "cell_type": "code",
   "execution_count": 789,
   "metadata": {
    "collapsed": false
   },
   "outputs": [],
   "source": [
    "matchDF <- data.frame(matchTable)"
   ]
  },
  {
   "cell_type": "code",
   "execution_count": 790,
   "metadata": {
    "collapsed": true
   },
   "outputs": [],
   "source": [
    "matchDF <- select(matchDF,home_player_1:away_player_11)"
   ]
  },
  {
   "cell_type": "code",
   "execution_count": 590,
   "metadata": {
    "collapsed": false
   },
   "outputs": [],
   "source": [
    "matchDFTailNum <- matchDFTailNum %>% group_by(home_player_1) %>% filter(home_player_1=='157303')  %>% summarise(count = n())"
   ]
  },
  {
   "cell_type": "code",
   "execution_count": 784,
   "metadata": {
    "collapsed": false
   },
   "outputs": [],
   "source": [
    "library(\"tidyr\")"
   ]
  },
  {
   "cell_type": "code",
   "execution_count": 792,
   "metadata": {
    "collapsed": false
   },
   "outputs": [],
   "source": [
    "matchDF <- matchDF %>% drop_na(home_player_1:away_player_11) "
   ]
  },
  {
   "cell_type": "code",
   "execution_count": 626,
   "metadata": {
    "collapsed": true
   },
   "outputs": [],
   "source": [
    "playerAttribute <- select(playerAttributesInfoTable,player_api_id)\n",
    "playerAttributeDF <- data.frame(playerAttribute)\n",
    "playerAttributeUniqueDF <- distinct(playerAttributeDF, player_api_id)"
   ]
  },
  {
   "cell_type": "code",
   "execution_count": 651,
   "metadata": {
    "collapsed": false
   },
   "outputs": [],
   "source": [
    "matchDF1 <- playerAttributeUniqueDF %>% inner_join(matchDF,by = c(\"player_api_id\" = \"home_player_1\"))%>% group_by(player_api_id) %>% summarise(count = n())\n",
    "matchDF2 <- playerAttributeUniqueDF %>% inner_join(matchDF,by = c(\"player_api_id\" = \"home_player_2\"))%>% group_by(player_api_id) %>% summarise(count = n())\n",
    "matchDF3 <- playerAttributeUniqueDF %>% inner_join(matchDF,by = c(\"player_api_id\" = \"home_player_3\"))%>% group_by(player_api_id) %>% summarise(count = n())\n",
    "matchDF4 <- playerAttributeUniqueDF %>% inner_join(matchDF,by = c(\"player_api_id\" = \"home_player_4\"))%>% group_by(player_api_id) %>% summarise(count = n())\n",
    "matchDF5 <- playerAttributeUniqueDF %>% inner_join(matchDF,by = c(\"player_api_id\" = \"home_player_5\"))%>% group_by(player_api_id) %>% summarise(count = n())\n",
    "matchDF6 <- playerAttributeUniqueDF %>% inner_join(matchDF,by = c(\"player_api_id\" = \"home_player_6\"))%>% group_by(player_api_id) %>% summarise(count = n())\n",
    "matchDF7 <- playerAttributeUniqueDF %>% inner_join(matchDF,by = c(\"player_api_id\" = \"home_player_7\"))%>% group_by(player_api_id) %>% summarise(count = n())\n",
    "matchDF8 <- playerAttributeUniqueDF %>% inner_join(matchDF,by = c(\"player_api_id\" = \"home_player_8\"))%>% group_by(player_api_id) %>% summarise(count = n())\n",
    "matchDF9 <- playerAttributeUniqueDF %>% inner_join(matchDF,by = c(\"player_api_id\" = \"home_player_9\"))%>% group_by(player_api_id) %>% summarise(count = n())\n",
    "matchDF10 <- playerAttributeUniqueDF %>% inner_join(matchDF,by = c(\"player_api_id\" = \"home_player_10\"))%>% group_by(player_api_id) %>% summarise(count = n())\n",
    "matchDF11 <- playerAttributeUniqueDF %>% inner_join(matchDF,by = c(\"player_api_id\" = \"home_player_11\"))%>% group_by(player_api_id) %>% summarise(count = n())\n",
    "matchDF12 <- playerAttributeUniqueDF %>% inner_join(matchDF,by = c(\"player_api_id\" = \"away_player_1\"))%>% group_by(player_api_id) %>% summarise(count = n())\n",
    "matchDF13 <- playerAttributeUniqueDF %>% inner_join(matchDF,by = c(\"player_api_id\" = \"away_player_2\"))%>% group_by(player_api_id) %>% summarise(count = n())\n",
    "matchDF14 <- playerAttributeUniqueDF %>% inner_join(matchDF,by = c(\"player_api_id\" = \"away_player_3\"))%>% group_by(player_api_id) %>% summarise(count = n())\n",
    "matchDF15 <- playerAttributeUniqueDF %>% inner_join(matchDF,by = c(\"player_api_id\" = \"away_player_4\"))%>% group_by(player_api_id) %>% summarise(count = n())\n",
    "matchDF16 <- playerAttributeUniqueDF %>% inner_join(matchDF,by = c(\"player_api_id\" = \"away_player_5\"))%>% group_by(player_api_id) %>% summarise(count = n())\n",
    "matchDF17 <- playerAttributeUniqueDF %>% inner_join(matchDF,by = c(\"player_api_id\" = \"away_player_6\"))%>% group_by(player_api_id) %>% summarise(count = n())\n",
    "matchDF18 <- playerAttributeUniqueDF %>% inner_join(matchDF,by = c(\"player_api_id\" = \"away_player_7\"))%>% group_by(player_api_id) %>% summarise(count = n())\n",
    "matchDF19 <- playerAttributeUniqueDF %>% inner_join(matchDF,by = c(\"player_api_id\" = \"away_player_8\"))%>% group_by(player_api_id) %>% summarise(count = n())\n",
    "matchDF20 <- playerAttributeUniqueDF %>% inner_join(matchDF,by = c(\"player_api_id\" = \"away_player_9\"))%>% group_by(player_api_id) %>% summarise(count = n())\n",
    "matchDF21 <- playerAttributeUniqueDF %>% inner_join(matchDF,by = c(\"player_api_id\" = \"away_player_10\"))%>% group_by(player_api_id) %>% summarise(count = n())\n",
    "matchDF22 <- playerAttributeUniqueDF %>% inner_join(matchDF,by = c(\"player_api_id\" = \"away_player_11\"))%>% group_by(player_api_id) %>% summarise(count = n())"
   ]
  },
  {
   "cell_type": "code",
   "execution_count": 688,
   "metadata": {
    "collapsed": true
   },
   "outputs": [],
   "source": [
    "matchDFTotal <- matchDF1 %>% rbind(matchDF2) %>% rbind(matchDF3) %>% rbind(matchDF4) %>% rbind(matchDF5) %>% rbind(matchDF6) %>% rbind(matchDF7) %>% rbind(matchDF8) %>% rbind(matchDF9) %>% rbind(matchDF10) %>% rbind(matchDF11) %>% rbind(matchDF12) %>% rbind(matchDF13) %>% rbind(matchDF14) %>% rbind(matchDF15) %>% rbind(matchDF16) %>% rbind(matchDF17) %>% rbind(matchDF18) %>% rbind(matchDF19) %>% rbind(matchDF20) %>% rbind(matchDF21) %>% rbind(matchDF22)"
   ]
  },
  {
   "cell_type": "code",
   "execution_count": 689,
   "metadata": {
    "collapsed": false
   },
   "outputs": [],
   "source": [
    "matchDFTotal <- matchDFTotal %>%  group_by(player_api_id) %>% summarise(No_of_Presences = sum(count)) %>% arrange(desc(No_of_Presences))"
   ]
  },
  {
   "cell_type": "code",
   "execution_count": 690,
   "metadata": {
    "collapsed": false
   },
   "outputs": [
    {
     "data": {
      "text/html": [
       "<table>\n",
       "<thead><tr><th scope=col>player_api_id</th><th scope=col>No_of_Presences</th></tr></thead>\n",
       "<tbody>\n",
       "\t<tr><td>31293</td><td>289  </td></tr>\n",
       "\t<tr><td>31465</td><td>277  </td></tr>\n",
       "\t<tr><td>26295</td><td>274  </td></tr>\n",
       "\t<tr><td>41097</td><td>270  </td></tr>\n",
       "\t<tr><td>31432</td><td>269  </td></tr>\n",
       "\t<tr><td>42422</td><td>264  </td></tr>\n",
       "</tbody>\n",
       "</table>\n"
      ],
      "text/latex": [
       "\\begin{tabular}{r|ll}\n",
       " player\\_api\\_id & No\\_of\\_Presences\\\\\n",
       "\\hline\n",
       "\t 31293 & 289  \\\\\n",
       "\t 31465 & 277  \\\\\n",
       "\t 26295 & 274  \\\\\n",
       "\t 41097 & 270  \\\\\n",
       "\t 31432 & 269  \\\\\n",
       "\t 42422 & 264  \\\\\n",
       "\\end{tabular}\n"
      ],
      "text/markdown": [
       "\n",
       "player_api_id | No_of_Presences | \n",
       "|---|---|---|---|---|---|\n",
       "| 31293 | 289   | \n",
       "| 31465 | 277   | \n",
       "| 26295 | 274   | \n",
       "| 41097 | 270   | \n",
       "| 31432 | 269   | \n",
       "| 42422 | 264   | \n",
       "\n",
       "\n"
      ],
      "text/plain": [
       "  player_api_id No_of_Presences\n",
       "1 31293         289            \n",
       "2 31465         277            \n",
       "3 26295         274            \n",
       "4 41097         270            \n",
       "5 31432         269            \n",
       "6 42422         264            "
      ]
     },
     "metadata": {},
     "output_type": "display_data"
    }
   ],
   "source": [
    "head(matchDFTotal)"
   ]
  },
  {
   "cell_type": "code",
   "execution_count": 285,
   "metadata": {
    "collapsed": false
   },
   "outputs": [
    {
     "name": "stderr",
     "output_type": "stream",
     "text": [
      "Joining, by = \"player_api_id\"\n"
     ]
    }
   ],
   "source": [
    "helperTable <- inner_join(playerAttribute1,player1)"
   ]
  },
  {
   "cell_type": "code",
   "execution_count": 681,
   "metadata": {
    "collapsed": true
   },
   "outputs": [],
   "source": [
    "helperTableDF <- data.frame(helperTable)"
   ]
  },
  {
   "cell_type": "code",
   "execution_count": 682,
   "metadata": {
    "collapsed": false
   },
   "outputs": [],
   "source": [
    "helperTableDF <- mutate(helperTableDF,gk_rating=gk_diving+gk_handling+gk_kicking+gk_positioning+gk_reflexes)"
   ]
  },
  {
   "cell_type": "code",
   "execution_count": 683,
   "metadata": {
    "collapsed": false
   },
   "outputs": [],
   "source": [
    "helperTableDF <- select(helperTableDF,-(gk_diving:gk_reflexes))"
   ]
  },
  {
   "cell_type": "code",
   "execution_count": 684,
   "metadata": {
    "collapsed": false
   },
   "outputs": [],
   "source": [
    "helperTableDFUnique <- distinct(helperTableDF, player_api_id, .keep_all = TRUE)"
   ]
  },
  {
   "cell_type": "code",
   "execution_count": 328,
   "metadata": {
    "collapsed": false
   },
   "outputs": [],
   "source": [
    "helperTableDFUnique <- select(helperTableDFUnique,-player_api_id)"
   ]
  },
  {
   "cell_type": "code",
   "execution_count": 330,
   "metadata": {
    "collapsed": false
   },
   "outputs": [],
   "source": [
    "helperTableDFUnique <- helperTableDFUnique[c(2,1,3)]"
   ]
  },
  {
   "cell_type": "code",
   "execution_count": 691,
   "metadata": {
    "collapsed": false
   },
   "outputs": [
    {
     "data": {
      "text/html": [
       "11060"
      ],
      "text/latex": [
       "11060"
      ],
      "text/markdown": [
       "11060"
      ],
      "text/plain": [
       "[1] 11060"
      ]
     },
     "metadata": {},
     "output_type": "display_data"
    }
   ],
   "source": [
    "nrow(helperTableDFUnique)"
   ]
  },
  {
   "cell_type": "code",
   "execution_count": 692,
   "metadata": {
    "collapsed": false
   },
   "outputs": [
    {
     "name": "stderr",
     "output_type": "stream",
     "text": [
      "Joining, by = \"player_api_id\"\n"
     ]
    }
   ],
   "source": [
    "helperTableDFUnique <- matchDFTotal %>% inner_join(helperTableDFUnique)"
   ]
  },
  {
   "cell_type": "code",
   "execution_count": 727,
   "metadata": {
    "collapsed": false
   },
   "outputs": [
    {
     "data": {
      "text/html": [
       "10787"
      ],
      "text/latex": [
       "10787"
      ],
      "text/markdown": [
       "10787"
      ],
      "text/plain": [
       "[1] 10787"
      ]
     },
     "metadata": {},
     "output_type": "display_data"
    }
   ],
   "source": [
    "nrow(helperTableDFUnique)"
   ]
  },
  {
   "cell_type": "code",
   "execution_count": 686,
   "metadata": {
    "collapsed": false
   },
   "outputs": [
    {
     "data": {
      "text/html": [
       "<table>\n",
       "<thead><tr><th scope=col>player_api_id</th><th scope=col>overall_rating</th><th scope=col>player_name</th><th scope=col>gk_rating</th></tr></thead>\n",
       "<tbody>\n",
       "\t<tr><td>31293         </td><td>83            </td><td>Steve Mandanda</td><td>407           </td></tr>\n",
       "</tbody>\n",
       "</table>\n"
      ],
      "text/latex": [
       "\\begin{tabular}{r|llll}\n",
       " player\\_api\\_id & overall\\_rating & player\\_name & gk\\_rating\\\\\n",
       "\\hline\n",
       "\t 31293          & 83             & Steve Mandanda & 407           \\\\\n",
       "\\end{tabular}\n"
      ],
      "text/markdown": [
       "\n",
       "player_api_id | overall_rating | player_name | gk_rating | \n",
       "|---|\n",
       "| 31293          | 83             | Steve Mandanda | 407            | \n",
       "\n",
       "\n"
      ],
      "text/plain": [
       "  player_api_id overall_rating player_name    gk_rating\n",
       "1 31293         83             Steve Mandanda 407      "
      ]
     },
     "metadata": {},
     "output_type": "display_data"
    }
   ],
   "source": [
    "filter(helperTableDFUnique,player_api_id=='31293')"
   ]
  },
  {
   "cell_type": "code",
   "execution_count": 699,
   "metadata": {
    "collapsed": true
   },
   "outputs": [],
   "source": [
    "lmatchDF <- data.frame(matchTable)"
   ]
  },
  {
   "cell_type": "code",
   "execution_count": 707,
   "metadata": {
    "collapsed": false
   },
   "outputs": [],
   "source": [
    "lmatchDF <- lmatchDF %>% select(league_id,home_player_1:away_player_11) %>% na.omit()"
   ]
  },
  {
   "cell_type": "code",
   "execution_count": 718,
   "metadata": {
    "collapsed": true
   },
   "outputs": [],
   "source": [
    "lmatchDF1 <- playerAttributeUniqueDF %>% inner_join(lmatchDF,by = c(\"player_api_id\" = \"home_player_1\")) %>% distinct(player_api_id,league_id)\n",
    "lmatchDF2 <- playerAttributeUniqueDF %>% inner_join(lmatchDF,by = c(\"player_api_id\" = \"home_player_2\")) %>% distinct(player_api_id,league_id) \n",
    "lmatchDF3 <- playerAttributeUniqueDF %>% inner_join(lmatchDF,by = c(\"player_api_id\" = \"home_player_3\")) %>% distinct(player_api_id,league_id) \n",
    "lmatchDF4 <- playerAttributeUniqueDF %>% inner_join(lmatchDF,by = c(\"player_api_id\" = \"home_player_4\")) %>% distinct(player_api_id,league_id) \n",
    "lmatchDF5 <- playerAttributeUniqueDF %>% inner_join(lmatchDF,by = c(\"player_api_id\" = \"home_player_5\")) %>% distinct(player_api_id,league_id) \n",
    "lmatchDF6 <- playerAttributeUniqueDF %>% inner_join(lmatchDF,by = c(\"player_api_id\" = \"home_player_6\")) %>% distinct(player_api_id,league_id) \n",
    "lmatchDF7 <- playerAttributeUniqueDF %>% inner_join(lmatchDF,by = c(\"player_api_id\" = \"home_player_7\")) %>% distinct(player_api_id,league_id) \n",
    "lmatchDF8 <- playerAttributeUniqueDF %>% inner_join(lmatchDF,by = c(\"player_api_id\" = \"home_player_8\")) %>% distinct(player_api_id,league_id) \n",
    "lmatchDF9 <- playerAttributeUniqueDF %>% inner_join(lmatchDF,by = c(\"player_api_id\" = \"home_player_9\")) %>% distinct(player_api_id,league_id) \n",
    "lmatchDF10 <- playerAttributeUniqueDF %>% inner_join(lmatchDF,by = c(\"player_api_id\" = \"home_player_10\")) %>% distinct(player_api_id,league_id) \n",
    "lmatchDF11 <- playerAttributeUniqueDF %>% inner_join(lmatchDF,by = c(\"player_api_id\" = \"home_player_11\")) %>% distinct(player_api_id,league_id) \n",
    "lmatchDF12 <- playerAttributeUniqueDF %>% inner_join(lmatchDF,by = c(\"player_api_id\" = \"away_player_1\")) %>% distinct(player_api_id,league_id) \n",
    "lmatchDF13 <- playerAttributeUniqueDF %>% inner_join(lmatchDF,by = c(\"player_api_id\" = \"away_player_2\")) %>% distinct(player_api_id,league_id) \n",
    "lmatchDF14 <- playerAttributeUniqueDF %>% inner_join(lmatchDF,by = c(\"player_api_id\" = \"away_player_3\")) %>% distinct(player_api_id,league_id) \n",
    "lmatchDF15 <- playerAttributeUniqueDF %>% inner_join(lmatchDF,by = c(\"player_api_id\" = \"away_player_4\")) %>% distinct(player_api_id,league_id) \n",
    "lmatchDF16 <- playerAttributeUniqueDF %>% inner_join(lmatchDF,by = c(\"player_api_id\" = \"away_player_5\")) %>% distinct(player_api_id,league_id) \n",
    "lmatchDF17 <- playerAttributeUniqueDF %>% inner_join(lmatchDF,by = c(\"player_api_id\" = \"away_player_6\")) %>% distinct(player_api_id,league_id) \n",
    "lmatchDF18 <- playerAttributeUniqueDF %>% inner_join(lmatchDF,by = c(\"player_api_id\" = \"away_player_7\")) %>% distinct(player_api_id,league_id) \n",
    "lmatchDF19 <- playerAttributeUniqueDF %>% inner_join(lmatchDF,by = c(\"player_api_id\" = \"away_player_8\")) %>% distinct(player_api_id,league_id) \n",
    "lmatchDF20 <- playerAttributeUniqueDF %>% inner_join(lmatchDF,by = c(\"player_api_id\" = \"away_player_9\")) %>% distinct(player_api_id,league_id) \n",
    "lmatchDF21 <- playerAttributeUniqueDF %>% inner_join(lmatchDF,by = c(\"player_api_id\" = \"away_player_10\")) %>% distinct(player_api_id,league_id) \n",
    "lmatchDF22 <- playerAttributeUniqueDF %>% inner_join(lmatchDF,by = c(\"player_api_id\" = \"away_player_11\")) %>% distinct(player_api_id,league_id) "
   ]
  },
  {
   "cell_type": "code",
   "execution_count": 730,
   "metadata": {
    "collapsed": false
   },
   "outputs": [],
   "source": [
    "lmatchDFTotal <- lmatchDF1 %>% rbind(lmatchDF2) %>% rbind(lmatchDF3) %>% rbind(lmatchDF4) %>% rbind(lmatchDF5) %>% rbind(lmatchDF6) %>% rbind(lmatchDF7) %>% rbind(lmatchDF8) %>% rbind(lmatchDF9) %>% rbind(lmatchDF10) %>% rbind(lmatchDF11) %>% rbind(lmatchDF12) %>% rbind(lmatchDF13) %>% rbind(lmatchDF14) %>% rbind(lmatchDF15) %>% rbind(lmatchDF16) %>% rbind(lmatchDF17) %>% rbind(lmatchDF18) %>% rbind(lmatchDF19) %>% rbind(lmatchDF20) %>% rbind(lmatchDF21) %>% rbind(lmatchDF22)"
   ]
  },
  {
   "cell_type": "code",
   "execution_count": 731,
   "metadata": {
    "collapsed": false
   },
   "outputs": [],
   "source": [
    "lmatchDFTotal <- lmatchDFTotal %>% distinct(player_api_id,league_id) %>% group_by(player_api_id) %>% summarise(No_of_leagues = n())"
   ]
  },
  {
   "cell_type": "code",
   "execution_count": 732,
   "metadata": {
    "collapsed": false
   },
   "outputs": [
    {
     "name": "stderr",
     "output_type": "stream",
     "text": [
      "Joining, by = \"player_api_id\"\n"
     ]
    }
   ],
   "source": [
    "helperTableDFUniqueFinal <- lmatchDFTotal %>% inner_join(helperTableDFUnique)"
   ]
  },
  {
   "cell_type": "code",
   "execution_count": 736,
   "metadata": {
    "collapsed": false
   },
   "outputs": [],
   "source": [
    "playerDetails <- helperTableDFUniqueFinal[c(5,4,6,3,2)]"
   ]
  },
  {
   "cell_type": "code",
   "execution_count": 737,
   "metadata": {
    "collapsed": false
   },
   "outputs": [
    {
     "data": {
      "text/html": [
       "<table>\n",
       "<thead><tr><th scope=col>player_name</th><th scope=col>overall_rating</th><th scope=col>gk_rating</th><th scope=col>No_of_Presences</th><th scope=col>No_of_leagues</th></tr></thead>\n",
       "<tbody>\n",
       "\t<tr><td>Patryk Rachwal,18       </td><td>61                      </td><td> 45                     </td><td>  4                     </td><td>1                       </td></tr>\n",
       "\t<tr><td>Diego Mainz             </td><td>72                      </td><td> 53                     </td><td> 79                     </td><td>1                       </td></tr>\n",
       "\t<tr><td>Jose Dorado             </td><td>74                      </td><td> 64                     </td><td> 69                     </td><td>1                       </td></tr>\n",
       "\t<tr><td>Ignacio Gonzalez        </td><td>69                      </td><td> 60                     </td><td> 14                     </td><td>2                       </td></tr>\n",
       "\t<tr><td>Alberto Rey             </td><td>67                      </td><td> 55                     </td><td> 40                     </td><td>1                       </td></tr>\n",
       "\t<tr><td>Javier Jimenez          </td><td>69                      </td><td>340                     </td><td>  1                     </td><td>1                       </td></tr>\n",
       "\t<tr><td>Pablo Hernandez         </td><td>76                      </td><td> 54                     </td><td>131                     </td><td>2                       </td></tr>\n",
       "\t<tr><td>Ruben Perez             </td><td>76                      </td><td> 56                     </td><td>128                     </td><td>1                       </td></tr>\n",
       "\t<tr><td>Ivan Perez              </td><td>65                      </td><td> 52                     </td><td>  2                     </td><td>1                       </td></tr>\n",
       "\t<tr><td>Vicente Sanchez         </td><td>72                      </td><td> 49                     </td><td> 16                     </td><td>1                       </td></tr>\n",
       "\t<tr><td>Gregory Lacombe         </td><td>65                      </td><td> 42                     </td><td>  5                     </td><td>1                       </td></tr>\n",
       "\t<tr><td>Ugur Inceman            </td><td>68                      </td><td> 44                     </td><td> 16                     </td><td>1                       </td></tr>\n",
       "\t<tr><td>David Rivas Rodriguez   </td><td>62                      </td><td> 51                     </td><td>  3                     </td><td>1                       </td></tr>\n",
       "\t<tr><td>Jorge Molina            </td><td>75                      </td><td> 55                     </td><td> 70                     </td><td>1                       </td></tr>\n",
       "\t<tr><td>Sergio Aragones         </td><td>65                      </td><td>323                     </td><td> 19                     </td><td>1                       </td></tr>\n",
       "\t<tr><td>Alexandre Hauw          </td><td>66                      </td><td> 53                     </td><td> 13                     </td><td>1                       </td></tr>\n",
       "\t<tr><td>Marat Izmailov          </td><td>73                      </td><td> 53                     </td><td> 26                     </td><td>1                       </td></tr>\n",
       "\t<tr><td>Kelly Berville          </td><td>67                      </td><td>115                     </td><td>  3                     </td><td>1                       </td></tr>\n",
       "\t<tr><td>Abdelmalek Cherrad      </td><td>62                      </td><td> 49                     </td><td>  1                     </td><td>1                       </td></tr>\n",
       "\t<tr><td>Oscar Sanchez           </td><td>67                      </td><td> 40                     </td><td>  4                     </td><td>1                       </td></tr>\n",
       "\t<tr><td>Vincent Euvrard         </td><td>64                      </td><td> 54                     </td><td> 54                     </td><td>1                       </td></tr>\n",
       "\t<tr><td>Luca Belingheri         </td><td>68                      </td><td> 46                     </td><td>  1                     </td><td>1                       </td></tr>\n",
       "\t<tr><td>Aleksander Radosavljevic</td><td>65                      </td><td> 62                     </td><td> 70                     </td><td>1                       </td></tr>\n",
       "\t<tr><td>Peter Halmosi           </td><td>65                      </td><td> 51                     </td><td>  4                     </td><td>1                       </td></tr>\n",
       "\t<tr><td>Alexandr Kerzhakov      </td><td>77                      </td><td> 68                     </td><td> 17                     </td><td>1                       </td></tr>\n",
       "\t<tr><td>Andrey Arshavin         </td><td>75                      </td><td> 55                     </td><td> 70                     </td><td>1                       </td></tr>\n",
       "\t<tr><td>Lee Wilkie              </td><td>73                      </td><td>128                     </td><td> 30                     </td><td>1                       </td></tr>\n",
       "\t<tr><td>Boban Grncarov          </td><td>66                      </td><td> 54                     </td><td> 25                     </td><td>1                       </td></tr>\n",
       "\t<tr><td>Iriney                  </td><td>69                      </td><td> 40                     </td><td> 62                     </td><td>1                       </td></tr>\n",
       "\t<tr><td>Tim Clancy              </td><td>57                      </td><td> 64                     </td><td> 84                     </td><td>1                       </td></tr>\n",
       "\t<tr><td>⋮</td><td>⋮</td><td>⋮</td><td>⋮</td><td>⋮</td></tr>\n",
       "\t<tr><td>Alban Lafont          </td><td>70                    </td><td>355                   </td><td>24                    </td><td>1                     </td></tr>\n",
       "\t<tr><td>Ronael Pierre-Gabriel </td><td>58                    </td><td> 47                   </td><td> 3                    </td><td>1                     </td></tr>\n",
       "\t<tr><td>Kylian Mbappe Lottin  </td><td>65                    </td><td> 42                   </td><td> 2                    </td><td>1                     </td></tr>\n",
       "\t<tr><td>Colin Trachsel        </td><td>51                    </td><td> 48                   </td><td> 1                    </td><td>1                     </td></tr>\n",
       "\t<tr><td>Christopher Nkunku    </td><td>62                    </td><td> 43                   </td><td> 4                    </td><td>1                     </td></tr>\n",
       "\t<tr><td>Eray Cumart           </td><td>52                    </td><td> 32                   </td><td> 4                    </td><td>1                     </td></tr>\n",
       "\t<tr><td>Jordan Lyden          </td><td>58                    </td><td> 53                   </td><td> 2                    </td><td>1                     </td></tr>\n",
       "\t<tr><td>Jonatan Montiel       </td><td>67                    </td><td> 47                   </td><td> 1                    </td><td>1                     </td></tr>\n",
       "\t<tr><td>Aissa Laidouni        </td><td>59                    </td><td> 61                   </td><td> 1                    </td><td>1                     </td></tr>\n",
       "\t<tr><td>Sebastien Lamonge     </td><td>56                    </td><td> 46                   </td><td> 1                    </td><td>1                     </td></tr>\n",
       "\t<tr><td>Felipe Augusto        </td><td>64                    </td><td> 59                   </td><td> 4                    </td><td>1                     </td></tr>\n",
       "\t<tr><td>Antoine Rabillard     </td><td>61                    </td><td> 56                   </td><td> 1                    </td><td>1                     </td></tr>\n",
       "\t<tr><td>Levi Garcia           </td><td>64                    </td><td> 49                   </td><td> 4                    </td><td>1                     </td></tr>\n",
       "\t<tr><td>Dorian Caddy          </td><td>64                    </td><td> 54                   </td><td> 2                    </td><td>1                     </td></tr>\n",
       "\t<tr><td>Charles Traore        </td><td>55                    </td><td> 52                   </td><td> 5                    </td><td>1                     </td></tr>\n",
       "\t<tr><td>Rafa Soares           </td><td>70                    </td><td> 60                   </td><td>12                    </td><td>1                     </td></tr>\n",
       "\t<tr><td>Charly Musonda        </td><td>71                    </td><td> 36                   </td><td>12                    </td><td>1                     </td></tr>\n",
       "\t<tr><td>Wanderson Lima        </td><td>53                    </td><td> 54                   </td><td> 1                    </td><td>1                     </td></tr>\n",
       "\t<tr><td>Dennis van der Heijden</td><td>60                    </td><td> 54                   </td><td> 1                    </td><td>1                     </td></tr>\n",
       "\t<tr><td>Cedric Itten          </td><td>54                    </td><td> 41                   </td><td> 4                    </td><td>1                     </td></tr>\n",
       "\t<tr><td>Christopher McLaughlin</td><td>50                    </td><td> 49                   </td><td> 2                    </td><td>1                     </td></tr>\n",
       "\t<tr><td>Justin Hoogma         </td><td>59                    </td><td> 54                   </td><td> 1                    </td><td>1                     </td></tr>\n",
       "\t<tr><td>Kamil Jozwiak         </td><td>56                    </td><td> 54                   </td><td> 1                    </td><td>1                     </td></tr>\n",
       "\t<tr><td>Jorge Intima          </td><td>57                    </td><td> 59                   </td><td> 1                    </td><td>1                     </td></tr>\n",
       "\t<tr><td>Linus Obexer          </td><td>51                    </td><td> 45                   </td><td> 2                    </td><td>1                     </td></tr>\n",
       "\t<tr><td>Charles Pickel        </td><td>50                    </td><td> 53                   </td><td> 1                    </td><td>1                     </td></tr>\n",
       "\t<tr><td>Francisco Afonso      </td><td>59                    </td><td> 42                   </td><td> 2                    </td><td>1                     </td></tr>\n",
       "\t<tr><td>Fynn Arkenberg        </td><td>58                    </td><td> 46                   </td><td> 2                    </td><td>1                     </td></tr>\n",
       "\t<tr><td>Rees Greenwood        </td><td>60                    </td><td> 48                   </td><td> 1                    </td><td>1                     </td></tr>\n",
       "\t<tr><td>Alexandre Azevedo     </td><td>58                    </td><td> 54                   </td><td> 1                    </td><td>1                     </td></tr>\n",
       "</tbody>\n",
       "</table>\n"
      ],
      "text/latex": [
       "\\begin{tabular}{r|lllll}\n",
       " player\\_name & overall\\_rating & gk\\_rating & No\\_of\\_Presences & No\\_of\\_leagues\\\\\n",
       "\\hline\n",
       "\t Patryk Rachwal,18        & 61                       &  45                      &   4                      & 1                       \\\\\n",
       "\t Diego Mainz              & 72                       &  53                      &  79                      & 1                       \\\\\n",
       "\t Jose Dorado              & 74                       &  64                      &  69                      & 1                       \\\\\n",
       "\t Ignacio Gonzalez         & 69                       &  60                      &  14                      & 2                       \\\\\n",
       "\t Alberto Rey              & 67                       &  55                      &  40                      & 1                       \\\\\n",
       "\t Javier Jimenez           & 69                       & 340                      &   1                      & 1                       \\\\\n",
       "\t Pablo Hernandez          & 76                       &  54                      & 131                      & 2                       \\\\\n",
       "\t Ruben Perez              & 76                       &  56                      & 128                      & 1                       \\\\\n",
       "\t Ivan Perez               & 65                       &  52                      &   2                      & 1                       \\\\\n",
       "\t Vicente Sanchez          & 72                       &  49                      &  16                      & 1                       \\\\\n",
       "\t Gregory Lacombe          & 65                       &  42                      &   5                      & 1                       \\\\\n",
       "\t Ugur Inceman             & 68                       &  44                      &  16                      & 1                       \\\\\n",
       "\t David Rivas Rodriguez    & 62                       &  51                      &   3                      & 1                       \\\\\n",
       "\t Jorge Molina             & 75                       &  55                      &  70                      & 1                       \\\\\n",
       "\t Sergio Aragones          & 65                       & 323                      &  19                      & 1                       \\\\\n",
       "\t Alexandre Hauw           & 66                       &  53                      &  13                      & 1                       \\\\\n",
       "\t Marat Izmailov           & 73                       &  53                      &  26                      & 1                       \\\\\n",
       "\t Kelly Berville           & 67                       & 115                      &   3                      & 1                       \\\\\n",
       "\t Abdelmalek Cherrad       & 62                       &  49                      &   1                      & 1                       \\\\\n",
       "\t Oscar Sanchez            & 67                       &  40                      &   4                      & 1                       \\\\\n",
       "\t Vincent Euvrard          & 64                       &  54                      &  54                      & 1                       \\\\\n",
       "\t Luca Belingheri          & 68                       &  46                      &   1                      & 1                       \\\\\n",
       "\t Aleksander Radosavljevic & 65                       &  62                      &  70                      & 1                       \\\\\n",
       "\t Peter Halmosi            & 65                       &  51                      &   4                      & 1                       \\\\\n",
       "\t Alexandr Kerzhakov       & 77                       &  68                      &  17                      & 1                       \\\\\n",
       "\t Andrey Arshavin          & 75                       &  55                      &  70                      & 1                       \\\\\n",
       "\t Lee Wilkie               & 73                       & 128                      &  30                      & 1                       \\\\\n",
       "\t Boban Grncarov           & 66                       &  54                      &  25                      & 1                       \\\\\n",
       "\t Iriney                   & 69                       &  40                      &  62                      & 1                       \\\\\n",
       "\t Tim Clancy               & 57                       &  64                      &  84                      & 1                       \\\\\n",
       "\t ⋮ & ⋮ & ⋮ & ⋮ & ⋮\\\\\n",
       "\t Alban Lafont           & 70                     & 355                    & 24                     & 1                     \\\\\n",
       "\t Ronael Pierre-Gabriel  & 58                     &  47                    &  3                     & 1                     \\\\\n",
       "\t Kylian Mbappe Lottin   & 65                     &  42                    &  2                     & 1                     \\\\\n",
       "\t Colin Trachsel         & 51                     &  48                    &  1                     & 1                     \\\\\n",
       "\t Christopher Nkunku     & 62                     &  43                    &  4                     & 1                     \\\\\n",
       "\t Eray Cumart            & 52                     &  32                    &  4                     & 1                     \\\\\n",
       "\t Jordan Lyden           & 58                     &  53                    &  2                     & 1                     \\\\\n",
       "\t Jonatan Montiel        & 67                     &  47                    &  1                     & 1                     \\\\\n",
       "\t Aissa Laidouni         & 59                     &  61                    &  1                     & 1                     \\\\\n",
       "\t Sebastien Lamonge      & 56                     &  46                    &  1                     & 1                     \\\\\n",
       "\t Felipe Augusto         & 64                     &  59                    &  4                     & 1                     \\\\\n",
       "\t Antoine Rabillard      & 61                     &  56                    &  1                     & 1                     \\\\\n",
       "\t Levi Garcia            & 64                     &  49                    &  4                     & 1                     \\\\\n",
       "\t Dorian Caddy           & 64                     &  54                    &  2                     & 1                     \\\\\n",
       "\t Charles Traore         & 55                     &  52                    &  5                     & 1                     \\\\\n",
       "\t Rafa Soares            & 70                     &  60                    & 12                     & 1                     \\\\\n",
       "\t Charly Musonda         & 71                     &  36                    & 12                     & 1                     \\\\\n",
       "\t Wanderson Lima         & 53                     &  54                    &  1                     & 1                     \\\\\n",
       "\t Dennis van der Heijden & 60                     &  54                    &  1                     & 1                     \\\\\n",
       "\t Cedric Itten           & 54                     &  41                    &  4                     & 1                     \\\\\n",
       "\t Christopher McLaughlin & 50                     &  49                    &  2                     & 1                     \\\\\n",
       "\t Justin Hoogma          & 59                     &  54                    &  1                     & 1                     \\\\\n",
       "\t Kamil Jozwiak          & 56                     &  54                    &  1                     & 1                     \\\\\n",
       "\t Jorge Intima           & 57                     &  59                    &  1                     & 1                     \\\\\n",
       "\t Linus Obexer           & 51                     &  45                    &  2                     & 1                     \\\\\n",
       "\t Charles Pickel         & 50                     &  53                    &  1                     & 1                     \\\\\n",
       "\t Francisco Afonso       & 59                     &  42                    &  2                     & 1                     \\\\\n",
       "\t Fynn Arkenberg         & 58                     &  46                    &  2                     & 1                     \\\\\n",
       "\t Rees Greenwood         & 60                     &  48                    &  1                     & 1                     \\\\\n",
       "\t Alexandre Azevedo      & 58                     &  54                    &  1                     & 1                     \\\\\n",
       "\\end{tabular}\n"
      ],
      "text/markdown": [
       "\n",
       "player_name | overall_rating | gk_rating | No_of_Presences | No_of_leagues | \n",
       "|---|---|---|---|---|---|---|---|---|---|---|---|---|---|---|---|---|---|---|---|---|---|---|---|---|---|---|---|---|---|---|---|---|---|---|---|---|---|---|---|---|---|---|---|---|---|---|---|---|---|---|---|---|---|---|---|---|---|---|---|---|\n",
       "| Patryk Rachwal,18        | 61                       |  45                      |   4                      | 1                        | \n",
       "| Diego Mainz              | 72                       |  53                      |  79                      | 1                        | \n",
       "| Jose Dorado              | 74                       |  64                      |  69                      | 1                        | \n",
       "| Ignacio Gonzalez         | 69                       |  60                      |  14                      | 2                        | \n",
       "| Alberto Rey              | 67                       |  55                      |  40                      | 1                        | \n",
       "| Javier Jimenez           | 69                       | 340                      |   1                      | 1                        | \n",
       "| Pablo Hernandez          | 76                       |  54                      | 131                      | 2                        | \n",
       "| Ruben Perez              | 76                       |  56                      | 128                      | 1                        | \n",
       "| Ivan Perez               | 65                       |  52                      |   2                      | 1                        | \n",
       "| Vicente Sanchez          | 72                       |  49                      |  16                      | 1                        | \n",
       "| Gregory Lacombe          | 65                       |  42                      |   5                      | 1                        | \n",
       "| Ugur Inceman             | 68                       |  44                      |  16                      | 1                        | \n",
       "| David Rivas Rodriguez    | 62                       |  51                      |   3                      | 1                        | \n",
       "| Jorge Molina             | 75                       |  55                      |  70                      | 1                        | \n",
       "| Sergio Aragones          | 65                       | 323                      |  19                      | 1                        | \n",
       "| Alexandre Hauw           | 66                       |  53                      |  13                      | 1                        | \n",
       "| Marat Izmailov           | 73                       |  53                      |  26                      | 1                        | \n",
       "| Kelly Berville           | 67                       | 115                      |   3                      | 1                        | \n",
       "| Abdelmalek Cherrad       | 62                       |  49                      |   1                      | 1                        | \n",
       "| Oscar Sanchez            | 67                       |  40                      |   4                      | 1                        | \n",
       "| Vincent Euvrard          | 64                       |  54                      |  54                      | 1                        | \n",
       "| Luca Belingheri          | 68                       |  46                      |   1                      | 1                        | \n",
       "| Aleksander Radosavljevic | 65                       |  62                      |  70                      | 1                        | \n",
       "| Peter Halmosi            | 65                       |  51                      |   4                      | 1                        | \n",
       "| Alexandr Kerzhakov       | 77                       |  68                      |  17                      | 1                        | \n",
       "| Andrey Arshavin          | 75                       |  55                      |  70                      | 1                        | \n",
       "| Lee Wilkie               | 73                       | 128                      |  30                      | 1                        | \n",
       "| Boban Grncarov           | 66                       |  54                      |  25                      | 1                        | \n",
       "| Iriney                   | 69                       |  40                      |  62                      | 1                        | \n",
       "| Tim Clancy               | 57                       |  64                      |  84                      | 1                        | \n",
       "| ⋮ | ⋮ | ⋮ | ⋮ | ⋮ | \n",
       "| Alban Lafont           | 70                     | 355                    | 24                     | 1                      | \n",
       "| Ronael Pierre-Gabriel  | 58                     |  47                    |  3                     | 1                      | \n",
       "| Kylian Mbappe Lottin   | 65                     |  42                    |  2                     | 1                      | \n",
       "| Colin Trachsel         | 51                     |  48                    |  1                     | 1                      | \n",
       "| Christopher Nkunku     | 62                     |  43                    |  4                     | 1                      | \n",
       "| Eray Cumart            | 52                     |  32                    |  4                     | 1                      | \n",
       "| Jordan Lyden           | 58                     |  53                    |  2                     | 1                      | \n",
       "| Jonatan Montiel        | 67                     |  47                    |  1                     | 1                      | \n",
       "| Aissa Laidouni         | 59                     |  61                    |  1                     | 1                      | \n",
       "| Sebastien Lamonge      | 56                     |  46                    |  1                     | 1                      | \n",
       "| Felipe Augusto         | 64                     |  59                    |  4                     | 1                      | \n",
       "| Antoine Rabillard      | 61                     |  56                    |  1                     | 1                      | \n",
       "| Levi Garcia            | 64                     |  49                    |  4                     | 1                      | \n",
       "| Dorian Caddy           | 64                     |  54                    |  2                     | 1                      | \n",
       "| Charles Traore         | 55                     |  52                    |  5                     | 1                      | \n",
       "| Rafa Soares            | 70                     |  60                    | 12                     | 1                      | \n",
       "| Charly Musonda         | 71                     |  36                    | 12                     | 1                      | \n",
       "| Wanderson Lima         | 53                     |  54                    |  1                     | 1                      | \n",
       "| Dennis van der Heijden | 60                     |  54                    |  1                     | 1                      | \n",
       "| Cedric Itten           | 54                     |  41                    |  4                     | 1                      | \n",
       "| Christopher McLaughlin | 50                     |  49                    |  2                     | 1                      | \n",
       "| Justin Hoogma          | 59                     |  54                    |  1                     | 1                      | \n",
       "| Kamil Jozwiak          | 56                     |  54                    |  1                     | 1                      | \n",
       "| Jorge Intima           | 57                     |  59                    |  1                     | 1                      | \n",
       "| Linus Obexer           | 51                     |  45                    |  2                     | 1                      | \n",
       "| Charles Pickel         | 50                     |  53                    |  1                     | 1                      | \n",
       "| Francisco Afonso       | 59                     |  42                    |  2                     | 1                      | \n",
       "| Fynn Arkenberg         | 58                     |  46                    |  2                     | 1                      | \n",
       "| Rees Greenwood         | 60                     |  48                    |  1                     | 1                      | \n",
       "| Alexandre Azevedo      | 58                     |  54                    |  1                     | 1                      | \n",
       "\n",
       "\n"
      ],
      "text/plain": [
       "      player_name              overall_rating gk_rating No_of_Presences\n",
       "1     Patryk Rachwal,18        61              45         4            \n",
       "2     Diego Mainz              72              53        79            \n",
       "3     Jose Dorado              74              64        69            \n",
       "4     Ignacio Gonzalez         69              60        14            \n",
       "5     Alberto Rey              67              55        40            \n",
       "6     Javier Jimenez           69             340         1            \n",
       "7     Pablo Hernandez          76              54       131            \n",
       "8     Ruben Perez              76              56       128            \n",
       "9     Ivan Perez               65              52         2            \n",
       "10    Vicente Sanchez          72              49        16            \n",
       "11    Gregory Lacombe          65              42         5            \n",
       "12    Ugur Inceman             68              44        16            \n",
       "13    David Rivas Rodriguez    62              51         3            \n",
       "14    Jorge Molina             75              55        70            \n",
       "15    Sergio Aragones          65             323        19            \n",
       "16    Alexandre Hauw           66              53        13            \n",
       "17    Marat Izmailov           73              53        26            \n",
       "18    Kelly Berville           67             115         3            \n",
       "19    Abdelmalek Cherrad       62              49         1            \n",
       "20    Oscar Sanchez            67              40         4            \n",
       "21    Vincent Euvrard          64              54        54            \n",
       "22    Luca Belingheri          68              46         1            \n",
       "23    Aleksander Radosavljevic 65              62        70            \n",
       "24    Peter Halmosi            65              51         4            \n",
       "25    Alexandr Kerzhakov       77              68        17            \n",
       "26    Andrey Arshavin          75              55        70            \n",
       "27    Lee Wilkie               73             128        30            \n",
       "28    Boban Grncarov           66              54        25            \n",
       "29    Iriney                   69              40        62            \n",
       "30    Tim Clancy               57              64        84            \n",
       "⋮     ⋮                        ⋮              ⋮         ⋮              \n",
       "10758 Alban Lafont             70             355       24             \n",
       "10759 Ronael Pierre-Gabriel    58              47        3             \n",
       "10760 Kylian Mbappe Lottin     65              42        2             \n",
       "10761 Colin Trachsel           51              48        1             \n",
       "10762 Christopher Nkunku       62              43        4             \n",
       "10763 Eray Cumart              52              32        4             \n",
       "10764 Jordan Lyden             58              53        2             \n",
       "10765 Jonatan Montiel          67              47        1             \n",
       "10766 Aissa Laidouni           59              61        1             \n",
       "10767 Sebastien Lamonge        56              46        1             \n",
       "10768 Felipe Augusto           64              59        4             \n",
       "10769 Antoine Rabillard        61              56        1             \n",
       "10770 Levi Garcia              64              49        4             \n",
       "10771 Dorian Caddy             64              54        2             \n",
       "10772 Charles Traore           55              52        5             \n",
       "10773 Rafa Soares              70              60       12             \n",
       "10774 Charly Musonda           71              36       12             \n",
       "10775 Wanderson Lima           53              54        1             \n",
       "10776 Dennis van der Heijden   60              54        1             \n",
       "10777 Cedric Itten             54              41        4             \n",
       "10778 Christopher McLaughlin   50              49        2             \n",
       "10779 Justin Hoogma            59              54        1             \n",
       "10780 Kamil Jozwiak            56              54        1             \n",
       "10781 Jorge Intima             57              59        1             \n",
       "10782 Linus Obexer             51              45        2             \n",
       "10783 Charles Pickel           50              53        1             \n",
       "10784 Francisco Afonso         59              42        2             \n",
       "10785 Fynn Arkenberg           58              46        2             \n",
       "10786 Rees Greenwood           60              48        1             \n",
       "10787 Alexandre Azevedo        58              54        1             \n",
       "      No_of_leagues\n",
       "1     1            \n",
       "2     1            \n",
       "3     1            \n",
       "4     2            \n",
       "5     1            \n",
       "6     1            \n",
       "7     2            \n",
       "8     1            \n",
       "9     1            \n",
       "10    1            \n",
       "11    1            \n",
       "12    1            \n",
       "13    1            \n",
       "14    1            \n",
       "15    1            \n",
       "16    1            \n",
       "17    1            \n",
       "18    1            \n",
       "19    1            \n",
       "20    1            \n",
       "21    1            \n",
       "22    1            \n",
       "23    1            \n",
       "24    1            \n",
       "25    1            \n",
       "26    1            \n",
       "27    1            \n",
       "28    1            \n",
       "29    1            \n",
       "30    1            \n",
       "⋮     ⋮            \n",
       "10758 1            \n",
       "10759 1            \n",
       "10760 1            \n",
       "10761 1            \n",
       "10762 1            \n",
       "10763 1            \n",
       "10764 1            \n",
       "10765 1            \n",
       "10766 1            \n",
       "10767 1            \n",
       "10768 1            \n",
       "10769 1            \n",
       "10770 1            \n",
       "10771 1            \n",
       "10772 1            \n",
       "10773 1            \n",
       "10774 1            \n",
       "10775 1            \n",
       "10776 1            \n",
       "10777 1            \n",
       "10778 1            \n",
       "10779 1            \n",
       "10780 1            \n",
       "10781 1            \n",
       "10782 1            \n",
       "10783 1            \n",
       "10784 1            \n",
       "10785 1            \n",
       "10786 1            \n",
       "10787 1            "
      ]
     },
     "metadata": {},
     "output_type": "display_data"
    }
   ],
   "source": [
    "playerDetails"
   ]
  },
  {
   "cell_type": "markdown",
   "metadata": {},
   "source": [
    "# Match Details"
   ]
  },
  {
   "cell_type": "code",
   "execution_count": 738,
   "metadata": {
    "collapsed": true
   },
   "outputs": [],
   "source": [
    "teamDetails <- tbl(mydb,'Team')"
   ]
  },
  {
   "cell_type": "code",
   "execution_count": 1022,
   "metadata": {
    "collapsed": true
   },
   "outputs": [],
   "source": [
    "teamDetailsDF <- data.frame(teamDetails) %>% select(team_api_id,team_long_name)"
   ]
  },
  {
   "cell_type": "code",
   "execution_count": 1023,
   "metadata": {
    "collapsed": true
   },
   "outputs": [],
   "source": [
    "teamAttr <- tbl(mydb,'Team_Attributes')"
   ]
  },
  {
   "cell_type": "code",
   "execution_count": 1024,
   "metadata": {
    "collapsed": true
   },
   "outputs": [],
   "source": [
    "teamAttr <- teamAttr  %>% select(team_api_id,date,buildUpPlaySpeed,buildUpPlayDribbling,buildUpPlayPassing,chanceCreationPassing,chanceCreationCrossing,chanceCreationShooting,defencePressure,defenceAggression,defenceTeamWidth)"
   ]
  },
  {
   "cell_type": "code",
   "execution_count": 1025,
   "metadata": {
    "collapsed": false
   },
   "outputs": [],
   "source": [
    "teamAttrDF <- teamAttr %>% data.frame()"
   ]
  },
  {
   "cell_type": "code",
   "execution_count": 1026,
   "metadata": {
    "collapsed": false
   },
   "outputs": [],
   "source": [
    "teamAttrDF <- teamAttrDF %>% drop_na(date)"
   ]
  },
  {
   "cell_type": "code",
   "execution_count": 1032,
   "metadata": {
    "collapsed": false
   },
   "outputs": [
    {
     "data": {
      "text/html": [
       "288"
      ],
      "text/latex": [
       "288"
      ],
      "text/markdown": [
       "288"
      ],
      "text/plain": [
       "[1] 288"
      ]
     },
     "metadata": {},
     "output_type": "display_data"
    }
   ],
   "source": [
    "nrow(teamAttrDF)"
   ]
  },
  {
   "cell_type": "code",
   "execution_count": 1028,
   "metadata": {
    "collapsed": true
   },
   "outputs": [],
   "source": [
    "teamAttrDF[is.na(teamAttrDF)] <- 0"
   ]
  },
  {
   "cell_type": "code",
   "execution_count": 1030,
   "metadata": {
    "collapsed": false
   },
   "outputs": [],
   "source": [
    "teamAttrDF <- teamAttrDF %>% group_by(team_api_id) %>% mutate(buildup_play=buildUpPlaySpeed+buildUpPlayDribbling+buildUpPlayPassing,chance_creation=chanceCreationPassing+chanceCreationCrossing+chanceCreationShooting,defense = defencePressure+defenceAggression+defenceTeamWidth) %>% select(team_api_id,date,buildup_play,chance_creation,defense) %>% arrange(desc(date))"
   ]
  },
  {
   "cell_type": "code",
   "execution_count": 1031,
   "metadata": {
    "collapsed": false
   },
   "outputs": [],
   "source": [
    "teamAttrDF <- distinct(teamAttrDF, team_api_id, .keep_all = TRUE)"
   ]
  },
  {
   "cell_type": "code",
   "execution_count": 1033,
   "metadata": {
    "collapsed": true
   },
   "outputs": [],
   "source": [
    "teamAttrDF1 <- teamAttrDF"
   ]
  },
  {
   "cell_type": "code",
   "execution_count": 1034,
   "metadata": {
    "collapsed": false
   },
   "outputs": [
    {
     "name": "stderr",
     "output_type": "stream",
     "text": [
      "Joining, by = \"team_api_id\"\n"
     ]
    }
   ],
   "source": [
    "teamAttrDF <- teamAttrDF %>% inner_join(teamDetailsDF)"
   ]
  },
  {
   "cell_type": "code",
   "execution_count": 1035,
   "metadata": {
    "collapsed": true
   },
   "outputs": [],
   "source": [
    "matchDetails <- tbl(mydb,'Match')"
   ]
  },
  {
   "cell_type": "code",
   "execution_count": 1036,
   "metadata": {
    "collapsed": true
   },
   "outputs": [],
   "source": [
    "matchDetailsDF1 <- data.frame(matchDetails) %>% select(home_team_api_id,home_team_goal)"
   ]
  },
  {
   "cell_type": "code",
   "execution_count": 1037,
   "metadata": {
    "collapsed": true
   },
   "outputs": [],
   "source": [
    "matchDetailsDF2 <- data.frame(matchDetails) %>% select(away_team_api_id,away_team_goal)"
   ]
  },
  {
   "cell_type": "code",
   "execution_count": 1038,
   "metadata": {
    "collapsed": true
   },
   "outputs": [],
   "source": [
    "matchDetailsDF1 <- matchDetailsDF1 %>% drop_na()"
   ]
  },
  {
   "cell_type": "code",
   "execution_count": 1039,
   "metadata": {
    "collapsed": true
   },
   "outputs": [],
   "source": [
    "matchDetailsDF2 <- matchDetailsDF2 %>% drop_na()"
   ]
  },
  {
   "cell_type": "code",
   "execution_count": 1040,
   "metadata": {
    "collapsed": false
   },
   "outputs": [],
   "source": [
    "matchDetailsDF1 <- matchDetailsDF1 %>% rename(team_api_id=home_team_api_id,team_goal=home_team_goal)"
   ]
  },
  {
   "cell_type": "code",
   "execution_count": 1041,
   "metadata": {
    "collapsed": false
   },
   "outputs": [],
   "source": [
    "matchDetailsDF2 <- matchDetailsDF2 %>% rename(team_api_id=away_team_api_id,team_goal=away_team_goal)"
   ]
  },
  {
   "cell_type": "code",
   "execution_count": 1043,
   "metadata": {
    "collapsed": false
   },
   "outputs": [],
   "source": [
    "matchDetailsDF <- matchDetailsDF1 %>% rbind(matchDetailsDF2)"
   ]
  },
  {
   "cell_type": "code",
   "execution_count": 1044,
   "metadata": {
    "collapsed": false
   },
   "outputs": [],
   "source": [
    "matchDetailsDF <- matchDetailsDF %>% group_by(team_api_id) %>% summarise(No_of_scored_goals=sum(team_goal))"
   ]
  },
  {
   "cell_type": "code",
   "execution_count": 1048,
   "metadata": {
    "collapsed": false
   },
   "outputs": [],
   "source": [
    "matchDetailsDFtemp <- matchDetailsDFtemp %>% distinct(team_api_id)"
   ]
  },
  {
   "cell_type": "code",
   "execution_count": 1049,
   "metadata": {
    "collapsed": false
   },
   "outputs": [
    {
     "data": {
      "text/html": [
       "299"
      ],
      "text/latex": [
       "299"
      ],
      "text/markdown": [
       "299"
      ],
      "text/plain": [
       "[1] 299"
      ]
     },
     "metadata": {},
     "output_type": "display_data"
    }
   ],
   "source": [
    "nrow(matchDetailsDFtemp)"
   ]
  },
  {
   "cell_type": "code",
   "execution_count": 1056,
   "metadata": {
    "collapsed": false
   },
   "outputs": [],
   "source": [
    "teamAttrDF <- teamAttrDF %>% inner_join(matchDetailsDF,by='team_api_id')"
   ]
  },
  {
   "cell_type": "code",
   "execution_count": 1060,
   "metadata": {
    "collapsed": true
   },
   "outputs": [],
   "source": [
    "teamAttrDF1 <- teamAttrDF"
   ]
  },
  {
   "cell_type": "code",
   "execution_count": 1064,
   "metadata": {
    "collapsed": false
   },
   "outputs": [],
   "source": [
    "teamAttrDF1 <- teamAttrDF1 %>% distinct(team_api_id)"
   ]
  },
  {
   "cell_type": "code",
   "execution_count": 1085,
   "metadata": {
    "collapsed": false
   },
   "outputs": [
    {
     "data": {
      "text/html": [
       "288"
      ],
      "text/latex": [
       "288"
      ],
      "text/markdown": [
       "288"
      ],
      "text/plain": [
       "[1] 288"
      ]
     },
     "metadata": {},
     "output_type": "display_data"
    }
   ],
   "source": [
    "nrow(teamAttrDF)"
   ]
  },
  {
   "cell_type": "code",
   "execution_count": 1071,
   "metadata": {
    "collapsed": false
   },
   "outputs": [
    {
     "data": {
      "text/html": [
       "<table>\n",
       "<thead><tr><th scope=col>team_api_id</th><th scope=col>date</th><th scope=col>buildup_play</th><th scope=col>chance_creation</th><th scope=col>defense</th><th scope=col>team_long_name</th><th scope=col>No_of_scored_goals</th></tr></thead>\n",
       "<tbody>\n",
       "\t<tr><td> 9930               </td><td>2015-09-10 00:00:00 </td><td>142                 </td><td>181                 </td><td>145                 </td><td>FC Aarau            </td><td>153                 </td></tr>\n",
       "\t<tr><td> 8485               </td><td>2015-09-10 00:00:00 </td><td>176                 </td><td>186                 </td><td>157                 </td><td>Aberdeen            </td><td>365                 </td></tr>\n",
       "\t<tr><td> 8576               </td><td>2015-09-10 00:00:00 </td><td>168                 </td><td>138                 </td><td>138                 </td><td>AC Ajaccio          </td><td>116                 </td></tr>\n",
       "\t<tr><td> 8564               </td><td>2015-09-10 00:00:00 </td><td>170                 </td><td>171                 </td><td>164                 </td><td>Milan               </td><td>496                 </td></tr>\n",
       "\t<tr><td>10215               </td><td>2015-09-10 00:00:00 </td><td>150                 </td><td>166                 </td><td>138                 </td><td>Académica de Coimbra</td><td>240                 </td></tr>\n",
       "\t<tr><td>10217               </td><td>2015-09-10 00:00:00 </td><td>162                 </td><td>145                 </td><td>142                 </td><td>ADO Den Haag        </td><td>366                 </td></tr>\n",
       "</tbody>\n",
       "</table>\n"
      ],
      "text/latex": [
       "\\begin{tabular}{r|lllllll}\n",
       " team\\_api\\_id & date & buildup\\_play & chance\\_creation & defense & team\\_long\\_name & No\\_of\\_scored\\_goals\\\\\n",
       "\\hline\n",
       "\t  9930                & 2015-09-10 00:00:00  & 142                  & 181                  & 145                  & FC Aarau             & 153                 \\\\\n",
       "\t  8485                & 2015-09-10 00:00:00  & 176                  & 186                  & 157                  & Aberdeen             & 365                 \\\\\n",
       "\t  8576                & 2015-09-10 00:00:00  & 168                  & 138                  & 138                  & AC Ajaccio           & 116                 \\\\\n",
       "\t  8564                & 2015-09-10 00:00:00  & 170                  & 171                  & 164                  & Milan                & 496                 \\\\\n",
       "\t 10215                & 2015-09-10 00:00:00  & 150                  & 166                  & 138                  & Académica de Coimbra & 240                 \\\\\n",
       "\t 10217                & 2015-09-10 00:00:00  & 162                  & 145                  & 142                  & ADO Den Haag         & 366                 \\\\\n",
       "\\end{tabular}\n"
      ],
      "text/markdown": [
       "\n",
       "team_api_id | date | buildup_play | chance_creation | defense | team_long_name | No_of_scored_goals | \n",
       "|---|---|---|---|---|---|\n",
       "|  9930                | 2015-09-10 00:00:00  | 142                  | 181                  | 145                  | FC Aarau             | 153                  | \n",
       "|  8485                | 2015-09-10 00:00:00  | 176                  | 186                  | 157                  | Aberdeen             | 365                  | \n",
       "|  8576                | 2015-09-10 00:00:00  | 168                  | 138                  | 138                  | AC Ajaccio           | 116                  | \n",
       "|  8564                | 2015-09-10 00:00:00  | 170                  | 171                  | 164                  | Milan                | 496                  | \n",
       "| 10215                | 2015-09-10 00:00:00  | 150                  | 166                  | 138                  | Académica de Coimbra | 240                  | \n",
       "| 10217                | 2015-09-10 00:00:00  | 162                  | 145                  | 142                  | ADO Den Haag         | 366                  | \n",
       "\n",
       "\n"
      ],
      "text/plain": [
       "  team_api_id date                buildup_play chance_creation defense\n",
       "1  9930       2015-09-10 00:00:00 142          181             145    \n",
       "2  8485       2015-09-10 00:00:00 176          186             157    \n",
       "3  8576       2015-09-10 00:00:00 168          138             138    \n",
       "4  8564       2015-09-10 00:00:00 170          171             164    \n",
       "5 10215       2015-09-10 00:00:00 150          166             138    \n",
       "6 10217       2015-09-10 00:00:00 162          145             142    \n",
       "  team_long_name       No_of_scored_goals\n",
       "1 FC Aarau             153               \n",
       "2 Aberdeen             365               \n",
       "3 AC Ajaccio           116               \n",
       "4 Milan                496               \n",
       "5 Académica de Coimbra 240               \n",
       "6 ADO Den Haag         366               "
      ]
     },
     "metadata": {},
     "output_type": "display_data"
    }
   ],
   "source": [
    "head(teamAttrDF)"
   ]
  },
  {
   "cell_type": "code",
   "execution_count": 1092,
   "metadata": {
    "collapsed": false
   },
   "outputs": [],
   "source": [
    "teamDetailsFinal <- teamAttrDF[c(6, 3, 4, 5, 7)]"
   ]
  },
  {
   "cell_type": "code",
   "execution_count": 1093,
   "metadata": {
    "collapsed": false
   },
   "outputs": [
    {
     "data": {
      "text/html": [
       "288"
      ],
      "text/latex": [
       "288"
      ],
      "text/markdown": [
       "288"
      ],
      "text/plain": [
       "[1] 288"
      ]
     },
     "metadata": {},
     "output_type": "display_data"
    }
   ],
   "source": [
    "nrow(teamDetailsFinal)"
   ]
  },
  {
   "cell_type": "code",
   "execution_count": 1094,
   "metadata": {
    "collapsed": false
   },
   "outputs": [
    {
     "data": {
      "text/html": [
       "<table>\n",
       "<thead><tr><th scope=col>team_long_name</th><th scope=col>buildup_play</th><th scope=col>chance_creation</th><th scope=col>defense</th><th scope=col>No_of_scored_goals</th></tr></thead>\n",
       "<tbody>\n",
       "\t<tr><td>FC Aarau            </td><td>142                 </td><td>181                 </td><td>145                 </td><td>153                 </td></tr>\n",
       "\t<tr><td>Aberdeen            </td><td>176                 </td><td>186                 </td><td>157                 </td><td>365                 </td></tr>\n",
       "\t<tr><td>AC Ajaccio          </td><td>168                 </td><td>138                 </td><td>138                 </td><td>116                 </td></tr>\n",
       "\t<tr><td>Milan               </td><td>170                 </td><td>171                 </td><td>164                 </td><td>496                 </td></tr>\n",
       "\t<tr><td>Académica de Coimbra</td><td>150                 </td><td>166                 </td><td>138                 </td><td>240                 </td></tr>\n",
       "\t<tr><td>ADO Den Haag        </td><td>162                 </td><td>145                 </td><td>142                 </td><td>366                 </td></tr>\n",
       "</tbody>\n",
       "</table>\n"
      ],
      "text/latex": [
       "\\begin{tabular}{r|lllll}\n",
       " team\\_long\\_name & buildup\\_play & chance\\_creation & defense & No\\_of\\_scored\\_goals\\\\\n",
       "\\hline\n",
       "\t FC Aarau             & 142                  & 181                  & 145                  & 153                 \\\\\n",
       "\t Aberdeen             & 176                  & 186                  & 157                  & 365                 \\\\\n",
       "\t AC Ajaccio           & 168                  & 138                  & 138                  & 116                 \\\\\n",
       "\t Milan                & 170                  & 171                  & 164                  & 496                 \\\\\n",
       "\t Académica de Coimbra & 150                  & 166                  & 138                  & 240                 \\\\\n",
       "\t ADO Den Haag         & 162                  & 145                  & 142                  & 366                 \\\\\n",
       "\\end{tabular}\n"
      ],
      "text/markdown": [
       "\n",
       "team_long_name | buildup_play | chance_creation | defense | No_of_scored_goals | \n",
       "|---|---|---|---|---|---|\n",
       "| FC Aarau             | 142                  | 181                  | 145                  | 153                  | \n",
       "| Aberdeen             | 176                  | 186                  | 157                  | 365                  | \n",
       "| AC Ajaccio           | 168                  | 138                  | 138                  | 116                  | \n",
       "| Milan                | 170                  | 171                  | 164                  | 496                  | \n",
       "| Académica de Coimbra | 150                  | 166                  | 138                  | 240                  | \n",
       "| ADO Den Haag         | 162                  | 145                  | 142                  | 366                  | \n",
       "\n",
       "\n"
      ],
      "text/plain": [
       "  team_long_name       buildup_play chance_creation defense No_of_scored_goals\n",
       "1 FC Aarau             142          181             145     153               \n",
       "2 Aberdeen             176          186             157     365               \n",
       "3 AC Ajaccio           168          138             138     116               \n",
       "4 Milan                170          171             164     496               \n",
       "5 Académica de Coimbra 150          166             138     240               \n",
       "6 ADO Den Haag         162          145             142     366               "
      ]
     },
     "metadata": {},
     "output_type": "display_data"
    }
   ],
   "source": [
    "head(teamDetailsFinal)"
   ]
  },
  {
   "cell_type": "code",
   "execution_count": 979,
   "metadata": {
    "collapsed": false
   },
   "outputs": [
    {
     "data": {
      "text/html": [
       "<table>\n",
       "<thead><tr><th scope=col>player_name</th><th scope=col>overall_rating</th><th scope=col>gk_rating</th><th scope=col>No_of_Presences</th><th scope=col>No_of_leagues</th></tr></thead>\n",
       "<tbody>\n",
       "\t<tr><td>Patryk Rachwal,18</td><td>61               </td><td> 45              </td><td> 4               </td><td>1                </td></tr>\n",
       "\t<tr><td>Diego Mainz      </td><td>72               </td><td> 53              </td><td>79               </td><td>1                </td></tr>\n",
       "\t<tr><td>Jose Dorado      </td><td>74               </td><td> 64              </td><td>69               </td><td>1                </td></tr>\n",
       "\t<tr><td>Ignacio Gonzalez </td><td>69               </td><td> 60              </td><td>14               </td><td>2                </td></tr>\n",
       "\t<tr><td>Alberto Rey      </td><td>67               </td><td> 55              </td><td>40               </td><td>1                </td></tr>\n",
       "\t<tr><td>Javier Jimenez   </td><td>69               </td><td>340              </td><td> 1               </td><td>1                </td></tr>\n",
       "</tbody>\n",
       "</table>\n"
      ],
      "text/latex": [
       "\\begin{tabular}{r|lllll}\n",
       " player\\_name & overall\\_rating & gk\\_rating & No\\_of\\_Presences & No\\_of\\_leagues\\\\\n",
       "\\hline\n",
       "\t Patryk Rachwal,18 & 61                &  45               &  4                & 1                \\\\\n",
       "\t Diego Mainz       & 72                &  53               & 79                & 1                \\\\\n",
       "\t Jose Dorado       & 74                &  64               & 69                & 1                \\\\\n",
       "\t Ignacio Gonzalez  & 69                &  60               & 14                & 2                \\\\\n",
       "\t Alberto Rey       & 67                &  55               & 40                & 1                \\\\\n",
       "\t Javier Jimenez    & 69                & 340               &  1                & 1                \\\\\n",
       "\\end{tabular}\n"
      ],
      "text/markdown": [
       "\n",
       "player_name | overall_rating | gk_rating | No_of_Presences | No_of_leagues | \n",
       "|---|---|---|---|---|---|\n",
       "| Patryk Rachwal,18 | 61                |  45               |  4                | 1                 | \n",
       "| Diego Mainz       | 72                |  53               | 79                | 1                 | \n",
       "| Jose Dorado       | 74                |  64               | 69                | 1                 | \n",
       "| Ignacio Gonzalez  | 69                |  60               | 14                | 2                 | \n",
       "| Alberto Rey       | 67                |  55               | 40                | 1                 | \n",
       "| Javier Jimenez    | 69                | 340               |  1                | 1                 | \n",
       "\n",
       "\n"
      ],
      "text/plain": [
       "  player_name       overall_rating gk_rating No_of_Presences No_of_leagues\n",
       "1 Patryk Rachwal,18 61              45        4              1            \n",
       "2 Diego Mainz       72              53       79              1            \n",
       "3 Jose Dorado       74              64       69              1            \n",
       "4 Ignacio Gonzalez  69              60       14              2            \n",
       "5 Alberto Rey       67              55       40              1            \n",
       "6 Javier Jimenez    69             340        1              1            "
      ]
     },
     "metadata": {},
     "output_type": "display_data"
    }
   ],
   "source": [
    "head(playerDetails)"
   ]
  },
  {
   "cell_type": "code",
   "execution_count": 1008,
   "metadata": {
    "collapsed": true
   },
   "outputs": [],
   "source": [
    "write.csv(teamDetailsFinal, file = \"team.csv\",row.names=FALSE)"
   ]
  },
  {
   "cell_type": "code",
   "execution_count": 981,
   "metadata": {
    "collapsed": true
   },
   "outputs": [],
   "source": [
    "write.csv(playerDetails, file = \"player.csv\",row.names=FALSE)"
   ]
  },
  {
   "cell_type": "code",
   "execution_count": 982,
   "metadata": {
    "collapsed": true
   },
   "outputs": [],
   "source": [
    "teamDF <- read.csv(file=\"team.csv\", header=TRUE, sep=\",\")"
   ]
  },
  {
   "cell_type": "code",
   "execution_count": 983,
   "metadata": {
    "collapsed": true
   },
   "outputs": [],
   "source": [
    "playerDF <- read.csv(file=\"player.csv\", header=TRUE, sep=\",\")"
   ]
  },
  {
   "cell_type": "code",
   "execution_count": 985,
   "metadata": {
    "collapsed": false
   },
   "outputs": [
    {
     "data": {
      "text/html": [
       "<table>\n",
       "<thead><tr><th scope=col>player_name</th><th scope=col>overall_rating</th><th scope=col>gk_rating</th><th scope=col>No_of_Presences</th><th scope=col>No_of_leagues</th></tr></thead>\n",
       "<tbody>\n",
       "\t<tr><td>Patryk Rachwal,18</td><td>61               </td><td> 45              </td><td> 4               </td><td>1                </td></tr>\n",
       "\t<tr><td>Diego Mainz      </td><td>72               </td><td> 53              </td><td>79               </td><td>1                </td></tr>\n",
       "\t<tr><td>Jose Dorado      </td><td>74               </td><td> 64              </td><td>69               </td><td>1                </td></tr>\n",
       "\t<tr><td>Ignacio Gonzalez </td><td>69               </td><td> 60              </td><td>14               </td><td>2                </td></tr>\n",
       "\t<tr><td>Alberto Rey      </td><td>67               </td><td> 55              </td><td>40               </td><td>1                </td></tr>\n",
       "\t<tr><td>Javier Jimenez   </td><td>69               </td><td>340              </td><td> 1               </td><td>1                </td></tr>\n",
       "</tbody>\n",
       "</table>\n"
      ],
      "text/latex": [
       "\\begin{tabular}{r|lllll}\n",
       " player\\_name & overall\\_rating & gk\\_rating & No\\_of\\_Presences & No\\_of\\_leagues\\\\\n",
       "\\hline\n",
       "\t Patryk Rachwal,18 & 61                &  45               &  4                & 1                \\\\\n",
       "\t Diego Mainz       & 72                &  53               & 79                & 1                \\\\\n",
       "\t Jose Dorado       & 74                &  64               & 69                & 1                \\\\\n",
       "\t Ignacio Gonzalez  & 69                &  60               & 14                & 2                \\\\\n",
       "\t Alberto Rey       & 67                &  55               & 40                & 1                \\\\\n",
       "\t Javier Jimenez    & 69                & 340               &  1                & 1                \\\\\n",
       "\\end{tabular}\n"
      ],
      "text/markdown": [
       "\n",
       "player_name | overall_rating | gk_rating | No_of_Presences | No_of_leagues | \n",
       "|---|---|---|---|---|---|\n",
       "| Patryk Rachwal,18 | 61                |  45               |  4                | 1                 | \n",
       "| Diego Mainz       | 72                |  53               | 79                | 1                 | \n",
       "| Jose Dorado       | 74                |  64               | 69                | 1                 | \n",
       "| Ignacio Gonzalez  | 69                |  60               | 14                | 2                 | \n",
       "| Alberto Rey       | 67                |  55               | 40                | 1                 | \n",
       "| Javier Jimenez    | 69                | 340               |  1                | 1                 | \n",
       "\n",
       "\n"
      ],
      "text/plain": [
       "  player_name       overall_rating gk_rating No_of_Presences No_of_leagues\n",
       "1 Patryk Rachwal,18 61              45        4              1            \n",
       "2 Diego Mainz       72              53       79              1            \n",
       "3 Jose Dorado       74              64       69              1            \n",
       "4 Ignacio Gonzalez  69              60       14              2            \n",
       "5 Alberto Rey       67              55       40              1            \n",
       "6 Javier Jimenez    69             340        1              1            "
      ]
     },
     "metadata": {},
     "output_type": "display_data"
    }
   ],
   "source": [
    "head(playerDF)"
   ]
  },
  {
   "cell_type": "code",
   "execution_count": 986,
   "metadata": {
    "collapsed": false
   },
   "outputs": [
    {
     "data": {
      "text/html": [
       "<table>\n",
       "<thead><tr><th scope=col>team_long_name</th><th scope=col>buildup_play</th><th scope=col>chance_creation</th><th scope=col>defense</th><th scope=col>No_of_scored_goals</th></tr></thead>\n",
       "<tbody>\n",
       "\t<tr><td>FC Aarau            </td><td>142                 </td><td>181                 </td><td>145                 </td><td>153                 </td></tr>\n",
       "\t<tr><td>Aberdeen            </td><td>176                 </td><td>186                 </td><td>157                 </td><td>365                 </td></tr>\n",
       "\t<tr><td>AC Ajaccio          </td><td>168                 </td><td>138                 </td><td>138                 </td><td>116                 </td></tr>\n",
       "\t<tr><td>Milan               </td><td>170                 </td><td>171                 </td><td>164                 </td><td>496                 </td></tr>\n",
       "\t<tr><td>Académica de Coimbra</td><td>150                 </td><td>166                 </td><td>138                 </td><td>240                 </td></tr>\n",
       "\t<tr><td>ADO Den Haag        </td><td>162                 </td><td>145                 </td><td>142                 </td><td>366                 </td></tr>\n",
       "</tbody>\n",
       "</table>\n"
      ],
      "text/latex": [
       "\\begin{tabular}{r|lllll}\n",
       " team\\_long\\_name & buildup\\_play & chance\\_creation & defense & No\\_of\\_scored\\_goals\\\\\n",
       "\\hline\n",
       "\t FC Aarau             & 142                  & 181                  & 145                  & 153                 \\\\\n",
       "\t Aberdeen             & 176                  & 186                  & 157                  & 365                 \\\\\n",
       "\t AC Ajaccio           & 168                  & 138                  & 138                  & 116                 \\\\\n",
       "\t Milan                & 170                  & 171                  & 164                  & 496                 \\\\\n",
       "\t Académica de Coimbra & 150                  & 166                  & 138                  & 240                 \\\\\n",
       "\t ADO Den Haag         & 162                  & 145                  & 142                  & 366                 \\\\\n",
       "\\end{tabular}\n"
      ],
      "text/markdown": [
       "\n",
       "team_long_name | buildup_play | chance_creation | defense | No_of_scored_goals | \n",
       "|---|---|---|---|---|---|\n",
       "| FC Aarau             | 142                  | 181                  | 145                  | 153                  | \n",
       "| Aberdeen             | 176                  | 186                  | 157                  | 365                  | \n",
       "| AC Ajaccio           | 168                  | 138                  | 138                  | 116                  | \n",
       "| Milan                | 170                  | 171                  | 164                  | 496                  | \n",
       "| Académica de Coimbra | 150                  | 166                  | 138                  | 240                  | \n",
       "| ADO Den Haag         | 162                  | 145                  | 142                  | 366                  | \n",
       "\n",
       "\n"
      ],
      "text/plain": [
       "  team_long_name       buildup_play chance_creation defense No_of_scored_goals\n",
       "1 FC Aarau             142          181             145     153               \n",
       "2 Aberdeen             176          186             157     365               \n",
       "3 AC Ajaccio           168          138             138     116               \n",
       "4 Milan                170          171             164     496               \n",
       "5 Académica de Coimbra 150          166             138     240               \n",
       "6 ADO Den Haag         162          145             142     366               "
      ]
     },
     "metadata": {},
     "output_type": "display_data"
    }
   ],
   "source": [
    "head(teamDF)"
   ]
  },
  {
   "cell_type": "markdown",
   "metadata": {},
   "source": []
  },
  {
   "cell_type": "markdown",
   "metadata": {},
   "source": [
    "Which are the top 10 players by overall rating?"
   ]
  },
  {
   "cell_type": "code",
   "execution_count": 987,
   "metadata": {
    "collapsed": true
   },
   "outputs": [],
   "source": [
    "top10OR <- playerDF %>% arrange(desc(overall_rating)) %>% select(player_name) %>% slice(1:10)"
   ]
  },
  {
   "cell_type": "code",
   "execution_count": 988,
   "metadata": {
    "collapsed": false
   },
   "outputs": [
    {
     "data": {
      "text/html": [
       "<table>\n",
       "<thead><tr><th scope=col>player_name</th></tr></thead>\n",
       "<tbody>\n",
       "\t<tr><td>Lionel Messi      </td></tr>\n",
       "\t<tr><td>Cristiano Ronaldo </td></tr>\n",
       "\t<tr><td>Neymar            </td></tr>\n",
       "\t<tr><td>Manuel Neuer      </td></tr>\n",
       "\t<tr><td>Luis Suarez       </td></tr>\n",
       "\t<tr><td>Arjen Robben      </td></tr>\n",
       "\t<tr><td>Zlatan Ibrahimovic</td></tr>\n",
       "\t<tr><td>Andres Iniesta    </td></tr>\n",
       "\t<tr><td>Mesut Oezil       </td></tr>\n",
       "\t<tr><td>Sergio Aguero     </td></tr>\n",
       "</tbody>\n",
       "</table>\n"
      ],
      "text/latex": [
       "\\begin{tabular}{r|l}\n",
       " player\\_name\\\\\n",
       "\\hline\n",
       "\t Lionel Messi      \\\\\n",
       "\t Cristiano Ronaldo \\\\\n",
       "\t Neymar            \\\\\n",
       "\t Manuel Neuer      \\\\\n",
       "\t Luis Suarez       \\\\\n",
       "\t Arjen Robben      \\\\\n",
       "\t Zlatan Ibrahimovic\\\\\n",
       "\t Andres Iniesta    \\\\\n",
       "\t Mesut Oezil       \\\\\n",
       "\t Sergio Aguero     \\\\\n",
       "\\end{tabular}\n"
      ],
      "text/markdown": [
       "\n",
       "player_name | \n",
       "|---|---|---|---|---|---|---|---|---|---|\n",
       "| Lionel Messi       | \n",
       "| Cristiano Ronaldo  | \n",
       "| Neymar             | \n",
       "| Manuel Neuer       | \n",
       "| Luis Suarez        | \n",
       "| Arjen Robben       | \n",
       "| Zlatan Ibrahimovic | \n",
       "| Andres Iniesta     | \n",
       "| Mesut Oezil        | \n",
       "| Sergio Aguero      | \n",
       "\n",
       "\n"
      ],
      "text/plain": [
       "   player_name       \n",
       "1  Lionel Messi      \n",
       "2  Cristiano Ronaldo \n",
       "3  Neymar            \n",
       "4  Manuel Neuer      \n",
       "5  Luis Suarez       \n",
       "6  Arjen Robben      \n",
       "7  Zlatan Ibrahimovic\n",
       "8  Andres Iniesta    \n",
       "9  Mesut Oezil       \n",
       "10 Sergio Aguero     "
      ]
     },
     "metadata": {},
     "output_type": "display_data"
    }
   ],
   "source": [
    "top10OR"
   ]
  },
  {
   "cell_type": "code",
   "execution_count": null,
   "metadata": {
    "collapsed": true
   },
   "outputs": [],
   "source": []
  }
 ],
 "metadata": {
  "kernelspec": {
   "display_name": "R",
   "language": "R",
   "name": "ir"
  },
  "language_info": {
   "codemirror_mode": "r",
   "file_extension": ".r",
   "mimetype": "text/x-r-source",
   "name": "R",
   "pygments_lexer": "r",
   "version": "3.3.2"
  }
 },
 "nbformat": 4,
 "nbformat_minor": 2
}
