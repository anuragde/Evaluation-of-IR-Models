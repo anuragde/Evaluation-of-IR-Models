{
 "cells": [
  {
   "cell_type": "markdown",
   "metadata": {},
   "source": [
    "# Implementation of Hierarchical Agglomerative clustering with Single Link (Min)"
   ]
  },
  {
   "cell_type": "code",
   "execution_count": 72,
   "metadata": {},
   "outputs": [],
   "source": [
    "import numpy as np\n",
    "import pandas as pd\n",
    "dataSetOne = np.loadtxt(\"cho.txt\")\n",
    "dataSetTwo = np.loadtxt(\"iyer.txt\")\n",
    "dataSetDemo = np.loadtxt(\"new_dataset_2.txt\")\n",
    "dataSet = dataSetDemo\n",
    "numOfClusters = 3"
   ]
  },
  {
   "cell_type": "markdown",
   "metadata": {},
   "source": [
    "## Creating clusters for each data point"
   ]
  },
  {
   "cell_type": "code",
   "execution_count": 73,
   "metadata": {},
   "outputs": [],
   "source": [
    "clustersDF = pd.DataFrame(dataSet)"
   ]
  },
  {
   "cell_type": "code",
   "execution_count": 74,
   "metadata": {},
   "outputs": [
    {
     "data": {
      "text/html": [
       "<div>\n",
       "<table border=\"1\" class=\"dataframe\">\n",
       "  <thead>\n",
       "    <tr style=\"text-align: right;\">\n",
       "      <th></th>\n",
       "      <th>0</th>\n",
       "      <th>1</th>\n",
       "      <th>2</th>\n",
       "      <th>3</th>\n",
       "      <th>4</th>\n",
       "      <th>5</th>\n",
       "      <th>6</th>\n",
       "    </tr>\n",
       "  </thead>\n",
       "  <tbody>\n",
       "    <tr>\n",
       "      <th>0</th>\n",
       "      <td>1.0</td>\n",
       "      <td>1.0</td>\n",
       "      <td>0.88845</td>\n",
       "      <td>0.96682</td>\n",
       "      <td>0.93679</td>\n",
       "      <td>0.81723</td>\n",
       "      <td>0.88242</td>\n",
       "    </tr>\n",
       "  </tbody>\n",
       "</table>\n",
       "</div>"
      ],
      "text/plain": [
       "     0    1        2        3        4        5        6\n",
       "0  1.0  1.0  0.88845  0.96682  0.93679  0.81723  0.88242"
      ]
     },
     "execution_count": 74,
     "metadata": {},
     "output_type": "execute_result"
    }
   ],
   "source": [
    "clustersDF.loc[[0]]"
   ]
  },
  {
   "cell_type": "markdown",
   "metadata": {},
   "source": [
    "## Calculating inter-cluster distance"
   ]
  },
  {
   "cell_type": "code",
   "execution_count": 75,
   "metadata": {},
   "outputs": [
    {
     "data": {
      "text/html": [
       "<div>\n",
       "<table border=\"1\" class=\"dataframe\">\n",
       "  <thead>\n",
       "    <tr style=\"text-align: right;\">\n",
       "      <th></th>\n",
       "      <th>0</th>\n",
       "      <th>1</th>\n",
       "      <th>2</th>\n",
       "      <th>3</th>\n",
       "      <th>4</th>\n",
       "      <th>5</th>\n",
       "      <th>6</th>\n",
       "    </tr>\n",
       "  </thead>\n",
       "  <tbody>\n",
       "    <tr>\n",
       "      <th>0</th>\n",
       "      <td>1.0</td>\n",
       "      <td>1.0</td>\n",
       "      <td>0.88845</td>\n",
       "      <td>0.96682</td>\n",
       "      <td>0.93679</td>\n",
       "      <td>0.81723</td>\n",
       "      <td>0.88242</td>\n",
       "    </tr>\n",
       "    <tr>\n",
       "      <th>1</th>\n",
       "      <td>2.0</td>\n",
       "      <td>1.0</td>\n",
       "      <td>0.86257</td>\n",
       "      <td>0.85462</td>\n",
       "      <td>0.86419</td>\n",
       "      <td>0.84451</td>\n",
       "      <td>0.86159</td>\n",
       "    </tr>\n",
       "    <tr>\n",
       "      <th>2</th>\n",
       "      <td>3.0</td>\n",
       "      <td>1.0</td>\n",
       "      <td>0.94020</td>\n",
       "      <td>0.91072</td>\n",
       "      <td>0.93074</td>\n",
       "      <td>0.93317</td>\n",
       "      <td>0.94034</td>\n",
       "    </tr>\n",
       "  </tbody>\n",
       "</table>\n",
       "</div>"
      ],
      "text/plain": [
       "     0    1        2        3        4        5        6\n",
       "0  1.0  1.0  0.88845  0.96682  0.93679  0.81723  0.88242\n",
       "1  2.0  1.0  0.86257  0.85462  0.86419  0.84451  0.86159\n",
       "2  3.0  1.0  0.94020  0.91072  0.93074  0.93317  0.94034"
      ]
     },
     "execution_count": 75,
     "metadata": {},
     "output_type": "execute_result"
    }
   ],
   "source": [
    "clustersDF.head(n=3)"
   ]
  },
  {
   "cell_type": "code",
   "execution_count": 76,
   "metadata": {
    "collapsed": true
   },
   "outputs": [],
   "source": [
    "from scipy.spatial.distance import cdist"
   ]
  },
  {
   "cell_type": "code",
   "execution_count": 77,
   "metadata": {},
   "outputs": [],
   "source": [
    "def calcDistanceMatrix(clustersDF):\n",
    "    clustersDF_dist = clustersDF.loc[:,2:]\n",
    "    distanceDF = pd.DataFrame(cdist(clustersDF_dist,clustersDF_dist))\n",
    "    return distanceDF"
   ]
  },
  {
   "cell_type": "code",
   "execution_count": 78,
   "metadata": {},
   "outputs": [],
   "source": [
    "distanceDF = calcDistanceMatrix(clustersDF)"
   ]
  },
  {
   "cell_type": "code",
   "execution_count": 79,
   "metadata": {},
   "outputs": [
    {
     "data": {
      "text/html": [
       "<div>\n",
       "<table border=\"1\" class=\"dataframe\">\n",
       "  <thead>\n",
       "    <tr style=\"text-align: right;\">\n",
       "      <th></th>\n",
       "      <th>0</th>\n",
       "      <th>1</th>\n",
       "      <th>2</th>\n",
       "      <th>3</th>\n",
       "      <th>4</th>\n",
       "      <th>5</th>\n",
       "    </tr>\n",
       "  </thead>\n",
       "  <tbody>\n",
       "    <tr>\n",
       "      <th>0</th>\n",
       "      <td>0.000000</td>\n",
       "      <td>0.140383</td>\n",
       "      <td>0.150528</td>\n",
       "      <td>3.524640</td>\n",
       "      <td>4.466245</td>\n",
       "      <td>4.108125</td>\n",
       "    </tr>\n",
       "    <tr>\n",
       "      <th>1</th>\n",
       "      <td>0.140383</td>\n",
       "      <td>0.000000</td>\n",
       "      <td>0.166327</td>\n",
       "      <td>3.416260</td>\n",
       "      <td>4.380267</td>\n",
       "      <td>4.019449</td>\n",
       "    </tr>\n",
       "    <tr>\n",
       "      <th>2</th>\n",
       "      <td>0.150528</td>\n",
       "      <td>0.166327</td>\n",
       "      <td>0.000000</td>\n",
       "      <td>3.574950</td>\n",
       "      <td>4.545961</td>\n",
       "      <td>4.184764</td>\n",
       "    </tr>\n",
       "    <tr>\n",
       "      <th>3</th>\n",
       "      <td>3.524640</td>\n",
       "      <td>3.416260</td>\n",
       "      <td>3.574950</td>\n",
       "      <td>0.000000</td>\n",
       "      <td>1.291226</td>\n",
       "      <td>0.951264</td>\n",
       "    </tr>\n",
       "    <tr>\n",
       "      <th>4</th>\n",
       "      <td>4.466245</td>\n",
       "      <td>4.380267</td>\n",
       "      <td>4.545961</td>\n",
       "      <td>1.291226</td>\n",
       "      <td>0.000000</td>\n",
       "      <td>0.374269</td>\n",
       "    </tr>\n",
       "  </tbody>\n",
       "</table>\n",
       "</div>"
      ],
      "text/plain": [
       "          0         1         2         3         4         5\n",
       "0  0.000000  0.140383  0.150528  3.524640  4.466245  4.108125\n",
       "1  0.140383  0.000000  0.166327  3.416260  4.380267  4.019449\n",
       "2  0.150528  0.166327  0.000000  3.574950  4.545961  4.184764\n",
       "3  3.524640  3.416260  3.574950  0.000000  1.291226  0.951264\n",
       "4  4.466245  4.380267  4.545961  1.291226  0.000000  0.374269"
      ]
     },
     "execution_count": 79,
     "metadata": {},
     "output_type": "execute_result"
    }
   ],
   "source": [
    "distanceDF.head(n=5)"
   ]
  },
  {
   "cell_type": "code",
   "execution_count": 80,
   "metadata": {},
   "outputs": [
    {
     "data": {
      "text/plain": [
       "(6, 6)"
      ]
     },
     "execution_count": 80,
     "metadata": {},
     "output_type": "execute_result"
    }
   ],
   "source": [
    "distanceDF.shape"
   ]
  },
  {
   "cell_type": "markdown",
   "metadata": {},
   "source": [
    "## Find closest clusters to merge"
   ]
  },
  {
   "cell_type": "markdown",
   "metadata": {},
   "source": [
    "In other words,to determine the minimum value of the data matrix."
   ]
  },
  {
   "cell_type": "code",
   "execution_count": 81,
   "metadata": {
    "collapsed": true
   },
   "outputs": [],
   "source": [
    "def closest_cluster():\n",
    "    \n",
    "    global distanceDF\n",
    "    row=0\n",
    "    col=0\n",
    "    minval=float('inf')\n",
    "    for i in distanceDF:\n",
    "        if(distanceDF[i].min() <=minval):\n",
    "            minval=distanceDF[i].min()\n",
    "            col=i\n",
    "            row=distanceDF[i].idxmin()\n",
    "            returnval=(row,col)\n",
    "    return returnval"
   ]
  },
  {
   "cell_type": "code",
   "execution_count": null,
   "metadata": {},
   "outputs": [],
   "source": []
  },
  {
   "cell_type": "markdown",
   "metadata": {},
   "source": [
    "## Update distance matrix"
   ]
  },
  {
   "cell_type": "code",
   "execution_count": 82,
   "metadata": {},
   "outputs": [],
   "source": [
    "def updateDistanceMatrix(clustersToMerge):\n",
    "    \n",
    "    global distanceDF\n",
    "    point1=clustersToMerge[0]\n",
    "    point2=clustersToMerge[1]\n",
    "    minval=distanceDF.loc[:, [point1,point2]].min(axis=1)\n",
    "    print(\"minval \",)\n",
    "    print(minval)\n",
    "    print(point1,point2)\n",
    "    distanceDF[point1] = minval\n",
    "    distanceDF.loc[point1] = minval.T\n",
    "    #print(\"distanceDF updated min before dropping \",)\n",
    "    #print(distanceDF)\n",
    "    distanceDF = distanceDF.drop(clustersToMerge[1])\n",
    "    distanceDF = distanceDF.drop(clustersToMerge[1],1)    \n",
    "    return distanceDF"
   ]
  },
  {
   "cell_type": "markdown",
   "metadata": {},
   "source": [
    "## Final Algorithm"
   ]
  },
  {
   "cell_type": "markdown",
   "metadata": {},
   "source": [
    "Compute the distance matrix"
   ]
  },
  {
   "cell_type": "code",
   "execution_count": 83,
   "metadata": {
    "scrolled": true
   },
   "outputs": [
    {
     "name": "stdout",
     "output_type": "stream",
     "text": [
      "minval \n",
      "0    0.140383\n",
      "1    0.140383\n",
      "2    0.150528\n",
      "3    3.416260\n",
      "4    4.380267\n",
      "5    4.019449\n",
      "dtype: float64\n",
      "0 1\n",
      "minval \n",
      "0    0.150528\n",
      "2    0.150528\n",
      "3    3.416260\n",
      "4    4.380267\n",
      "5    4.019449\n",
      "dtype: float64\n",
      "0 2\n",
      "minval \n",
      "0    4.019449\n",
      "3    0.951264\n",
      "4    0.374269\n",
      "5    0.374269\n",
      "dtype: float64\n",
      "4 5\n",
      "minval \n",
      "0    3.416260\n",
      "3    0.951264\n",
      "4    0.951264\n",
      "dtype: float64\n",
      "3 4\n"
     ]
    }
   ],
   "source": [
    "while True:\n",
    "    for i in distanceDF:\n",
    "        distanceDF[i][i]=float('inf') \n",
    "    #print(\"distanceDF before finding closest\",)\n",
    "    #print(distanceDF)\n",
    "    clustersToMerge = closest_cluster()\n",
    "    #print(\"clustersToMerge \",clustersToMerge)\n",
    "    distanceDF=updateDistanceMatrix(clustersToMerge)\n",
    "    #print(\"Updated distanceDF \")\n",
    "    #print(distanceDF)\n",
    "    if len(distanceDF)+1==numOfClusters:\n",
    "        break"
   ]
  },
  {
   "cell_type": "code",
   "execution_count": 85,
   "metadata": {
    "collapsed": true
   },
   "outputs": [],
   "source": [
    "dm = pd.DataFrame(distanceDF)"
   ]
  },
  {
   "cell_type": "code",
   "execution_count": 88,
   "metadata": {},
   "outputs": [
    {
     "data": {
      "text/plain": [
       "(2, 2)"
      ]
     },
     "execution_count": 88,
     "metadata": {},
     "output_type": "execute_result"
    }
   ],
   "source": [
    "dm.shape"
   ]
  },
  {
   "cell_type": "code",
   "execution_count": 1,
   "metadata": {},
   "outputs": [
    {
     "ename": "NameError",
     "evalue": "name 'dm' is not defined",
     "output_type": "error",
     "traceback": [
      "\u001b[0;31m---------------------------------------------------------------------------\u001b[0m",
      "\u001b[0;31mNameError\u001b[0m                                 Traceback (most recent call last)",
      "\u001b[0;32m<ipython-input-1-9b0a8d1ea3f1>\u001b[0m in \u001b[0;36m<module>\u001b[0;34m()\u001b[0m\n\u001b[1;32m      1\u001b[0m \u001b[0;31m#carr = np.zeros((dm.shape[0],dm.shape[0]),dtype=\"int32\")\u001b[0m\u001b[0;34m\u001b[0m\u001b[0;34m\u001b[0m\u001b[0m\n\u001b[0;32m----> 2\u001b[0;31m \u001b[0;32mfor\u001b[0m \u001b[0mi\u001b[0m \u001b[0;32min\u001b[0m \u001b[0mrange\u001b[0m\u001b[0;34m(\u001b[0m\u001b[0;36m0\u001b[0m\u001b[0;34m,\u001b[0m\u001b[0mlen\u001b[0m\u001b[0;34m(\u001b[0m\u001b[0mdm\u001b[0m\u001b[0;34m)\u001b[0m\u001b[0;34m)\u001b[0m\u001b[0;34m:\u001b[0m\u001b[0;34m\u001b[0m\u001b[0m\n\u001b[0m\u001b[1;32m      3\u001b[0m     \u001b[0;32mfor\u001b[0m \u001b[0mj\u001b[0m \u001b[0;32min\u001b[0m \u001b[0mrange\u001b[0m\u001b[0;34m(\u001b[0m\u001b[0;36m0\u001b[0m\u001b[0;34m,\u001b[0m\u001b[0mlen\u001b[0m\u001b[0;34m(\u001b[0m\u001b[0mdm\u001b[0m\u001b[0;34m)\u001b[0m\u001b[0;34m)\u001b[0m\u001b[0;34m:\u001b[0m\u001b[0;34m\u001b[0m\u001b[0m\n\u001b[1;32m      4\u001b[0m         \u001b[0;32mif\u001b[0m \u001b[0mdm\u001b[0m\u001b[0;34m[\u001b[0m\u001b[0mi\u001b[0m\u001b[0;34m]\u001b[0m \u001b[0;34m==\u001b[0m \u001b[0mdm\u001b[0m\u001b[0;34m[\u001b[0m\u001b[0mj\u001b[0m\u001b[0;34m]\u001b[0m\u001b[0;34m:\u001b[0m\u001b[0;34m\u001b[0m\u001b[0m\n\u001b[1;32m      5\u001b[0m             \u001b[0mcarr\u001b[0m\u001b[0;34m[\u001b[0m\u001b[0mi\u001b[0m\u001b[0;34m,\u001b[0m\u001b[0mj\u001b[0m\u001b[0;34m]\u001b[0m \u001b[0;34m=\u001b[0m \u001b[0;36m1\u001b[0m\u001b[0;34m\u001b[0m\u001b[0m\n",
      "\u001b[0;31mNameError\u001b[0m: name 'dm' is not defined"
     ]
    }
   ],
   "source": [
    "carr = np.zeros((dm.shape[0],dm.shape[0]),dtype=\"int32\")\n",
    "for i in range(0,len(dm)):\n",
    "    for j in range(0,len(dm)):\n",
    "        if dm[i] == dm[j]:\n",
    "            carr[i,j] = 1\n",
    "        else:\n",
    "            carr[i,j] = 0\n",
    "\n",
    "garr = np.zeros((y.shape[0],y.shape[0]),dtype=\"int32\")\n",
    "for i in range(0,len(y)):\n",
    "    for j in range(0,len(y)):\n",
    "        if y[i] == y[j]:\n",
    "            garr[i,j] = 1\n",
    "        else:\n",
    "            garr[i,j] = 0\n",
    "garr\n",
    "\n",
    "m11 = 0\n",
    "m01 = 0\n",
    "m10 = 0\n",
    "for i in range(0, len(garr)):\n",
    "    for j in range(0, len(garr)):\n",
    "        if garr[i,j] == 1 and carr[i,j] == 1:\n",
    "            m11 += 1\n",
    "        elif garr[i,j] == 0 and carr[i,j] == 1:\n",
    "            m01 += 1\n",
    "        elif garr[i,j] == 1 and carr[i,j] == 0:\n",
    "            m10 += 1\n",
    "jcq = m11 / (m11 + m01 + m10)\n",
    "print(jcq)"
   ]
  },
  {
   "cell_type": "code",
   "execution_count": null,
   "metadata": {
    "collapsed": true
   },
   "outputs": [],
   "source": []
  },
  {
   "cell_type": "code",
   "execution_count": null,
   "metadata": {
    "collapsed": true
   },
   "outputs": [],
   "source": []
  },
  {
   "cell_type": "code",
   "execution_count": null,
   "metadata": {
    "collapsed": true
   },
   "outputs": [],
   "source": []
  }
 ],
 "metadata": {
  "kernelspec": {
   "display_name": "Python 3",
   "language": "python",
   "name": "python3"
  },
  "language_info": {
   "codemirror_mode": {
    "name": "ipython",
    "version": 3
   },
   "file_extension": ".py",
   "mimetype": "text/x-python",
   "name": "python",
   "nbconvert_exporter": "python",
   "pygments_lexer": "ipython3",
   "version": "3.6.3"
  }
 },
 "nbformat": 4,
 "nbformat_minor": 2
}
