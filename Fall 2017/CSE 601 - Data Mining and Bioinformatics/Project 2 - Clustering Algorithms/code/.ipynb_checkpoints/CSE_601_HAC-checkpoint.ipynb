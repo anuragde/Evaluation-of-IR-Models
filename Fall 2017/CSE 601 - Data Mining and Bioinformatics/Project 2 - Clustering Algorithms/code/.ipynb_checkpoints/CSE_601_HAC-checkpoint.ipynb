{
 "cells": [
  {
   "cell_type": "markdown",
   "metadata": {},
   "source": [
    "# Implementation of Hierarchical Agglomerative clustering with Single Link (Min)"
   ]
  },
  {
   "cell_type": "markdown",
   "metadata": {},
   "source": [
    "Reference: https://datasciencelab.wordpress.com/2013/12/12/clustering-with-k-means-in-python/"
   ]
  },
  {
   "cell_type": "code",
   "execution_count": 12,
   "metadata": {},
   "outputs": [
    {
     "ename": "FileNotFoundError",
     "evalue": "[Errno 2] No such file or directory: 'cho.txt'",
     "output_type": "error",
     "traceback": [
      "\u001b[1;31m---------------------------------------------------------------------------\u001b[0m",
      "\u001b[1;31mFileNotFoundError\u001b[0m                         Traceback (most recent call last)",
      "\u001b[1;32m<ipython-input-12-6a7aeef94e1c>\u001b[0m in \u001b[0;36m<module>\u001b[1;34m()\u001b[0m\n\u001b[0;32m      1\u001b[0m \u001b[1;32mimport\u001b[0m \u001b[0mnumpy\u001b[0m \u001b[1;32mas\u001b[0m \u001b[0mnp\u001b[0m\u001b[1;33m\u001b[0m\u001b[0m\n\u001b[0;32m      2\u001b[0m \u001b[1;32mimport\u001b[0m \u001b[0mpandas\u001b[0m \u001b[1;32mas\u001b[0m \u001b[0mpd\u001b[0m\u001b[1;33m\u001b[0m\u001b[0m\n\u001b[1;32m----> 3\u001b[1;33m \u001b[0mdataSetOne\u001b[0m \u001b[1;33m=\u001b[0m \u001b[0mnp\u001b[0m\u001b[1;33m.\u001b[0m\u001b[0mloadtxt\u001b[0m\u001b[1;33m(\u001b[0m\u001b[1;34m\"cho.txt\"\u001b[0m\u001b[1;33m)\u001b[0m\u001b[1;33m\u001b[0m\u001b[0m\n\u001b[0m\u001b[0;32m      4\u001b[0m \u001b[0mdataSetTwo\u001b[0m \u001b[1;33m=\u001b[0m \u001b[0mnp\u001b[0m\u001b[1;33m.\u001b[0m\u001b[0mloadtxt\u001b[0m\u001b[1;33m(\u001b[0m\u001b[1;34m\"iyer.txt\"\u001b[0m\u001b[1;33m)\u001b[0m\u001b[1;33m\u001b[0m\u001b[0m\n\u001b[0;32m      5\u001b[0m \u001b[0mdataSetDemo\u001b[0m \u001b[1;33m=\u001b[0m \u001b[0mnp\u001b[0m\u001b[1;33m.\u001b[0m\u001b[0mloadtxt\u001b[0m\u001b[1;33m(\u001b[0m\u001b[1;34m\"new_dataset_2.txt\"\u001b[0m\u001b[1;33m)\u001b[0m\u001b[1;33m\u001b[0m\u001b[0m\n",
      "\u001b[1;32m~\\Anaconda3\\lib\\site-packages\\numpy\\lib\\npyio.py\u001b[0m in \u001b[0;36mloadtxt\u001b[1;34m(fname, dtype, comments, delimiter, converters, skiprows, usecols, unpack, ndmin)\u001b[0m\n\u001b[0;32m    896\u001b[0m                 \u001b[0mfh\u001b[0m \u001b[1;33m=\u001b[0m \u001b[0miter\u001b[0m\u001b[1;33m(\u001b[0m\u001b[0mopen\u001b[0m\u001b[1;33m(\u001b[0m\u001b[0mfname\u001b[0m\u001b[1;33m,\u001b[0m \u001b[1;34m'U'\u001b[0m\u001b[1;33m)\u001b[0m\u001b[1;33m)\u001b[0m\u001b[1;33m\u001b[0m\u001b[0m\n\u001b[0;32m    897\u001b[0m             \u001b[1;32melse\u001b[0m\u001b[1;33m:\u001b[0m\u001b[1;33m\u001b[0m\u001b[0m\n\u001b[1;32m--> 898\u001b[1;33m                 \u001b[0mfh\u001b[0m \u001b[1;33m=\u001b[0m \u001b[0miter\u001b[0m\u001b[1;33m(\u001b[0m\u001b[0mopen\u001b[0m\u001b[1;33m(\u001b[0m\u001b[0mfname\u001b[0m\u001b[1;33m)\u001b[0m\u001b[1;33m)\u001b[0m\u001b[1;33m\u001b[0m\u001b[0m\n\u001b[0m\u001b[0;32m    899\u001b[0m         \u001b[1;32melse\u001b[0m\u001b[1;33m:\u001b[0m\u001b[1;33m\u001b[0m\u001b[0m\n\u001b[0;32m    900\u001b[0m             \u001b[0mfh\u001b[0m \u001b[1;33m=\u001b[0m \u001b[0miter\u001b[0m\u001b[1;33m(\u001b[0m\u001b[0mfname\u001b[0m\u001b[1;33m)\u001b[0m\u001b[1;33m\u001b[0m\u001b[0m\n",
      "\u001b[1;31mFileNotFoundError\u001b[0m: [Errno 2] No such file or directory: 'cho.txt'"
     ]
    }
   ],
   "source": [
    "import numpy as np\n",
    "import pandas as pd\n",
    "dataSetOne = np.loadtxt(\"cho.txt\")\n",
    "dataSetTwo = np.loadtxt(\"iyer.txt\")\n",
    "dataSetDemo = np.loadtxt(\"new_dataset_2.txt\")\n",
    "dataSet = dataSetOne\n",
    "numOfClusters = 3"
   ]
  },
  {
   "cell_type": "markdown",
   "metadata": {},
   "source": [
    "## Creating clusters for each data point"
   ]
  },
  {
   "cell_type": "code",
   "execution_count": null,
   "metadata": {},
   "outputs": [],
   "source": [
    "clustersDF = pd.DataFrame(dataSet)"
   ]
  },
  {
   "cell_type": "code",
   "execution_count": null,
   "metadata": {},
   "outputs": [],
   "source": [
    "clustersDF.loc[[0]]"
   ]
  },
  {
   "cell_type": "markdown",
   "metadata": {},
   "source": [
    "## Calculating inter-cluster distance"
   ]
  },
  {
   "cell_type": "code",
   "execution_count": null,
   "metadata": {},
   "outputs": [],
   "source": [
    "clustersDF.head(n=3)"
   ]
  },
  {
   "cell_type": "code",
   "execution_count": null,
   "metadata": {
    "collapsed": true
   },
   "outputs": [],
   "source": [
    "from scipy.spatial.distance import cdist"
   ]
  },
  {
   "cell_type": "code",
   "execution_count": null,
   "metadata": {},
   "outputs": [],
   "source": [
    "def calcDistanceMatrix(clustersDF):\n",
    "    clustersDF_dist = clustersDF.loc[:,2:]\n",
    "    distanceDF = pd.DataFrame(cdist(clustersDF_dist,clustersDF_dist))\n",
    "    return distanceDF"
   ]
  },
  {
   "cell_type": "code",
   "execution_count": null,
   "metadata": {},
   "outputs": [],
   "source": [
    "distanceDF = calcDistanceMatrix(clustersDF)"
   ]
  },
  {
   "cell_type": "code",
   "execution_count": null,
   "metadata": {},
   "outputs": [],
   "source": [
    "distanceDF.head(n=5)"
   ]
  },
  {
   "cell_type": "code",
   "execution_count": null,
   "metadata": {},
   "outputs": [],
   "source": [
    "distanceDF.shape"
   ]
  },
  {
   "cell_type": "markdown",
   "metadata": {},
   "source": [
    "## Find closest clusters to merge"
   ]
  },
  {
   "cell_type": "markdown",
   "metadata": {},
   "source": [
    "In other words,to determine the minimum value of the data matrix."
   ]
  },
  {
   "cell_type": "code",
   "execution_count": null,
   "metadata": {
    "collapsed": true
   },
   "outputs": [],
   "source": [
    "def closest_cluster():\n",
    "    \n",
    "    global distanceDF\n",
    "    row=0\n",
    "    col=0\n",
    "    minval=float('inf')\n",
    "    for i in distanceDF:\n",
    "        if(distanceDF[i].min() <=minval):\n",
    "            minval=distanceDF[i].min()\n",
    "            col=i\n",
    "            row=distanceDF[i].idxmin()\n",
    "            returnval=(row,col)\n",
    "    return returnval"
   ]
  },
  {
   "cell_type": "code",
   "execution_count": null,
   "metadata": {},
   "outputs": [],
   "source": []
  },
  {
   "cell_type": "markdown",
   "metadata": {},
   "source": [
    "## Update distance matrix"
   ]
  },
  {
   "cell_type": "code",
   "execution_count": null,
   "metadata": {},
   "outputs": [],
   "source": [
    "def updateDistanceMatrix(clustersToMerge):\n",
    "    \n",
    "    global distanceDF\n",
    "    point1=clustersToMerge[0]\n",
    "    point2=clustersToMerge[1]\n",
    "    minval=distanceDF.loc[:, [point1,point2]].min(axis=1)\n",
    "    print(\"minval \",)\n",
    "    print(minval)\n",
    "    print(point1,point2)\n",
    "    distanceDF[point1] = minval\n",
    "    distanceDF.loc[point1] = minval.T\n",
    "    #print(\"distanceDF updated min before dropping \",)\n",
    "    #print(distanceDF)\n",
    "    distanceDF = distanceDF.drop(clustersToMerge[1])\n",
    "    distanceDF = distanceDF.drop(clustersToMerge[1],1)    \n",
    "    return distanceDF"
   ]
  },
  {
   "cell_type": "markdown",
   "metadata": {},
   "source": [
    "## Final Algorithm"
   ]
  },
  {
   "cell_type": "markdown",
   "metadata": {},
   "source": [
    "Compute the distance matrix"
   ]
  },
  {
   "cell_type": "code",
   "execution_count": null,
   "metadata": {
    "scrolled": true
   },
   "outputs": [],
   "source": [
    "while True:\n",
    "    for i in distanceDF:\n",
    "        distanceDF[i][i]=float('inf') \n",
    "    #print(\"distanceDF before finding closest\",)\n",
    "    #print(distanceDF)\n",
    "    clustersToMerge = closest_cluster()\n",
    "    #print(\"clustersToMerge \",clustersToMerge)\n",
    "    distanceDF=updateDistanceMatrix(clustersToMerge)\n",
    "    #print(\"Updated distanceDF \")\n",
    "    #print(distanceDF)\n",
    "    if len(distanceDF)+1==numOfClusters:\n",
    "        break"
   ]
  },
  {
   "cell_type": "code",
   "execution_count": null,
   "metadata": {},
   "outputs": [],
   "source": [
    "dm = pd.DataFrame(distanceDF)"
   ]
  },
  {
   "cell_type": "code",
   "execution_count": null,
   "metadata": {},
   "outputs": [],
   "source": [
    "dm.shape"
   ]
  },
  {
   "cell_type": "code",
   "execution_count": null,
   "metadata": {},
   "outputs": [],
   "source": [
    "carr = np.zeros((dm.shape[0],dm.shape[0]),dtype=\"int32\")\n",
    "for i in range(0,len(dm)):\n",
    "    for j in range(0,len(dm)):\n",
    "        if dm[i] == dm[j]:\n",
    "            carr[i,j] = 1\n",
    "        else:\n",
    "            carr[i,j] = 0\n",
    "\n",
    "garr = np.zeros((y.shape[0],y.shape[0]),dtype=\"int32\")\n",
    "for i in range(0,len(y)):\n",
    "    for j in range(0,len(y)):\n",
    "        if y[i] == y[j]:\n",
    "            garr[i,j] = 1\n",
    "        else:\n",
    "            garr[i,j] = 0\n",
    "\n",
    "m11 = 0\n",
    "m01 = 0\n",
    "m10 = 0\n",
    "for i in range(0, len(garr)):\n",
    "    for j in range(0, len(garr)):\n",
    "        if garr[i,j] == 1 & carr[i,j] == 1:\n",
    "            m11 += 1\n",
    "        elif garr[i,j] == 0 & carr[i,j] == 1:\n",
    "            m01 += 1\n",
    "        elif garr[i,j] == 1 & carr[i,j] == 0:\n",
    "            m10 += 1\n",
    "jcq = m11 / (m11 + m01 + m10)\n",
    "print(jcq)"
   ]
  },
  {
   "cell_type": "code",
   "execution_count": null,
   "metadata": {
    "collapsed": true
   },
   "outputs": [],
   "source": []
  },
  {
   "cell_type": "code",
   "execution_count": null,
   "metadata": {
    "collapsed": true
   },
   "outputs": [],
   "source": []
  },
  {
   "cell_type": "code",
   "execution_count": null,
   "metadata": {
    "collapsed": true
   },
   "outputs": [],
   "source": []
  }
 ],
 "metadata": {
  "kernelspec": {
   "display_name": "Python 3",
   "language": "python",
   "name": "python3"
  },
  "language_info": {
   "codemirror_mode": {
    "name": "ipython",
    "version": 3
   },
   "file_extension": ".py",
   "mimetype": "text/x-python",
   "name": "python",
   "nbconvert_exporter": "python",
   "pygments_lexer": "ipython3",
   "version": "3.6.3"
  }
 },
 "nbformat": 4,
 "nbformat_minor": 2
}
