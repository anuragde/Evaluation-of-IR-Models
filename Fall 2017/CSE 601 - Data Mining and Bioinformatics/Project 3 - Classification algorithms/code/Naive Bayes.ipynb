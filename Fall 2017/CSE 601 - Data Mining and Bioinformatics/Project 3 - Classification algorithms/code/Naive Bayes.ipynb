{
 "cells": [
  {
   "cell_type": "code",
   "execution_count": 30,
   "metadata": {
    "collapsed": true
   },
   "outputs": [],
   "source": [
    "import pandas as pd\n",
    "import numpy as np\n",
    "import math\n",
    "import operator\n",
    "from sklearn import preprocessing"
   ]
  },
  {
   "cell_type": "code",
   "execution_count": 31,
   "metadata": {
    "collapsed": true
   },
   "outputs": [],
   "source": [
    "filename = 'project3_dataset1.txt'\n",
    "dataframe = pd.read_csv(filename,delimiter='\\t',header=None)"
   ]
  },
  {
   "cell_type": "markdown",
   "metadata": {},
   "source": [
    "## Handling Categorical values"
   ]
  },
  {
   "cell_type": "code",
   "execution_count": 32,
   "metadata": {
    "collapsed": true
   },
   "outputs": [],
   "source": [
    "for x in range(dataframe.shape[1]):\n",
    "        if(dataframe[x].dtypes == 'object'):\n",
    "            dataframe[x] = dataframe[x].astype('category')\n",
    "            dataframe[x] = dataframe[x].cat.codes"
   ]
  },
  {
   "cell_type": "code",
   "execution_count": 33,
   "metadata": {
    "collapsed": true
   },
   "outputs": [],
   "source": [
    "dataframe_orig = dataframe\n",
    "dataframe = pd.DataFrame(preprocessing.normalize(dataframe.iloc[:,0:len(dataframe.columns)-1]))\n",
    "dataframe[len(dataframe.columns)] = dataframe_orig.iloc[:,len(dataframe.columns):]"
   ]
  },
  {
   "cell_type": "code",
   "execution_count": 34,
   "metadata": {},
   "outputs": [
    {
     "data": {
      "text/html": [
       "<div>\n",
       "<style>\n",
       "    .dataframe thead tr:only-child th {\n",
       "        text-align: right;\n",
       "    }\n",
       "\n",
       "    .dataframe thead th {\n",
       "        text-align: left;\n",
       "    }\n",
       "\n",
       "    .dataframe tbody tr th {\n",
       "        vertical-align: top;\n",
       "    }\n",
       "</style>\n",
       "<table border=\"1\" class=\"dataframe\">\n",
       "  <thead>\n",
       "    <tr style=\"text-align: right;\">\n",
       "      <th></th>\n",
       "      <th>0</th>\n",
       "      <th>1</th>\n",
       "      <th>2</th>\n",
       "      <th>3</th>\n",
       "      <th>4</th>\n",
       "      <th>5</th>\n",
       "      <th>6</th>\n",
       "      <th>7</th>\n",
       "      <th>8</th>\n",
       "      <th>9</th>\n",
       "      <th>...</th>\n",
       "      <th>21</th>\n",
       "      <th>22</th>\n",
       "      <th>23</th>\n",
       "      <th>24</th>\n",
       "      <th>25</th>\n",
       "      <th>26</th>\n",
       "      <th>27</th>\n",
       "      <th>28</th>\n",
       "      <th>29</th>\n",
       "      <th>30</th>\n",
       "    </tr>\n",
       "  </thead>\n",
       "  <tbody>\n",
       "    <tr>\n",
       "      <th>0</th>\n",
       "      <td>0.009344</td>\n",
       "      <td>0.013114</td>\n",
       "      <td>0.060903</td>\n",
       "      <td>0.585355</td>\n",
       "      <td>0.000045</td>\n",
       "      <td>0.000048</td>\n",
       "      <td>0.000067</td>\n",
       "      <td>0.000045</td>\n",
       "      <td>0.000081</td>\n",
       "      <td>0.000026</td>\n",
       "      <td>...</td>\n",
       "      <td>0.017756</td>\n",
       "      <td>0.071951</td>\n",
       "      <td>0.803528</td>\n",
       "      <td>0.000054</td>\n",
       "      <td>0.000089</td>\n",
       "      <td>0.000149</td>\n",
       "      <td>0.000076</td>\n",
       "      <td>0.000119</td>\n",
       "      <td>0.000031</td>\n",
       "      <td>1</td>\n",
       "    </tr>\n",
       "    <tr>\n",
       "      <th>1</th>\n",
       "      <td>0.013945</td>\n",
       "      <td>0.017586</td>\n",
       "      <td>0.092486</td>\n",
       "      <td>0.534398</td>\n",
       "      <td>0.000143</td>\n",
       "      <td>0.000190</td>\n",
       "      <td>0.000177</td>\n",
       "      <td>0.000091</td>\n",
       "      <td>0.000234</td>\n",
       "      <td>0.000085</td>\n",
       "      <td>...</td>\n",
       "      <td>0.026602</td>\n",
       "      <td>0.115818</td>\n",
       "      <td>0.830664</td>\n",
       "      <td>0.000201</td>\n",
       "      <td>0.000588</td>\n",
       "      <td>0.000600</td>\n",
       "      <td>0.000195</td>\n",
       "      <td>0.000446</td>\n",
       "      <td>0.000139</td>\n",
       "      <td>1</td>\n",
       "    </tr>\n",
       "    <tr>\n",
       "      <th>2</th>\n",
       "      <td>0.018747</td>\n",
       "      <td>0.033232</td>\n",
       "      <td>0.122739</td>\n",
       "      <td>0.656151</td>\n",
       "      <td>0.000134</td>\n",
       "      <td>0.000197</td>\n",
       "      <td>0.000154</td>\n",
       "      <td>0.000093</td>\n",
       "      <td>0.000432</td>\n",
       "      <td>0.000104</td>\n",
       "      <td>...</td>\n",
       "      <td>0.037178</td>\n",
       "      <td>0.130315</td>\n",
       "      <td>0.728576</td>\n",
       "      <td>0.000171</td>\n",
       "      <td>0.000307</td>\n",
       "      <td>0.000257</td>\n",
       "      <td>0.000155</td>\n",
       "      <td>0.000492</td>\n",
       "      <td>0.000117</td>\n",
       "      <td>0</td>\n",
       "    </tr>\n",
       "    <tr>\n",
       "      <th>3</th>\n",
       "      <td>0.018393</td>\n",
       "      <td>0.024765</td>\n",
       "      <td>0.117567</td>\n",
       "      <td>0.643353</td>\n",
       "      <td>0.000155</td>\n",
       "      <td>0.000111</td>\n",
       "      <td>0.000056</td>\n",
       "      <td>0.000046</td>\n",
       "      <td>0.000279</td>\n",
       "      <td>0.000094</td>\n",
       "      <td>...</td>\n",
       "      <td>0.035434</td>\n",
       "      <td>0.128622</td>\n",
       "      <td>0.743444</td>\n",
       "      <td>0.000191</td>\n",
       "      <td>0.000265</td>\n",
       "      <td>0.000225</td>\n",
       "      <td>0.000136</td>\n",
       "      <td>0.000431</td>\n",
       "      <td>0.000109</td>\n",
       "      <td>0</td>\n",
       "    </tr>\n",
       "    <tr>\n",
       "      <th>4</th>\n",
       "      <td>0.013505</td>\n",
       "      <td>0.014503</td>\n",
       "      <td>0.085667</td>\n",
       "      <td>0.614589</td>\n",
       "      <td>0.000070</td>\n",
       "      <td>0.000032</td>\n",
       "      <td>0.000013</td>\n",
       "      <td>0.000017</td>\n",
       "      <td>0.000151</td>\n",
       "      <td>0.000049</td>\n",
       "      <td>...</td>\n",
       "      <td>0.020104</td>\n",
       "      <td>0.095853</td>\n",
       "      <td>0.777179</td>\n",
       "      <td>0.000093</td>\n",
       "      <td>0.000066</td>\n",
       "      <td>0.000044</td>\n",
       "      <td>0.000054</td>\n",
       "      <td>0.000234</td>\n",
       "      <td>0.000053</td>\n",
       "      <td>0</td>\n",
       "    </tr>\n",
       "    <tr>\n",
       "      <th>5</th>\n",
       "      <td>0.012577</td>\n",
       "      <td>0.011691</td>\n",
       "      <td>0.084037</td>\n",
       "      <td>0.577521</td>\n",
       "      <td>0.000088</td>\n",
       "      <td>0.000175</td>\n",
       "      <td>0.000170</td>\n",
       "      <td>0.000080</td>\n",
       "      <td>0.000207</td>\n",
       "      <td>0.000058</td>\n",
       "      <td>...</td>\n",
       "      <td>0.015643</td>\n",
       "      <td>0.102566</td>\n",
       "      <td>0.804216</td>\n",
       "      <td>0.000114</td>\n",
       "      <td>0.000488</td>\n",
       "      <td>0.000517</td>\n",
       "      <td>0.000196</td>\n",
       "      <td>0.000383</td>\n",
       "      <td>0.000082</td>\n",
       "      <td>1</td>\n",
       "    </tr>\n",
       "    <tr>\n",
       "      <th>6</th>\n",
       "      <td>0.018166</td>\n",
       "      <td>0.026523</td>\n",
       "      <td>0.116422</td>\n",
       "      <td>0.665528</td>\n",
       "      <td>0.000187</td>\n",
       "      <td>0.000110</td>\n",
       "      <td>0.000091</td>\n",
       "      <td>0.000113</td>\n",
       "      <td>0.000308</td>\n",
       "      <td>0.000090</td>\n",
       "      <td>...</td>\n",
       "      <td>0.029014</td>\n",
       "      <td>0.121402</td>\n",
       "      <td>0.721752</td>\n",
       "      <td>0.000208</td>\n",
       "      <td>0.000128</td>\n",
       "      <td>0.000109</td>\n",
       "      <td>0.000137</td>\n",
       "      <td>0.000339</td>\n",
       "      <td>0.000092</td>\n",
       "      <td>0</td>\n",
       "    </tr>\n",
       "    <tr>\n",
       "      <th>7</th>\n",
       "      <td>0.014765</td>\n",
       "      <td>0.025524</td>\n",
       "      <td>0.095075</td>\n",
       "      <td>0.633546</td>\n",
       "      <td>0.000086</td>\n",
       "      <td>0.000073</td>\n",
       "      <td>0.000050</td>\n",
       "      <td>0.000025</td>\n",
       "      <td>0.000190</td>\n",
       "      <td>0.000058</td>\n",
       "      <td>...</td>\n",
       "      <td>0.028284</td>\n",
       "      <td>0.105233</td>\n",
       "      <td>0.758108</td>\n",
       "      <td>0.000101</td>\n",
       "      <td>0.000155</td>\n",
       "      <td>0.000146</td>\n",
       "      <td>0.000066</td>\n",
       "      <td>0.000286</td>\n",
       "      <td>0.000068</td>\n",
       "      <td>0</td>\n",
       "    </tr>\n",
       "    <tr>\n",
       "      <th>8</th>\n",
       "      <td>0.011752</td>\n",
       "      <td>0.020059</td>\n",
       "      <td>0.076370</td>\n",
       "      <td>0.558434</td>\n",
       "      <td>0.000080</td>\n",
       "      <td>0.000076</td>\n",
       "      <td>0.000096</td>\n",
       "      <td>0.000051</td>\n",
       "      <td>0.000128</td>\n",
       "      <td>0.000050</td>\n",
       "      <td>...</td>\n",
       "      <td>0.025888</td>\n",
       "      <td>0.094449</td>\n",
       "      <td>0.818247</td>\n",
       "      <td>0.000129</td>\n",
       "      <td>0.000184</td>\n",
       "      <td>0.000314</td>\n",
       "      <td>0.000119</td>\n",
       "      <td>0.000207</td>\n",
       "      <td>0.000074</td>\n",
       "      <td>1</td>\n",
       "    </tr>\n",
       "    <tr>\n",
       "      <th>9</th>\n",
       "      <td>0.008901</td>\n",
       "      <td>0.012227</td>\n",
       "      <td>0.059078</td>\n",
       "      <td>0.536740</td>\n",
       "      <td>0.000043</td>\n",
       "      <td>0.000079</td>\n",
       "      <td>0.000077</td>\n",
       "      <td>0.000035</td>\n",
       "      <td>0.000086</td>\n",
       "      <td>0.000029</td>\n",
       "      <td>...</td>\n",
       "      <td>0.014273</td>\n",
       "      <td>0.074552</td>\n",
       "      <td>0.837443</td>\n",
       "      <td>0.000070</td>\n",
       "      <td>0.000304</td>\n",
       "      <td>0.000281</td>\n",
       "      <td>0.000082</td>\n",
       "      <td>0.000170</td>\n",
       "      <td>0.000052</td>\n",
       "      <td>1</td>\n",
       "    </tr>\n",
       "  </tbody>\n",
       "</table>\n",
       "<p>10 rows × 31 columns</p>\n",
       "</div>"
      ],
      "text/plain": [
       "         0         1         2         3         4         5         6   \\\n",
       "0  0.009344  0.013114  0.060903  0.585355  0.000045  0.000048  0.000067   \n",
       "1  0.013945  0.017586  0.092486  0.534398  0.000143  0.000190  0.000177   \n",
       "2  0.018747  0.033232  0.122739  0.656151  0.000134  0.000197  0.000154   \n",
       "3  0.018393  0.024765  0.117567  0.643353  0.000155  0.000111  0.000056   \n",
       "4  0.013505  0.014503  0.085667  0.614589  0.000070  0.000032  0.000013   \n",
       "5  0.012577  0.011691  0.084037  0.577521  0.000088  0.000175  0.000170   \n",
       "6  0.018166  0.026523  0.116422  0.665528  0.000187  0.000110  0.000091   \n",
       "7  0.014765  0.025524  0.095075  0.633546  0.000086  0.000073  0.000050   \n",
       "8  0.011752  0.020059  0.076370  0.558434  0.000080  0.000076  0.000096   \n",
       "9  0.008901  0.012227  0.059078  0.536740  0.000043  0.000079  0.000077   \n",
       "\n",
       "         7         8         9  ...        21        22        23        24  \\\n",
       "0  0.000045  0.000081  0.000026 ...  0.017756  0.071951  0.803528  0.000054   \n",
       "1  0.000091  0.000234  0.000085 ...  0.026602  0.115818  0.830664  0.000201   \n",
       "2  0.000093  0.000432  0.000104 ...  0.037178  0.130315  0.728576  0.000171   \n",
       "3  0.000046  0.000279  0.000094 ...  0.035434  0.128622  0.743444  0.000191   \n",
       "4  0.000017  0.000151  0.000049 ...  0.020104  0.095853  0.777179  0.000093   \n",
       "5  0.000080  0.000207  0.000058 ...  0.015643  0.102566  0.804216  0.000114   \n",
       "6  0.000113  0.000308  0.000090 ...  0.029014  0.121402  0.721752  0.000208   \n",
       "7  0.000025  0.000190  0.000058 ...  0.028284  0.105233  0.758108  0.000101   \n",
       "8  0.000051  0.000128  0.000050 ...  0.025888  0.094449  0.818247  0.000129   \n",
       "9  0.000035  0.000086  0.000029 ...  0.014273  0.074552  0.837443  0.000070   \n",
       "\n",
       "         25        26        27        28        29  30  \n",
       "0  0.000089  0.000149  0.000076  0.000119  0.000031   1  \n",
       "1  0.000588  0.000600  0.000195  0.000446  0.000139   1  \n",
       "2  0.000307  0.000257  0.000155  0.000492  0.000117   0  \n",
       "3  0.000265  0.000225  0.000136  0.000431  0.000109   0  \n",
       "4  0.000066  0.000044  0.000054  0.000234  0.000053   0  \n",
       "5  0.000488  0.000517  0.000196  0.000383  0.000082   1  \n",
       "6  0.000128  0.000109  0.000137  0.000339  0.000092   0  \n",
       "7  0.000155  0.000146  0.000066  0.000286  0.000068   0  \n",
       "8  0.000184  0.000314  0.000119  0.000207  0.000074   1  \n",
       "9  0.000304  0.000281  0.000082  0.000170  0.000052   1  \n",
       "\n",
       "[10 rows x 31 columns]"
      ]
     },
     "execution_count": 34,
     "metadata": {},
     "output_type": "execute_result"
    }
   ],
   "source": [
    "dataframe.head(10)"
   ]
  },
  {
   "cell_type": "markdown",
   "metadata": {},
   "source": [
    "## Data Preparation"
   ]
  },
  {
   "cell_type": "code",
   "execution_count": 35,
   "metadata": {
    "collapsed": true
   },
   "outputs": [],
   "source": [
    "def prepareData(k,dataframe,fold_no):\n",
    "    length = int(len(dataframe)/k)\n",
    "    test = pd.DataFrame(dataframe,index=range(fold_no*length,fold_no*length + length))\n",
    "    train = dataframe.loc[~dataframe.index.isin(test.index)]\n",
    "    return train,test   "
   ]
  },
  {
   "cell_type": "markdown",
   "metadata": {},
   "source": [
    "## Naive Bayes Code"
   ]
  },
  {
   "cell_type": "code",
   "execution_count": 36,
   "metadata": {
    "collapsed": true
   },
   "outputs": [],
   "source": [
    "def separateByClass(dataset):\n",
    "    separated = {}\n",
    "    for i in range(len(dataset)):\n",
    "        vector = dataset[i]\n",
    "        if (vector[-1] not in separated):\n",
    "            separated[vector[-1]] = []\n",
    "        separated[vector[-1]].append(vector)\n",
    "    return separated"
   ]
  },
  {
   "cell_type": "code",
   "execution_count": 57,
   "metadata": {
    "collapsed": true
   },
   "outputs": [],
   "source": [
    "def mean(numbers):\n",
    "    return np.mean(numbers)"
   ]
  },
  {
   "cell_type": "code",
   "execution_count": 58,
   "metadata": {
    "collapsed": true
   },
   "outputs": [],
   "source": [
    "def stdev(numbers):\n",
    "    return np.std(numbers)"
   ]
  },
  {
   "cell_type": "code",
   "execution_count": 59,
   "metadata": {
    "collapsed": true
   },
   "outputs": [],
   "source": [
    "def summarize(dataset):\n",
    "    summaries = [(mean(attribute), stdev(attribute)) for attribute in zip(*dataset)]\n",
    "    del summaries[-1]\n",
    "    return summaries"
   ]
  },
  {
   "cell_type": "code",
   "execution_count": 60,
   "metadata": {
    "collapsed": true
   },
   "outputs": [],
   "source": [
    "def summarizeByClass(dataset):\n",
    "    separated = separateByClass(dataset)\n",
    "    summaries = {}\n",
    "    for classValue, instances in separated.items():\n",
    "        summaries[classValue] = summarize(instances)\n",
    "    return summaries"
   ]
  },
  {
   "cell_type": "code",
   "execution_count": 61,
   "metadata": {
    "collapsed": true
   },
   "outputs": [],
   "source": [
    "def calculateProbability(x, mean, stdev):\n",
    "    exponent = math.exp(-(math.pow(x-mean,2)/(2*math.pow(stdev,2))))\n",
    "    return (1 / (math.sqrt(2*math.pi) * stdev)) * exponent"
   ]
  },
  {
   "cell_type": "code",
   "execution_count": 62,
   "metadata": {
    "collapsed": true
   },
   "outputs": [],
   "source": [
    "def calculateClassProbabilities(summaries, inputVector):\n",
    "    probabilities = {}\n",
    "    for classValue, classSummaries in summaries.items():\n",
    "        probabilities[classValue] = 1\n",
    "        for i in range(len(classSummaries)):\n",
    "            mean, stdev = classSummaries[i]\n",
    "            x = inputVector[i]\n",
    "            probabilities[classValue] *= calculateProbability(x, mean, stdev)\n",
    "    return probabilities"
   ]
  },
  {
   "cell_type": "code",
   "execution_count": 63,
   "metadata": {
    "collapsed": true
   },
   "outputs": [],
   "source": [
    "def predict(summaries, inputVector):\n",
    "    probabilities = calculateClassProbabilities(summaries, inputVector)\n",
    "    bestLabel, bestProb = None, -1\n",
    "    for classValue, probability in probabilities.items():\n",
    "        if bestLabel is None or probability > bestProb:\n",
    "            bestProb = probability\n",
    "            bestLabel = classValue\n",
    "    return bestLabel"
   ]
  },
  {
   "cell_type": "code",
   "execution_count": 64,
   "metadata": {
    "collapsed": true
   },
   "outputs": [],
   "source": [
    "def getPredictions(summaries, testSet):\n",
    "    predictions = []\n",
    "    for i in range(len(testSet)):\n",
    "        result = predict(summaries, testSet[i])\n",
    "        predictions.append(result)\n",
    "    return predictions"
   ]
  },
  {
   "cell_type": "markdown",
   "metadata": {},
   "source": [
    "## Calculate Scores"
   ]
  },
  {
   "cell_type": "code",
   "execution_count": 65,
   "metadata": {
    "collapsed": true
   },
   "outputs": [],
   "source": [
    "def calcScores(TP,TN,FP,FN):\n",
    "    accuracy = (float(TP) + TN) / (TP + TN + FP + FN)\n",
    "    precision = (float(TP) / (TP + FP))\n",
    "    f_score = (2.0 * TP) / (2 * TP + FP + FN)\n",
    "    recall = (float(TP)) / (TP + FN)\n",
    "    scores = [accuracy,precision,f_score,recall]\n",
    "    print(\"Accuracy: \" + str(accuracy) + \"\\tPrecision: \" + str(precision))\n",
    "    print(\"F-Score: \" + str(f_score) + \"\\tRecall: \" + str(recall)+ \"\\n\")\n",
    "    return scores"
   ]
  },
  {
   "cell_type": "markdown",
   "metadata": {},
   "source": [
    "## Build Confusion matrix"
   ]
  },
  {
   "cell_type": "code",
   "execution_count": 66,
   "metadata": {
    "collapsed": true
   },
   "outputs": [],
   "source": [
    "def buildConfusionMatrix(testSet, predictions):\n",
    "    TP = 0\n",
    "    TN = 0\n",
    "    FP = 0\n",
    "    FN = 0\n",
    "    for x in range(len(testSet) - 1):\n",
    "        if testSet[x][-1] == predictions[x] and testSet[x][-1] == 1.0:\n",
    "            TP += 1\n",
    "        elif testSet[x][-1] == predictions[x] and testSet[x][-1] == 0.0:\n",
    "            TN += 1\n",
    "        elif testSet[x][-1] != predictions[x] and testSet[x][-1] == 1.0:\n",
    "            FN += 1\n",
    "        else:\n",
    "            FP += 1\n",
    "    return ([TP, TN, FP, FN])"
   ]
  },
  {
   "cell_type": "markdown",
   "metadata": {},
   "source": [
    "## Evaluate Algorithm"
   ]
  },
  {
   "cell_type": "code",
   "execution_count": 168,
   "metadata": {
    "collapsed": true
   },
   "outputs": [],
   "source": [
    "# Evaluate an algorithm using a cross validation split\n",
    "def evaluate_algorithm(dataset, n_folds, *args):\n",
    "    folds_scores = dict()\n",
    "    counter = 0\n",
    "    sumAccuracy = 0\n",
    "    sumPrecision = 0\n",
    "    sumFScore = 0 \n",
    "    sumRecall = 0\n",
    "    for x in range(n_folds):\n",
    "        train_set,test_set = prepareData(n_folds,dataset,x)\n",
    "        train_set = train_set.values.tolist()\n",
    "        test_set = test_set.values.tolist()\n",
    "        test = pd.DataFrame(test_set)\n",
    "        test = test.values.tolist()\n",
    "        print('Train set: ' + repr(len(train_set)))\n",
    "        print('Test set: ' + repr(len(test_set)) + '\\n')    \n",
    "        for y in range(len(test_set)):\n",
    "            summaries = summarizeByClass(train_set)\n",
    "            predictions = getPredictions(summaries, test_set)\n",
    "        [TP, TN, FP, FN] = buildConfusionMatrix(test_set, predictions)\n",
    "        print('Scores for fold ' + str(x+1) + ' are: \\n')\n",
    "        folds_scores[counter] = calcScores(TP,TN,FP,FN)\n",
    "        counter += 1\n",
    "    for z in range(counter):\n",
    "        sumAccuracy += folds_scores[z][0]\n",
    "        sumPrecision += folds_scores[z][1]\n",
    "        sumFScore += folds_scores[z][2]\n",
    "        sumRecall += folds_scores[z][3]\n",
    "    print('Average accuracy is: ' + repr(sumAccuracy/n_folds))\n",
    "    print('Average precision is: ' + repr(sumPrecision/n_folds))\n",
    "    print('Average f-score is: ' + repr(sumFScore/n_folds))\n",
    "    print('Average recall is: ' + repr(sumRecall/n_folds))\n",
    "    return folds_scores"
   ]
  },
  {
   "cell_type": "code",
   "execution_count": 169,
   "metadata": {
    "collapsed": true
   },
   "outputs": [],
   "source": [
    "def main():\n",
    "    n_folds = 10\n",
    "    folds_scores = evaluate_algorithm(dataframe, n_folds)"
   ]
  },
  {
   "cell_type": "code",
   "execution_count": 170,
   "metadata": {},
   "outputs": [
    {
     "name": "stdout",
     "output_type": "stream",
     "text": [
      "Train set: 513\n",
      "Test set: 56\n",
      "\n",
      "Scores for fold 1 are: \n",
      "\n",
      "Accuracy: 0.8\tPrecision: 0.6774193548387096\n",
      "F-Score: 0.7924528301886793\tRecall: 0.9545454545454546\n",
      "\n",
      "Train set: 513\n",
      "Test set: 56\n",
      "\n",
      "Scores for fold 2 are: \n",
      "\n",
      "Accuracy: 0.7818181818181819\tPrecision: 0.6153846153846154\n",
      "F-Score: 0.7272727272727273\tRecall: 0.8888888888888888\n",
      "\n",
      "Train set: 513\n",
      "Test set: 56\n",
      "\n",
      "Scores for fold 3 are: \n",
      "\n",
      "Accuracy: 0.7454545454545455\tPrecision: 0.45\n",
      "F-Score: 0.5625\tRecall: 0.75\n",
      "\n",
      "Train set: 513\n",
      "Test set: 56\n",
      "\n",
      "Scores for fold 4 are: \n",
      "\n",
      "Accuracy: 0.7636363636363637\tPrecision: 0.6206896551724138\n",
      "F-Score: 0.7346938775510204\tRecall: 0.9\n",
      "\n",
      "Train set: 513\n",
      "Test set: 56\n",
      "\n",
      "Scores for fold 5 are: \n",
      "\n",
      "Accuracy: 0.8\tPrecision: 0.6666666666666666\n",
      "F-Score: 0.7843137254901961\tRecall: 0.9523809523809523\n",
      "\n",
      "Train set: 513\n",
      "Test set: 56\n",
      "\n",
      "Scores for fold 6 are: \n",
      "\n",
      "Accuracy: 0.7818181818181819\tPrecision: 0.6666666666666666\n",
      "F-Score: 0.7272727272727273\tRecall: 0.8\n",
      "\n",
      "Train set: 513\n",
      "Test set: 56\n",
      "\n",
      "Scores for fold 7 are: \n",
      "\n",
      "Accuracy: 0.8545454545454545\tPrecision: 0.7575757575757576\n",
      "F-Score: 0.8620689655172413\tRecall: 1.0\n",
      "\n",
      "Train set: 513\n",
      "Test set: 56\n",
      "\n",
      "Scores for fold 8 are: \n",
      "\n",
      "Accuracy: 0.8909090909090909\tPrecision: 0.7647058823529411\n",
      "F-Score: 0.8125\tRecall: 0.8666666666666667\n",
      "\n",
      "Train set: 513\n",
      "Test set: 56\n",
      "\n",
      "Scores for fold 9 are: \n",
      "\n",
      "Accuracy: 0.8363636363636363\tPrecision: 0.8\n",
      "F-Score: 0.8421052631578947\tRecall: 0.8888888888888888\n",
      "\n",
      "Train set: 513\n",
      "Test set: 56\n",
      "\n",
      "Scores for fold 10 are: \n",
      "\n",
      "Accuracy: 0.8363636363636363\tPrecision: 0.7741935483870968\n",
      "F-Score: 0.8421052631578947\tRecall: 0.9230769230769231\n",
      "\n",
      "Average accuracy is: 0.8090909090909092\n",
      "Average precision is: 0.6793302147044867\n",
      "Average f-score is: 0.7687285379608381\n",
      "Average recall is: 0.8924447774447775\n"
     ]
    }
   ],
   "source": [
    "main()"
   ]
  },
  {
   "cell_type": "markdown",
   "metadata": {
    "collapsed": true
   },
   "source": [
    "References: https://machinelearningmastery.com/naive-bayes-classifier-scratch-python/"
   ]
  },
  {
   "cell_type": "code",
   "execution_count": null,
   "metadata": {
    "collapsed": true
   },
   "outputs": [],
   "source": []
  }
 ],
 "metadata": {
  "kernelspec": {
   "display_name": "Python 3",
   "language": "python",
   "name": "python3"
  },
  "language_info": {
   "codemirror_mode": {
    "name": "ipython",
    "version": 3
   },
   "file_extension": ".py",
   "mimetype": "text/x-python",
   "name": "python",
   "nbconvert_exporter": "python",
   "pygments_lexer": "ipython3",
   "version": "3.6.3"
  }
 },
 "nbformat": 4,
 "nbformat_minor": 2
}
